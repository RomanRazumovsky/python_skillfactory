{
 "cells": [
  {
   "cell_type": "code",
   "execution_count": 1,
   "id": "deb05602",
   "metadata": {
    "_cell_guid": "b1076dfc-b9ad-4769-8c92-a6c4dae69d19",
    "_uuid": "8f2839f25d086af736a60e9eeb907d3b93b6e0e5",
    "execution": {
     "iopub.execute_input": "2021-12-19T19:01:54.316287Z",
     "iopub.status.busy": "2021-12-19T19:01:54.314808Z",
     "iopub.status.idle": "2021-12-19T19:02:00.799356Z",
     "shell.execute_reply": "2021-12-19T19:02:00.798793Z",
     "shell.execute_reply.started": "2021-12-19T18:42:35.068467Z"
    },
    "papermill": {
     "duration": 6.51916,
     "end_time": "2021-12-19T19:02:00.799505",
     "exception": false,
     "start_time": "2021-12-19T19:01:54.280345",
     "status": "completed"
    },
    "tags": []
   },
   "outputs": [
    {
     "data": {
      "text/plain": [
       "'2.6.2'"
      ]
     },
     "execution_count": 1,
     "metadata": {},
     "output_type": "execute_result"
    }
   ],
   "source": [
    "import numpy as np\n",
    "import pandas as pd\n",
    "import re\n",
    "import matplotlib.pyplot as plt\n",
    "pd.set_option('max_columns', 999)\n",
    "pd.set_option('max_rows', 10)\n",
    "from sklearn.model_selection import train_test_split\n",
    "from sklearn.inspection import permutation_importance\n",
    "from sklearn.feature_extraction.text import CountVectorizer\n",
    "from sklearn.linear_model import LinearRegression\n",
    "from scipy.optimize import minimize\n",
    "from xgboost import XGBClassifier\n",
    "from catboost import CatBoostRegressor\n",
    "from scipy.sparse import hstack\n",
    "import seaborn as sns\n",
    "#from natasha import Doc, Segmenter, MorphVocab, NewsEmbedding, NewsMorphTagger\n",
    "import time\n",
    "import tensorflow as tf\n",
    "from tensorflow import keras\n",
    "from tensorflow.keras import layers\n",
    "from nltk.stem import SnowballStemmer\n",
    "input_path = '/kaggle/input/sf-dst-car-price-prediction-part2/'\n",
    "tf.__version__"
   ]
  },
  {
   "cell_type": "code",
   "execution_count": 2,
   "id": "23553e6e",
   "metadata": {
    "execution": {
     "iopub.execute_input": "2021-12-19T19:02:02.901230Z",
     "iopub.status.busy": "2021-12-19T19:02:02.898262Z",
     "iopub.status.idle": "2021-12-19T19:02:02.905745Z",
     "shell.execute_reply": "2021-12-19T19:02:02.906283Z",
     "shell.execute_reply.started": "2021-12-19T18:38:43.308303Z"
    },
    "papermill": {
     "duration": 2.074976,
     "end_time": "2021-12-19T19:02:02.906459",
     "exception": false,
     "start_time": "2021-12-19T19:02:00.831483",
     "status": "completed"
    },
    "tags": []
   },
   "outputs": [
    {
     "name": "stdout",
     "output_type": "stream",
     "text": [
      "[name: \"/device:CPU:0\"\n",
      "device_type: \"CPU\"\n",
      "memory_limit: 268435456\n",
      "locality {\n",
      "}\n",
      "incarnation: 5266184957748777956\n",
      ", name: \"/device:GPU:0\"\n",
      "device_type: \"GPU\"\n",
      "memory_limit: 16152002560\n",
      "locality {\n",
      "  bus_id: 1\n",
      "  links {\n",
      "  }\n",
      "}\n",
      "incarnation: 9402622476573074092\n",
      "physical_device_desc: \"device: 0, name: Tesla P100-PCIE-16GB, pci bus id: 0000:00:04.0, compute capability: 6.0\"\n",
      "]\n"
     ]
    },
    {
     "name": "stderr",
     "output_type": "stream",
     "text": [
      "2021-12-19 19:02:00.865494: I tensorflow/core/platform/cpu_feature_guard.cc:142] This TensorFlow binary is optimized with oneAPI Deep Neural Network Library (oneDNN) to use the following CPU instructions in performance-critical operations:  AVX2 AVX512F FMA\n",
      "To enable them in other operations, rebuild TensorFlow with the appropriate compiler flags.\n",
      "2021-12-19 19:02:00.926437: I tensorflow/stream_executor/cuda/cuda_gpu_executor.cc:937] successful NUMA node read from SysFS had negative value (-1), but there must be at least one NUMA node, so returning NUMA node zero\n",
      "2021-12-19 19:02:01.022104: I tensorflow/stream_executor/cuda/cuda_gpu_executor.cc:937] successful NUMA node read from SysFS had negative value (-1), but there must be at least one NUMA node, so returning NUMA node zero\n",
      "2021-12-19 19:02:01.022798: I tensorflow/stream_executor/cuda/cuda_gpu_executor.cc:937] successful NUMA node read from SysFS had negative value (-1), but there must be at least one NUMA node, so returning NUMA node zero\n",
      "2021-12-19 19:02:02.890114: I tensorflow/stream_executor/cuda/cuda_gpu_executor.cc:937] successful NUMA node read from SysFS had negative value (-1), but there must be at least one NUMA node, so returning NUMA node zero\n",
      "2021-12-19 19:02:02.890938: I tensorflow/stream_executor/cuda/cuda_gpu_executor.cc:937] successful NUMA node read from SysFS had negative value (-1), but there must be at least one NUMA node, so returning NUMA node zero\n",
      "2021-12-19 19:02:02.891636: I tensorflow/stream_executor/cuda/cuda_gpu_executor.cc:937] successful NUMA node read from SysFS had negative value (-1), but there must be at least one NUMA node, so returning NUMA node zero\n",
      "2021-12-19 19:02:02.892358: I tensorflow/core/common_runtime/gpu/gpu_device.cc:1510] Created device /device:GPU:0 with 15403 MB memory:  -> device: 0, name: Tesla P100-PCIE-16GB, pci bus id: 0000:00:04.0, compute capability: 6.0\n"
     ]
    }
   ],
   "source": [
    "from tensorflow.python.client import device_lib\n",
    "print(device_lib.list_local_devices())"
   ]
  },
  {
   "cell_type": "code",
   "execution_count": 3,
   "id": "3a450ec1",
   "metadata": {
    "execution": {
     "iopub.execute_input": "2021-12-19T19:02:02.977854Z",
     "iopub.status.busy": "2021-12-19T19:02:02.976952Z",
     "iopub.status.idle": "2021-12-19T19:02:02.979130Z",
     "shell.execute_reply": "2021-12-19T19:02:02.979517Z",
     "shell.execute_reply.started": "2021-12-19T18:38:45.273634Z"
    },
    "papermill": {
     "duration": 0.039206,
     "end_time": "2021-12-19T19:02:02.979656",
     "exception": false,
     "start_time": "2021-12-19T19:02:02.940450",
     "status": "completed"
    },
    "tags": []
   },
   "outputs": [],
   "source": [
    "def mape(y_true, y_pred): \n",
    "    return np.mean(np.abs((y_true - y_pred) / y_true)) * 100"
   ]
  },
  {
   "cell_type": "markdown",
   "id": "a6c37811",
   "metadata": {
    "papermill": {
     "duration": 0.035156,
     "end_time": "2021-12-19T19:02:03.047841",
     "exception": false,
     "start_time": "2021-12-19T19:02:03.012685",
     "status": "completed"
    },
    "tags": []
   },
   "source": [
    "## EDA & feature engineering"
   ]
  },
  {
   "cell_type": "code",
   "execution_count": 4,
   "id": "8eda3bb5",
   "metadata": {
    "execution": {
     "iopub.execute_input": "2021-12-19T19:02:03.118976Z",
     "iopub.status.busy": "2021-12-19T19:02:03.118364Z",
     "iopub.status.idle": "2021-12-19T19:02:03.615351Z",
     "shell.execute_reply": "2021-12-19T19:02:03.615939Z",
     "shell.execute_reply.started": "2021-12-19T18:38:50.112008Z"
    },
    "papermill": {
     "duration": 0.535181,
     "end_time": "2021-12-19T19:02:03.616148",
     "exception": false,
     "start_time": "2021-12-19T19:02:03.080967",
     "status": "completed"
    },
    "tags": []
   },
   "outputs": [
    {
     "name": "stdout",
     "output_type": "stream",
     "text": [
      "(6682, 23) (1671, 23) (8353, 23)\n"
     ]
    }
   ],
   "source": [
    "df = pd.read_csv(input_path + 'train.csv')\n",
    "df['sample'] = 1\n",
    "test = pd.read_csv(input_path + 'test.csv')\n",
    "test['price'] = 0\n",
    "test['sample'] = 0\n",
    "data = test.append(df, sort=False).reset_index(drop=True)\n",
    "\n",
    "print(df.shape, test.shape, data.shape)"
   ]
  },
  {
   "cell_type": "code",
   "execution_count": 5,
   "id": "f0d671c2",
   "metadata": {
    "execution": {
     "iopub.execute_input": "2021-12-19T19:02:03.693799Z",
     "iopub.status.busy": "2021-12-19T19:02:03.679624Z",
     "iopub.status.idle": "2021-12-19T19:02:58.773706Z",
     "shell.execute_reply": "2021-12-19T19:02:58.772822Z",
     "shell.execute_reply.started": "2021-12-19T18:43:31.164283Z"
    },
    "papermill": {
     "duration": 55.126197,
     "end_time": "2021-12-19T19:02:58.773845",
     "exception": false,
     "start_time": "2021-12-19T19:02:03.647648",
     "status": "completed"
    },
    "tags": []
   },
   "outputs": [],
   "source": [
    "# Нормализуем описания\n",
    "snowball = SnowballStemmer(language='russian')\n",
    "\n",
    "def normalize(s):\n",
    "    try:\n",
    "        return ' '.join([re.sub('[^а-яА-Я]+', '', snowball.stem(x)) for x in s.split()])\n",
    "    except:\n",
    "        return None\n",
    "\n",
    "data['description_norm'] = data['description'].apply(normalize)"
   ]
  },
  {
   "cell_type": "code",
   "execution_count": 6,
   "id": "55659d33",
   "metadata": {
    "execution": {
     "iopub.execute_input": "2021-12-19T19:02:58.845115Z",
     "iopub.status.busy": "2021-12-19T19:02:58.843433Z",
     "iopub.status.idle": "2021-12-19T19:02:58.847316Z",
     "shell.execute_reply": "2021-12-19T19:02:58.846689Z",
     "shell.execute_reply.started": "2021-12-19T18:43:10.551429Z"
    },
    "papermill": {
     "duration": 0.042826,
     "end_time": "2021-12-19T19:02:58.847456",
     "exception": false,
     "start_time": "2021-12-19T19:02:58.804630",
     "status": "completed"
    },
    "tags": []
   },
   "outputs": [
    {
     "name": "stdout",
     "output_type": "stream",
     "text": [
      "Отрываю от сердца этого красавца. Да, он не в идеальном состоянии, но к сожалению у самого нет таких средств, чтобы заняться полным восстановлением. Поэтому решил отдать в хорошие руки, тем, кто сможет довезти до ума эту уникальную машину. \n",
      "Автомобиль БЕЗ права отчуждения!!! Возможно ездить по доверенности. В ПТС указано 150 л.с., по факту 231 л.с.\n",
      "----------------------------------------------------------------------------------------------------\n",
      "отрыва от сердц эт красавца да он не в идеальн состоянии но к сожален у сам нет так средств чтоб заня полн восстановлением поэт реш отда в хорош руки тем кто сможет довезт до ум эт уникальн машину автомобил без прав отчуждения возможн езд по доверенности в птс указа  лс по факт  лс\n"
     ]
    }
   ],
   "source": [
    "i=10\n",
    "print(data['description'].iloc[i])\n",
    "print('-'*100)\n",
    "print(normalize(data['description'].iloc[i]))"
   ]
  },
  {
   "cell_type": "code",
   "execution_count": 7,
   "id": "0b6e94f7",
   "metadata": {
    "execution": {
     "iopub.execute_input": "2021-12-19T19:02:58.914001Z",
     "iopub.status.busy": "2021-12-19T19:02:58.913250Z",
     "iopub.status.idle": "2021-12-19T19:02:58.930406Z",
     "shell.execute_reply": "2021-12-19T19:02:58.929957Z",
     "shell.execute_reply.started": "2021-12-19T18:44:25.525225Z"
    },
    "papermill": {
     "duration": 0.051484,
     "end_time": "2021-12-19T19:02:58.930519",
     "exception": false,
     "start_time": "2021-12-19T19:02:58.879035",
     "status": "completed"
    },
    "tags": []
   },
   "outputs": [
    {
     "data": {
      "text/html": [
       "<div>\n",
       "<style scoped>\n",
       "    .dataframe tbody tr th:only-of-type {\n",
       "        vertical-align: middle;\n",
       "    }\n",
       "\n",
       "    .dataframe tbody tr th {\n",
       "        vertical-align: top;\n",
       "    }\n",
       "\n",
       "    .dataframe thead th {\n",
       "        text-align: right;\n",
       "    }\n",
       "</style>\n",
       "<table border=\"1\" class=\"dataframe\">\n",
       "  <thead>\n",
       "    <tr style=\"text-align: right;\">\n",
       "      <th></th>\n",
       "      <th>description</th>\n",
       "      <th>description_norm</th>\n",
       "    </tr>\n",
       "  </thead>\n",
       "  <tbody>\n",
       "    <tr>\n",
       "      <th>0</th>\n",
       "      <td>Всем привет!\\n\\nПродам эксклюзивный проект 124...</td>\n",
       "      <td>всем привет прод эксклюзивн проект  универса  ...</td>\n",
       "    </tr>\n",
       "    <tr>\n",
       "      <th>1</th>\n",
       "      <td>Продаю любимейшую тачилу.. Обвес и тюнинг Hamm...</td>\n",
       "      <td>прода любим тачилу обвес и тюнинг  пот что сов...</td>\n",
       "    </tr>\n",
       "    <tr>\n",
       "      <th>2</th>\n",
       "      <td>Машина тут продаётся не в первый раз, НО! Толь...</td>\n",
       "      <td>машин тут прода не в перв раз но тольк что пер...</td>\n",
       "    </tr>\n",
       "    <tr>\n",
       "      <th>3</th>\n",
       "      <td>Автомобиль в отличном состоянии, весь в родной...</td>\n",
       "      <td>автомобил в отличн состоянии ве в родн краск  ...</td>\n",
       "    </tr>\n",
       "    <tr>\n",
       "      <th>4</th>\n",
       "      <td>Немка! с бесключивым доступом и камерой заднег...</td>\n",
       "      <td>немка с бесключив доступ и камер задн вида авт...</td>\n",
       "    </tr>\n",
       "    <tr>\n",
       "      <th>...</th>\n",
       "      <td>...</td>\n",
       "      <td>...</td>\n",
       "    </tr>\n",
       "    <tr>\n",
       "      <th>8348</th>\n",
       "      <td>Продаётся любимый автомобиль! За годы эксплуат...</td>\n",
       "      <td>прода любим автомобиль за год эксплуатац машин...</td>\n",
       "    </tr>\n",
       "    <tr>\n",
       "      <th>8349</th>\n",
       "      <td>Куплена у официального дилера в 2017 г. \\n\\nТр...</td>\n",
       "      <td>купл у официальн дилер в  г трет владелец все ...</td>\n",
       "    </tr>\n",
       "    <tr>\n",
       "      <th>8350</th>\n",
       "      <td>Торг на месте. Все работает. Сборка немецкая. ...</td>\n",
       "      <td>торг на месте все работает сборк немецкая рези...</td>\n",
       "    </tr>\n",
       "    <tr>\n",
       "      <th>8351</th>\n",
       "      <td>Автомобиль в отличном состоянии.\\n3-из Авто в ...</td>\n",
       "      <td>автомобил в отличн состоянии из авт в сем  обс...</td>\n",
       "    </tr>\n",
       "    <tr>\n",
       "      <th>8352</th>\n",
       "      <td>Удлиненный заводской Pullman на базе W140 (воо...</td>\n",
       "      <td>удлинен заводск  на баз  вообщет правильн заво...</td>\n",
       "    </tr>\n",
       "  </tbody>\n",
       "</table>\n",
       "<p>8353 rows × 2 columns</p>\n",
       "</div>"
      ],
      "text/plain": [
       "                                            description  \\\n",
       "0     Всем привет!\\n\\nПродам эксклюзивный проект 124...   \n",
       "1     Продаю любимейшую тачилу.. Обвес и тюнинг Hamm...   \n",
       "2     Машина тут продаётся не в первый раз, НО! Толь...   \n",
       "3     Автомобиль в отличном состоянии, весь в родной...   \n",
       "4     Немка! с бесключивым доступом и камерой заднег...   \n",
       "...                                                 ...   \n",
       "8348  Продаётся любимый автомобиль! За годы эксплуат...   \n",
       "8349  Куплена у официального дилера в 2017 г. \\n\\nТр...   \n",
       "8350  Торг на месте. Все работает. Сборка немецкая. ...   \n",
       "8351  Автомобиль в отличном состоянии.\\n3-из Авто в ...   \n",
       "8352  Удлиненный заводской Pullman на базе W140 (воо...   \n",
       "\n",
       "                                       description_norm  \n",
       "0     всем привет прод эксклюзивн проект  универса  ...  \n",
       "1     прода любим тачилу обвес и тюнинг  пот что сов...  \n",
       "2     машин тут прода не в перв раз но тольк что пер...  \n",
       "3     автомобил в отличн состоянии ве в родн краск  ...  \n",
       "4     немка с бесключив доступ и камер задн вида авт...  \n",
       "...                                                 ...  \n",
       "8348  прода любим автомобиль за год эксплуатац машин...  \n",
       "8349  купл у официальн дилер в  г трет владелец все ...  \n",
       "8350  торг на месте все работает сборк немецкая рези...  \n",
       "8351  автомобил в отличн состоянии из авт в сем  обс...  \n",
       "8352  удлинен заводск  на баз  вообщет правильн заво...  \n",
       "\n",
       "[8353 rows x 2 columns]"
      ]
     },
     "execution_count": 7,
     "metadata": {},
     "output_type": "execute_result"
    }
   ],
   "source": [
    "data[['description','description_norm']]"
   ]
  },
  {
   "cell_type": "code",
   "execution_count": 8,
   "id": "f144ed2e",
   "metadata": {
    "execution": {
     "iopub.execute_input": "2021-12-19T19:02:59.003992Z",
     "iopub.status.busy": "2021-12-19T19:02:59.003423Z",
     "iopub.status.idle": "2021-12-19T19:02:59.618504Z",
     "shell.execute_reply": "2021-12-19T19:02:59.618969Z",
     "shell.execute_reply.started": "2021-12-19T18:44:25.551747Z"
    },
    "papermill": {
     "duration": 0.655379,
     "end_time": "2021-12-19T19:02:59.619156",
     "exception": false,
     "start_time": "2021-12-19T19:02:58.963777",
     "status": "completed"
    },
    "tags": []
   },
   "outputs": [],
   "source": [
    "# Результаты из CV-ноутбука\n",
    "CV_prediction = pd.read_csv('/kaggle/input/cars-cv-model/CV_model_predictions.csv')[['sell_id','train','CV_prediction']]"
   ]
  },
  {
   "cell_type": "code",
   "execution_count": 9,
   "id": "3fcd1d87",
   "metadata": {
    "execution": {
     "iopub.execute_input": "2021-12-19T19:02:59.685625Z",
     "iopub.status.busy": "2021-12-19T19:02:59.684866Z",
     "iopub.status.idle": "2021-12-19T19:02:59.705450Z",
     "shell.execute_reply": "2021-12-19T19:02:59.704986Z",
     "shell.execute_reply.started": "2021-12-19T18:44:26.152160Z"
    },
    "papermill": {
     "duration": 0.054498,
     "end_time": "2021-12-19T19:02:59.705557",
     "exception": false,
     "start_time": "2021-12-19T19:02:59.651059",
     "status": "completed"
    },
    "tags": []
   },
   "outputs": [],
   "source": [
    "data = data.merge(CV_prediction, on ='sell_id')"
   ]
  },
  {
   "cell_type": "code",
   "execution_count": 10,
   "id": "2d2fb05d",
   "metadata": {
    "execution": {
     "iopub.execute_input": "2021-12-19T19:02:59.773762Z",
     "iopub.status.busy": "2021-12-19T19:02:59.772835Z",
     "iopub.status.idle": "2021-12-19T19:02:59.856336Z",
     "shell.execute_reply": "2021-12-19T19:02:59.855896Z",
     "shell.execute_reply.started": "2021-12-19T18:44:26.176873Z"
    },
    "papermill": {
     "duration": 0.12005,
     "end_time": "2021-12-19T19:02:59.856450",
     "exception": false,
     "start_time": "2021-12-19T19:02:59.736400",
     "status": "completed"
    },
    "tags": []
   },
   "outputs": [],
   "source": [
    "# Заменяем длинные типичные объявления (в основном РОЛЬФ)\n",
    "top_description = list(data.groupby('description')[['sell_id']].count().sort_values('sell_id', ascending = False).head(40).index)\n",
    "top_description = {x : 'top_description_' + str(i) for (i,x) in enumerate(top_description)}\n",
    "data['description'] = data['description'].replace(top_description)"
   ]
  },
  {
   "cell_type": "code",
   "execution_count": 11,
   "id": "a2ca8862",
   "metadata": {
    "execution": {
     "iopub.execute_input": "2021-12-19T19:02:59.925852Z",
     "iopub.status.busy": "2021-12-19T19:02:59.925105Z",
     "iopub.status.idle": "2021-12-19T19:03:00.048720Z",
     "shell.execute_reply": "2021-12-19T19:03:00.049336Z",
     "shell.execute_reply.started": "2021-12-19T18:44:26.271645Z"
    },
    "papermill": {
     "duration": 0.162238,
     "end_time": "2021-12-19T19:03:00.049505",
     "exception": false,
     "start_time": "2021-12-19T19:02:59.887267",
     "status": "completed"
    },
    "tags": []
   },
   "outputs": [
    {
     "name": "stderr",
     "output_type": "stream",
     "text": [
      "/opt/conda/lib/python3.7/site-packages/pandas/core/arraylike.py:364: RuntimeWarning: divide by zero encountered in log\n",
      "  result = getattr(ufunc, method)(*inputs, **kwargs)\n"
     ]
    }
   ],
   "source": [
    "def extract(s):\n",
    "    try:\n",
    "        return float(s.split()[0])\n",
    "    except:\n",
    "        return -1\n",
    "\n",
    "def extract_ownership(s):\n",
    "    try:\n",
    "        return float(s.split()[0]) + float(s.split()[-2])/12\n",
    "    except:\n",
    "        return -1\n",
    "\n",
    "data['log_price'] = np.log(data.price)\n",
    "data['engineDisplacement_num'] = data['engineDisplacement'].apply(lambda s: extract(s))\n",
    "data['enginePower_num'] = data['enginePower'].apply(lambda s: extract(s))\n",
    "data['ownership'] = data['Владение'].apply(lambda s: extract_ownership(s))\n",
    "data['description_length'] = data['description'].apply(lambda s: len(s))\n",
    "data['description_words_count'] = data['description'].apply(lambda s: len(s.split()))"
   ]
  },
  {
   "cell_type": "code",
   "execution_count": 12,
   "id": "7837c4ea",
   "metadata": {
    "execution": {
     "iopub.execute_input": "2021-12-19T19:03:00.124848Z",
     "iopub.status.busy": "2021-12-19T19:03:00.124003Z",
     "iopub.status.idle": "2021-12-19T19:03:00.155650Z",
     "shell.execute_reply": "2021-12-19T19:03:00.156184Z",
     "shell.execute_reply.started": "2021-12-19T18:44:26.397028Z"
    },
    "papermill": {
     "duration": 0.071966,
     "end_time": "2021-12-19T19:03:00.156333",
     "exception": false,
     "start_time": "2021-12-19T19:03:00.084367",
     "status": "completed"
    },
    "tags": []
   },
   "outputs": [
    {
     "data": {
      "text/html": [
       "<div>\n",
       "<style scoped>\n",
       "    .dataframe tbody tr th:only-of-type {\n",
       "        vertical-align: middle;\n",
       "    }\n",
       "\n",
       "    .dataframe tbody tr th {\n",
       "        vertical-align: top;\n",
       "    }\n",
       "\n",
       "    .dataframe thead th {\n",
       "        text-align: right;\n",
       "    }\n",
       "</style>\n",
       "<table border=\"1\" class=\"dataframe\">\n",
       "  <thead>\n",
       "    <tr style=\"text-align: right;\">\n",
       "      <th></th>\n",
       "      <th>bodyType</th>\n",
       "      <th>brand</th>\n",
       "      <th>color</th>\n",
       "      <th>description</th>\n",
       "      <th>engineDisplacement</th>\n",
       "      <th>enginePower</th>\n",
       "      <th>fuelType</th>\n",
       "      <th>mileage</th>\n",
       "      <th>modelDate</th>\n",
       "      <th>model_info</th>\n",
       "      <th>name</th>\n",
       "      <th>numberOfDoors</th>\n",
       "      <th>productionDate</th>\n",
       "      <th>sell_id</th>\n",
       "      <th>vehicleConfiguration</th>\n",
       "      <th>vehicleTransmission</th>\n",
       "      <th>Владельцы</th>\n",
       "      <th>Владение</th>\n",
       "      <th>ПТС</th>\n",
       "      <th>Привод</th>\n",
       "      <th>Руль</th>\n",
       "      <th>price</th>\n",
       "      <th>sample</th>\n",
       "      <th>description_norm</th>\n",
       "      <th>train</th>\n",
       "      <th>CV_prediction</th>\n",
       "      <th>log_price</th>\n",
       "      <th>engineDisplacement_num</th>\n",
       "      <th>enginePower_num</th>\n",
       "      <th>ownership</th>\n",
       "      <th>description_length</th>\n",
       "      <th>description_words_count</th>\n",
       "    </tr>\n",
       "  </thead>\n",
       "  <tbody>\n",
       "    <tr>\n",
       "      <th>5561</th>\n",
       "      <td>седан</td>\n",
       "      <td>BMW</td>\n",
       "      <td>чёрный</td>\n",
       "      <td>Авто нет даже года,без аварий,стояние новой ма...</td>\n",
       "      <td>2.0 LTR</td>\n",
       "      <td>184 N12</td>\n",
       "      <td>бензин</td>\n",
       "      <td>5000</td>\n",
       "      <td>2016</td>\n",
       "      <td>5ER</td>\n",
       "      <td>520i 2.0 AT (184 л.с.)</td>\n",
       "      <td>4</td>\n",
       "      <td>2018</td>\n",
       "      <td>1099352264</td>\n",
       "      <td>SEDAN AUTOMATIC 2.0</td>\n",
       "      <td>автоматическая</td>\n",
       "      <td>1 владелец</td>\n",
       "      <td>NaN</td>\n",
       "      <td>Оригинал</td>\n",
       "      <td>задний</td>\n",
       "      <td>Левый</td>\n",
       "      <td>2900000.0</td>\n",
       "      <td>1</td>\n",
       "      <td>авт нет даж годабез аварийстоян нов машиныочен...</td>\n",
       "      <td>1</td>\n",
       "      <td>15.182972</td>\n",
       "      <td>14.880221</td>\n",
       "      <td>2.0</td>\n",
       "      <td>184.0</td>\n",
       "      <td>-1.00</td>\n",
       "      <td>72</td>\n",
       "      <td>9</td>\n",
       "    </tr>\n",
       "    <tr>\n",
       "      <th>538</th>\n",
       "      <td>седан</td>\n",
       "      <td>BMW</td>\n",
       "      <td>коричневый</td>\n",
       "      <td>top_description_20</td>\n",
       "      <td>1.6 LTR</td>\n",
       "      <td>136 N12</td>\n",
       "      <td>бензин</td>\n",
       "      <td>104000</td>\n",
       "      <td>2011</td>\n",
       "      <td>3ER</td>\n",
       "      <td>316i 1.6 AT (136 л.с.)</td>\n",
       "      <td>4</td>\n",
       "      <td>2013</td>\n",
       "      <td>1099737102</td>\n",
       "      <td>SEDAN AUTOMATIC 1.6</td>\n",
       "      <td>автоматическая</td>\n",
       "      <td>3 или более</td>\n",
       "      <td>NaN</td>\n",
       "      <td>Оригинал</td>\n",
       "      <td>задний</td>\n",
       "      <td>Левый</td>\n",
       "      <td>0.0</td>\n",
       "      <td>0</td>\n",
       "      <td>все автомобили представлен в продаже проход тщ...</td>\n",
       "      <td>1</td>\n",
       "      <td>13.230840</td>\n",
       "      <td>-inf</td>\n",
       "      <td>1.6</td>\n",
       "      <td>136.0</td>\n",
       "      <td>-1.00</td>\n",
       "      <td>18</td>\n",
       "      <td>1</td>\n",
       "    </tr>\n",
       "    <tr>\n",
       "      <th>7781</th>\n",
       "      <td>седан</td>\n",
       "      <td>BMW</td>\n",
       "      <td>серый</td>\n",
       "      <td>Авто в идеальном состоянии. Ухожен , обслужен....</td>\n",
       "      <td>2.0 LTR</td>\n",
       "      <td>190 N12</td>\n",
       "      <td>дизель</td>\n",
       "      <td>42000</td>\n",
       "      <td>2016</td>\n",
       "      <td>5ER</td>\n",
       "      <td>520d xDrive 2.0d AT (190 л.с.) 4WD</td>\n",
       "      <td>4</td>\n",
       "      <td>2018</td>\n",
       "      <td>1098909458</td>\n",
       "      <td>SEDAN AUTOMATIC 2.0</td>\n",
       "      <td>автоматическая</td>\n",
       "      <td>2 владельца</td>\n",
       "      <td>9 месяцев</td>\n",
       "      <td>Оригинал</td>\n",
       "      <td>полный</td>\n",
       "      <td>Левый</td>\n",
       "      <td>2400000.0</td>\n",
       "      <td>1</td>\n",
       "      <td>авт в идеальн состоянии ухож  обслужен втор вл...</td>\n",
       "      <td>1</td>\n",
       "      <td>15.097422</td>\n",
       "      <td>14.690979</td>\n",
       "      <td>2.0</td>\n",
       "      <td>190.0</td>\n",
       "      <td>9.75</td>\n",
       "      <td>655</td>\n",
       "      <td>94</td>\n",
       "    </tr>\n",
       "    <tr>\n",
       "      <th>7479</th>\n",
       "      <td>внедорожник 5 дв.</td>\n",
       "      <td>AUDI</td>\n",
       "      <td>белый</td>\n",
       "      <td>Машина в идеальном состоянии. Полный S Line. С...</td>\n",
       "      <td>2.0 LTR</td>\n",
       "      <td>211 N12</td>\n",
       "      <td>бензин</td>\n",
       "      <td>148000</td>\n",
       "      <td>2008</td>\n",
       "      <td>Q5</td>\n",
       "      <td>8tiptronic 2.0 AT (211 л.с.) 4WD</td>\n",
       "      <td>5</td>\n",
       "      <td>2012</td>\n",
       "      <td>1097026176</td>\n",
       "      <td>ALLROAD_5_DOORS AUTOMATIC 2.0</td>\n",
       "      <td>автоматическая</td>\n",
       "      <td>2 владельца</td>\n",
       "      <td>NaN</td>\n",
       "      <td>Оригинал</td>\n",
       "      <td>полный</td>\n",
       "      <td>Левый</td>\n",
       "      <td>1050000.0</td>\n",
       "      <td>1</td>\n",
       "      <td>машин в идеальн состоянии полн   спортивн пере...</td>\n",
       "      <td>1</td>\n",
       "      <td>14.075286</td>\n",
       "      <td>13.864301</td>\n",
       "      <td>2.0</td>\n",
       "      <td>211.0</td>\n",
       "      <td>-1.00</td>\n",
       "      <td>373</td>\n",
       "      <td>49</td>\n",
       "    </tr>\n",
       "    <tr>\n",
       "      <th>7406</th>\n",
       "      <td>внедорожник 5 дв.</td>\n",
       "      <td>MERCEDES</td>\n",
       "      <td>серый</td>\n",
       "      <td>НА ОБМЕН 2.750.000\\nАвто в идеале ! Без окрасо...</td>\n",
       "      <td>2.0 LTR</td>\n",
       "      <td>381 N12</td>\n",
       "      <td>бензин</td>\n",
       "      <td>35000</td>\n",
       "      <td>2017</td>\n",
       "      <td>GLA_CLASS_AMG</td>\n",
       "      <td>45 AMG 2.0 AMT (381 л.с.) 4WD</td>\n",
       "      <td>5</td>\n",
       "      <td>2018</td>\n",
       "      <td>1099372128</td>\n",
       "      <td>ALLROAD_5_DOORS ROBOT 2.0</td>\n",
       "      <td>роботизированная</td>\n",
       "      <td>2 владельца</td>\n",
       "      <td>NaN</td>\n",
       "      <td>Оригинал</td>\n",
       "      <td>полный</td>\n",
       "      <td>Левый</td>\n",
       "      <td>2340000.0</td>\n",
       "      <td>1</td>\n",
       "      <td>на обм  авт в идеал  без окрасов гот на люб пр...</td>\n",
       "      <td>0</td>\n",
       "      <td>14.885138</td>\n",
       "      <td>14.665661</td>\n",
       "      <td>2.0</td>\n",
       "      <td>381.0</td>\n",
       "      <td>-1.00</td>\n",
       "      <td>231</td>\n",
       "      <td>41</td>\n",
       "    </tr>\n",
       "  </tbody>\n",
       "</table>\n",
       "</div>"
      ],
      "text/plain": [
       "               bodyType     brand       color  \\\n",
       "5561              седан       BMW      чёрный   \n",
       "538               седан       BMW  коричневый   \n",
       "7781              седан       BMW       серый   \n",
       "7479  внедорожник 5 дв.      AUDI       белый   \n",
       "7406  внедорожник 5 дв.  MERCEDES       серый   \n",
       "\n",
       "                                            description engineDisplacement  \\\n",
       "5561  Авто нет даже года,без аварий,стояние новой ма...            2.0 LTR   \n",
       "538                                  top_description_20            1.6 LTR   \n",
       "7781  Авто в идеальном состоянии. Ухожен , обслужен....            2.0 LTR   \n",
       "7479  Машина в идеальном состоянии. Полный S Line. С...            2.0 LTR   \n",
       "7406  НА ОБМЕН 2.750.000\\nАвто в идеале ! Без окрасо...            2.0 LTR   \n",
       "\n",
       "     enginePower fuelType  mileage  modelDate     model_info  \\\n",
       "5561     184 N12   бензин     5000       2016            5ER   \n",
       "538      136 N12   бензин   104000       2011            3ER   \n",
       "7781     190 N12   дизель    42000       2016            5ER   \n",
       "7479     211 N12   бензин   148000       2008             Q5   \n",
       "7406     381 N12   бензин    35000       2017  GLA_CLASS_AMG   \n",
       "\n",
       "                                    name  numberOfDoors  productionDate  \\\n",
       "5561              520i 2.0 AT (184 л.с.)              4            2018   \n",
       "538               316i 1.6 AT (136 л.с.)              4            2013   \n",
       "7781  520d xDrive 2.0d AT (190 л.с.) 4WD              4            2018   \n",
       "7479    8tiptronic 2.0 AT (211 л.с.) 4WD              5            2012   \n",
       "7406       45 AMG 2.0 AMT (381 л.с.) 4WD              5            2018   \n",
       "\n",
       "         sell_id           vehicleConfiguration vehicleTransmission  \\\n",
       "5561  1099352264            SEDAN AUTOMATIC 2.0      автоматическая   \n",
       "538   1099737102            SEDAN AUTOMATIC 1.6      автоматическая   \n",
       "7781  1098909458            SEDAN AUTOMATIC 2.0      автоматическая   \n",
       "7479  1097026176  ALLROAD_5_DOORS AUTOMATIC 2.0      автоматическая   \n",
       "7406  1099372128      ALLROAD_5_DOORS ROBOT 2.0    роботизированная   \n",
       "\n",
       "        Владельцы   Владение       ПТС  Привод   Руль      price  sample  \\\n",
       "5561   1 владелец        NaN  Оригинал  задний  Левый  2900000.0       1   \n",
       "538   3 или более        NaN  Оригинал  задний  Левый        0.0       0   \n",
       "7781  2 владельца  9 месяцев  Оригинал  полный  Левый  2400000.0       1   \n",
       "7479  2 владельца        NaN  Оригинал  полный  Левый  1050000.0       1   \n",
       "7406  2 владельца        NaN  Оригинал  полный  Левый  2340000.0       1   \n",
       "\n",
       "                                       description_norm  train  CV_prediction  \\\n",
       "5561  авт нет даж годабез аварийстоян нов машиныочен...      1      15.182972   \n",
       "538   все автомобили представлен в продаже проход тщ...      1      13.230840   \n",
       "7781  авт в идеальн состоянии ухож  обслужен втор вл...      1      15.097422   \n",
       "7479  машин в идеальн состоянии полн   спортивн пере...      1      14.075286   \n",
       "7406  на обм  авт в идеал  без окрасов гот на люб пр...      0      14.885138   \n",
       "\n",
       "      log_price  engineDisplacement_num  enginePower_num  ownership  \\\n",
       "5561  14.880221                     2.0            184.0      -1.00   \n",
       "538        -inf                     1.6            136.0      -1.00   \n",
       "7781  14.690979                     2.0            190.0       9.75   \n",
       "7479  13.864301                     2.0            211.0      -1.00   \n",
       "7406  14.665661                     2.0            381.0      -1.00   \n",
       "\n",
       "      description_length  description_words_count  \n",
       "5561                  72                        9  \n",
       "538                   18                        1  \n",
       "7781                 655                       94  \n",
       "7479                 373                       49  \n",
       "7406                 231                       41  "
      ]
     },
     "execution_count": 12,
     "metadata": {},
     "output_type": "execute_result"
    }
   ],
   "source": [
    "cat_cols = ['bodyType', 'brand', 'color', 'fuelType', 'model_info', 'numberOfDoors'\n",
    "            , 'vehicleTransmission', 'Владельцы', 'ПТС', 'Привод', 'Руль']\n",
    "num_cols = ['mileage', 'modelDate', 'productionDate', 'engineDisplacement_num', 'enginePower_num', 'ownership', 'description_length', 'description_words_count']\n",
    "data.sample(5)"
   ]
  },
  {
   "cell_type": "code",
   "execution_count": 13,
   "id": "b088f1db",
   "metadata": {
    "execution": {
     "iopub.execute_input": "2021-12-19T19:03:00.236684Z",
     "iopub.status.busy": "2021-12-19T19:03:00.235995Z",
     "iopub.status.idle": "2021-12-19T19:03:03.833874Z",
     "shell.execute_reply": "2021-12-19T19:03:03.832768Z",
     "shell.execute_reply.started": "2021-12-19T18:44:26.433255Z"
    },
    "papermill": {
     "duration": 3.639996,
     "end_time": "2021-12-19T19:03:03.834021",
     "exception": false,
     "start_time": "2021-12-19T19:03:00.194025",
     "status": "completed"
    },
    "tags": []
   },
   "outputs": [
    {
     "data": {
      "image/png": "[encoded data removed]",
      "text/plain": [
       "<Figure size 2160x2160 with 12 Axes>"
      ]
     },
     "metadata": {
      "needs_background": "light"
     },
     "output_type": "display_data"
    }
   ],
   "source": [
    "n = len(cat_cols)\n",
    "col_num = 3\n",
    "fig, axes = plt.subplots(int(np.ceil(n/col_num)), col_num, figsize = (30,30))\n",
    "i = 0\n",
    "for col in cat_cols:\n",
    "    ax = axes[int(np.floor(i / col_num)), i % col_num]\n",
    "    data[col].fillna('NA').value_counts().sort_values().plot(kind = 'barh', ax = ax, title = col)\n",
    "    i += 1"
   ]
  },
  {
   "cell_type": "code",
   "execution_count": 14,
   "id": "1aab437a",
   "metadata": {
    "execution": {
     "iopub.execute_input": "2021-12-19T19:03:03.959401Z",
     "iopub.status.busy": "2021-12-19T19:03:03.920357Z",
     "iopub.status.idle": "2021-12-19T19:03:05.261906Z",
     "shell.execute_reply": "2021-12-19T19:03:05.262340Z",
     "shell.execute_reply.started": "2021-12-19T18:44:29.886464Z"
    },
    "papermill": {
     "duration": 1.391341,
     "end_time": "2021-12-19T19:03:05.262492",
     "exception": false,
     "start_time": "2021-12-19T19:03:03.871151",
     "status": "completed"
    },
    "tags": []
   },
   "outputs": [
    {
     "data": {
      "image/png": "[encoded data removed]",
      "text/plain": [
       "<Figure size 2160x720 with 9 Axes>"
      ]
     },
     "metadata": {
      "needs_background": "light"
     },
     "output_type": "display_data"
    }
   ],
   "source": [
    "n = len(num_cols)\n",
    "col_num = 3\n",
    "fig, axes = plt.subplots(int(np.ceil(n/col_num)), col_num, figsize = (30,10))\n",
    "i = 0\n",
    "for col in num_cols:\n",
    "    ax = axes[int(np.floor(i / col_num)), i % col_num]\n",
    "    data[col].plot(kind = 'hist', ax = ax, title = col)\n",
    "    i += 1"
   ]
  },
  {
   "cell_type": "code",
   "execution_count": 15,
   "id": "5c5a36fb",
   "metadata": {
    "execution": {
     "iopub.execute_input": "2021-12-19T19:03:05.342716Z",
     "iopub.status.busy": "2021-12-19T19:03:05.341133Z",
     "iopub.status.idle": "2021-12-19T19:03:05.909399Z",
     "shell.execute_reply": "2021-12-19T19:03:05.909808Z",
     "shell.execute_reply.started": "2021-12-19T18:44:31.364475Z"
    },
    "papermill": {
     "duration": 0.610228,
     "end_time": "2021-12-19T19:03:05.909940",
     "exception": false,
     "start_time": "2021-12-19T19:03:05.299712",
     "status": "completed"
    },
    "tags": []
   },
   "outputs": [
    {
     "data": {
      "image/png": "[encoded data removed]",
      "text/plain": [
       "<Figure size 432x288 with 2 Axes>"
      ]
     },
     "metadata": {
      "needs_background": "light"
     },
     "output_type": "display_data"
    }
   ],
   "source": [
    "sns.heatmap(data[num_cols].corr(), annot=True);"
   ]
  },
  {
   "cell_type": "code",
   "execution_count": 16,
   "id": "a5de2a10",
   "metadata": {
    "execution": {
     "iopub.execute_input": "2021-12-19T19:03:05.993065Z",
     "iopub.status.busy": "2021-12-19T19:03:05.992389Z",
     "iopub.status.idle": "2021-12-19T19:03:05.994871Z",
     "shell.execute_reply": "2021-12-19T19:03:05.994491Z",
     "shell.execute_reply.started": "2021-12-19T18:44:31.960626Z"
    },
    "papermill": {
     "duration": 0.044905,
     "end_time": "2021-12-19T19:03:05.994973",
     "exception": false,
     "start_time": "2021-12-19T19:03:05.950068",
     "status": "completed"
    },
    "tags": []
   },
   "outputs": [],
   "source": [
    "#Удалим фичи с повышенной корреляцией\n",
    "num_cols = [x for x in num_cols if x not in ['description_words_count']] #'productionDate',"
   ]
  },
  {
   "cell_type": "markdown",
   "id": "3b158097",
   "metadata": {
    "papermill": {
     "duration": 0.038664,
     "end_time": "2021-12-19T19:03:06.073001",
     "exception": false,
     "start_time": "2021-12-19T19:03:06.034337",
     "status": "completed"
    },
    "tags": []
   },
   "source": [
    "## NLP"
   ]
  },
  {
   "cell_type": "code",
   "execution_count": 17,
   "id": "00b3d625",
   "metadata": {
    "execution": {
     "iopub.execute_input": "2021-12-19T19:03:06.153271Z",
     "iopub.status.busy": "2021-12-19T19:03:06.152447Z",
     "iopub.status.idle": "2021-12-19T19:03:06.156023Z",
     "shell.execute_reply": "2021-12-19T19:03:06.156486Z",
     "shell.execute_reply.started": "2021-12-19T18:44:31.967200Z"
    },
    "papermill": {
     "duration": 0.044916,
     "end_time": "2021-12-19T19:03:06.156613",
     "exception": false,
     "start_time": "2021-12-19T19:03:06.111697",
     "status": "completed"
    },
    "tags": []
   },
   "outputs": [],
   "source": [
    "max_tokens = 1000\n",
    "embedding_dim = 128"
   ]
  },
  {
   "cell_type": "code",
   "execution_count": 18,
   "id": "c5dd33e4",
   "metadata": {
    "execution": {
     "iopub.execute_input": "2021-12-19T19:03:06.240361Z",
     "iopub.status.busy": "2021-12-19T19:03:06.239611Z",
     "iopub.status.idle": "2021-12-19T19:03:06.261978Z",
     "shell.execute_reply": "2021-12-19T19:03:06.261505Z",
     "shell.execute_reply.started": "2021-12-19T18:44:31.977832Z"
    },
    "papermill": {
     "duration": 0.066866,
     "end_time": "2021-12-19T19:03:06.262104",
     "exception": false,
     "start_time": "2021-12-19T19:03:06.195238",
     "status": "completed"
    },
    "tags": []
   },
   "outputs": [],
   "source": [
    "# Используем train/valid split из CV-ноутбука\n",
    "train = data[(data['sample'] == 1) & (data['train'] == 1)].fillna(-1)\n",
    "train_target = data[(data['sample'] == 1) & (data['train'] == 1)]['log_price']\n",
    "valid = data[(data['sample'] == 1) & (data['train'] == 0)].fillna(-1)\n",
    "valid_target = data[(data['sample'] == 1) & (data['train'] == 0)]['log_price']"
   ]
  },
  {
   "cell_type": "code",
   "execution_count": 19,
   "id": "dfa33c3d",
   "metadata": {
    "execution": {
     "iopub.execute_input": "2021-12-19T19:03:06.343343Z",
     "iopub.status.busy": "2021-12-19T19:03:06.342829Z",
     "iopub.status.idle": "2021-12-19T19:03:07.427506Z",
     "shell.execute_reply": "2021-12-19T19:03:07.426959Z",
     "shell.execute_reply.started": "2021-12-19T18:44:32.010464Z"
    },
    "papermill": {
     "duration": 1.127107,
     "end_time": "2021-12-19T19:03:07.427643",
     "exception": false,
     "start_time": "2021-12-19T19:03:06.300536",
     "status": "completed"
    },
    "tags": []
   },
   "outputs": [
    {
     "name": "stderr",
     "output_type": "stream",
     "text": [
      "2021-12-19 19:03:06.365554: I tensorflow/stream_executor/cuda/cuda_gpu_executor.cc:937] successful NUMA node read from SysFS had negative value (-1), but there must be at least one NUMA node, so returning NUMA node zero\n",
      "2021-12-19 19:03:06.366439: I tensorflow/stream_executor/cuda/cuda_gpu_executor.cc:937] successful NUMA node read from SysFS had negative value (-1), but there must be at least one NUMA node, so returning NUMA node zero\n",
      "2021-12-19 19:03:06.367079: I tensorflow/stream_executor/cuda/cuda_gpu_executor.cc:937] successful NUMA node read from SysFS had negative value (-1), but there must be at least one NUMA node, so returning NUMA node zero\n",
      "2021-12-19 19:03:06.367976: I tensorflow/stream_executor/cuda/cuda_gpu_executor.cc:937] successful NUMA node read from SysFS had negative value (-1), but there must be at least one NUMA node, so returning NUMA node zero\n",
      "2021-12-19 19:03:06.368648: I tensorflow/stream_executor/cuda/cuda_gpu_executor.cc:937] successful NUMA node read from SysFS had negative value (-1), but there must be at least one NUMA node, so returning NUMA node zero\n",
      "2021-12-19 19:03:06.369256: I tensorflow/stream_executor/cuda/cuda_gpu_executor.cc:937] successful NUMA node read from SysFS had negative value (-1), but there must be at least one NUMA node, so returning NUMA node zero\n",
      "2021-12-19 19:03:06.369930: I tensorflow/stream_executor/cuda/cuda_gpu_executor.cc:937] successful NUMA node read from SysFS had negative value (-1), but there must be at least one NUMA node, so returning NUMA node zero\n",
      "2021-12-19 19:03:06.370610: I tensorflow/stream_executor/cuda/cuda_gpu_executor.cc:937] successful NUMA node read from SysFS had negative value (-1), but there must be at least one NUMA node, so returning NUMA node zero\n",
      "2021-12-19 19:03:06.371185: I tensorflow/core/common_runtime/gpu/gpu_device.cc:1510] Created device /job:localhost/replica:0/task:0/device:GPU:0 with 15403 MB memory:  -> device: 0, name: Tesla P100-PCIE-16GB, pci bus id: 0000:00:04.0, compute capability: 6.0\n",
      "2021-12-19 19:03:06.775479: I tensorflow/compiler/mlir/mlir_graph_optimization_pass.cc:185] None of the MLIR Optimization Passes are enabled (registered 2)\n"
     ]
    }
   ],
   "source": [
    "vectorize_layer = layers.experimental.preprocessing.TextVectorization(\n",
    "    max_tokens=max_tokens, \n",
    "    output_sequence_length=1000\n",
    ")\n",
    "\n",
    "vectorize_layer.adapt(data['description_norm'])"
   ]
  },
  {
   "cell_type": "code",
   "execution_count": 20,
   "id": "9c1e02ee",
   "metadata": {
    "execution": {
     "iopub.execute_input": "2021-12-19T19:03:07.510939Z",
     "iopub.status.busy": "2021-12-19T19:03:07.510104Z",
     "iopub.status.idle": "2021-12-19T19:03:07.518799Z",
     "shell.execute_reply": "2021-12-19T19:03:07.518384Z",
     "shell.execute_reply.started": "2021-12-19T18:44:33.145836Z"
    },
    "papermill": {
     "duration": 0.051805,
     "end_time": "2021-12-19T19:03:07.518909",
     "exception": false,
     "start_time": "2021-12-19T19:03:07.467104",
     "status": "completed"
    },
    "tags": []
   },
   "outputs": [
    {
     "data": {
      "text/plain": [
       "['автомобил',\n",
       " 'автомоб',\n",
       " 'автомобиля',\n",
       " 'автоматическ',\n",
       " 'автомобиль',\n",
       " 'авто',\n",
       " 'автомобилей',\n",
       " 'автосалон',\n",
       " 'автокресел',\n",
       " 'автокред',\n",
       " 'автокредит',\n",
       " 'автомобиле',\n",
       " 'автодоводчик',\n",
       " 'автодом',\n",
       " 'автомобили',\n",
       " 'памавтотрейд']"
      ]
     },
     "execution_count": 20,
     "metadata": {},
     "output_type": "execute_result"
    }
   ],
   "source": [
    "[x for x in vectorize_layer.get_vocabulary() if 'авто' in x]"
   ]
  },
  {
   "cell_type": "code",
   "execution_count": 21,
   "id": "db264083",
   "metadata": {
    "execution": {
     "iopub.execute_input": "2021-12-19T19:03:07.608854Z",
     "iopub.status.busy": "2021-12-19T19:03:07.608103Z",
     "iopub.status.idle": "2021-12-19T19:03:07.877873Z",
     "shell.execute_reply": "2021-12-19T19:03:07.877302Z",
     "shell.execute_reply.started": "2021-12-19T18:44:33.169224Z"
    },
    "papermill": {
     "duration": 0.319269,
     "end_time": "2021-12-19T19:03:07.877998",
     "exception": false,
     "start_time": "2021-12-19T19:03:07.558729",
     "status": "completed"
    },
    "tags": []
   },
   "outputs": [],
   "source": [
    "train_v = vectorize_layer(train['description'])\n",
    "valid_v = vectorize_layer(valid['description'])"
   ]
  },
  {
   "cell_type": "code",
   "execution_count": 22,
   "id": "de188d71",
   "metadata": {
    "execution": {
     "iopub.execute_input": "2021-12-19T19:03:07.969734Z",
     "iopub.status.busy": "2021-12-19T19:03:07.968345Z",
     "iopub.status.idle": "2021-12-19T19:03:08.006495Z",
     "shell.execute_reply": "2021-12-19T19:03:08.005635Z",
     "shell.execute_reply.started": "2021-12-19T18:51:49.968777Z"
    },
    "papermill": {
     "duration": 0.088736,
     "end_time": "2021-12-19T19:03:08.006620",
     "exception": false,
     "start_time": "2021-12-19T19:03:07.917884",
     "status": "completed"
    },
    "tags": []
   },
   "outputs": [],
   "source": [
    "# An integer input for vocab indices.\n",
    "inputs = layers.Input(shape=(None,), dtype=\"int64\", name = 'Input')\n",
    "\n",
    "# Next, we add a layer to map those vocab indices into a space of dimensionality\n",
    "# 'embedding_dim'.\n",
    "x = layers.Embedding(max_tokens, embedding_dim, name = 'Embedding')(inputs)\n",
    "\n",
    "# Conv1D + global max pooling\n",
    "#x = layers.Conv1D(128, 7, padding=\"valid\", activation=\"relu\", strides=3, name = 'Conv1D')(x)\n",
    "#x = layers.Dropout(0.05, name = 'Dropout_1')(x)\n",
    "#x = layers.Conv1D(64, 7, padding=\"valid\", activation=\"relu\", strides=3, name = 'Conv1D_2')(x)\n",
    "#x = layers.Conv1D(32, 7, padding=\"valid\", activation=\"relu\", strides=3, name = 'Conv1D_3')(x)\n",
    "#x = layers.GlobalMaxPooling1D(name = 'GlobalMaxPooling1D')(x)\n",
    "x = layers.GlobalAveragePooling1D(name = 'GlobalAveragePooling1D')(x)\n",
    "\n",
    "# LSTM\n",
    "# x = layers.Bidirectional(layers.LSTM(embedding_dim))\n",
    "# x = layers.LSTM(3, name = 'LSTM')(x)\n",
    "\n",
    "# We add a vanilla hidden layer:\n",
    "# x = layers.Dense(embedding_dim, activation=\"relu\", name = 'Dense')(x)\n",
    "#x = layers.Dropout(0.5, name = 'Dropout_2')(x)\n",
    "\n",
    "# We project onto a single unit output layer, and squash it with a sigmoid:\n",
    "predictions = layers.Dense(1, name=\"Prediction\")(x)\n",
    "\n",
    "nlp_model = tf.keras.Model(inputs, predictions)\n",
    "\n",
    "# Compile the model with binary crossentropy loss and an adam optimizer.\n",
    "nlp_model.compile(loss=\"mape\", optimizer=\"adam\", metrics=[\"mape\"])"
   ]
  },
  {
   "cell_type": "code",
   "execution_count": 23,
   "id": "48a85514",
   "metadata": {
    "execution": {
     "iopub.execute_input": "2021-12-19T19:03:08.093357Z",
     "iopub.status.busy": "2021-12-19T19:03:08.091116Z",
     "iopub.status.idle": "2021-12-19T19:03:08.096939Z",
     "shell.execute_reply": "2021-12-19T19:03:08.097479Z",
     "shell.execute_reply.started": "2021-12-19T18:51:50.492024Z"
    },
    "papermill": {
     "duration": 0.051247,
     "end_time": "2021-12-19T19:03:08.097654",
     "exception": false,
     "start_time": "2021-12-19T19:03:08.046407",
     "status": "completed"
    },
    "tags": []
   },
   "outputs": [
    {
     "name": "stdout",
     "output_type": "stream",
     "text": [
      "Model: \"model\"\n",
      "_________________________________________________________________\n",
      "Layer (type)                 Output Shape              Param #   \n",
      "=================================================================\n",
      "Input (InputLayer)           [(None, None)]            0         \n",
      "_________________________________________________________________\n",
      "Embedding (Embedding)        (None, None, 128)         128000    \n",
      "_________________________________________________________________\n",
      "GlobalAveragePooling1D (Glob (None, 128)               0         \n",
      "_________________________________________________________________\n",
      "Prediction (Dense)           (None, 1)                 129       \n",
      "=================================================================\n",
      "Total params: 128,129\n",
      "Trainable params: 128,129\n",
      "Non-trainable params: 0\n",
      "_________________________________________________________________\n"
     ]
    }
   ],
   "source": [
    "nlp_model.summary()"
   ]
  },
  {
   "cell_type": "code",
   "execution_count": 24,
   "id": "0976190e",
   "metadata": {
    "execution": {
     "iopub.execute_input": "2021-12-19T19:03:08.182956Z",
     "iopub.status.busy": "2021-12-19T19:03:08.182209Z",
     "iopub.status.idle": "2021-12-19T19:04:03.532193Z",
     "shell.execute_reply": "2021-12-19T19:04:03.531690Z",
     "shell.execute_reply.started": "2021-12-19T18:52:41.691849Z"
    },
    "papermill": {
     "duration": 55.394515,
     "end_time": "2021-12-19T19:04:03.532334",
     "exception": false,
     "start_time": "2021-12-19T19:03:08.137819",
     "status": "completed"
    },
    "tags": []
   },
   "outputs": [
    {
     "name": "stdout",
     "output_type": "stream",
     "text": [
      "Epoch 1/100\n",
      "147/147 [==============================] - 2s 6ms/step - loss: 83.3937 - mape: 83.3937 - val_loss: 52.7738 - val_mape: 52.7738\n",
      "Epoch 2/100\n",
      "147/147 [==============================] - 1s 5ms/step - loss: 15.2361 - mape: 15.2361 - val_loss: 3.9870 - val_mape: 3.9870\n",
      "Epoch 3/100\n",
      "147/147 [==============================] - 1s 5ms/step - loss: 4.0770 - mape: 4.0770 - val_loss: 3.8914 - val_mape: 3.8914\n",
      "Epoch 4/100\n",
      "147/147 [==============================] - 1s 5ms/step - loss: 4.0277 - mape: 4.0277 - val_loss: 3.8639 - val_mape: 3.8639\n",
      "Epoch 5/100\n",
      "147/147 [==============================] - 1s 5ms/step - loss: 3.9926 - mape: 3.9926 - val_loss: 3.8468 - val_mape: 3.8468\n",
      "Epoch 6/100\n",
      "147/147 [==============================] - 1s 5ms/step - loss: 3.9388 - mape: 3.9388 - val_loss: 3.7896 - val_mape: 3.7896\n",
      "Epoch 7/100\n",
      "147/147 [==============================] - 1s 6ms/step - loss: 3.9195 - mape: 3.9195 - val_loss: 3.7652 - val_mape: 3.7652\n",
      "Epoch 8/100\n",
      "147/147 [==============================] - 1s 5ms/step - loss: 3.8850 - mape: 3.8850 - val_loss: 3.7286 - val_mape: 3.7286\n",
      "Epoch 9/100\n",
      "147/147 [==============================] - 1s 5ms/step - loss: 3.8600 - mape: 3.8600 - val_loss: 3.7074 - val_mape: 3.7074\n",
      "Epoch 10/100\n",
      "147/147 [==============================] - 1s 6ms/step - loss: 3.8353 - mape: 3.8353 - val_loss: 3.6862 - val_mape: 3.6862\n",
      "Epoch 11/100\n",
      "147/147 [==============================] - 1s 5ms/step - loss: 3.8386 - mape: 3.8386 - val_loss: 3.6791 - val_mape: 3.6791\n",
      "Epoch 12/100\n",
      "147/147 [==============================] - 1s 5ms/step - loss: 3.8046 - mape: 3.8046 - val_loss: 3.6717 - val_mape: 3.6717\n",
      "Epoch 13/100\n",
      "147/147 [==============================] - 1s 5ms/step - loss: 3.7869 - mape: 3.7869 - val_loss: 3.7516 - val_mape: 3.7516\n",
      "Epoch 14/100\n",
      "147/147 [==============================] - 1s 5ms/step - loss: 3.7661 - mape: 3.7661 - val_loss: 3.6469 - val_mape: 3.6469\n",
      "Epoch 15/100\n",
      "147/147 [==============================] - 1s 5ms/step - loss: 3.7526 - mape: 3.7526 - val_loss: 3.6228 - val_mape: 3.6228\n",
      "Epoch 16/100\n",
      "147/147 [==============================] - 1s 5ms/step - loss: 3.7327 - mape: 3.7327 - val_loss: 3.6066 - val_mape: 3.6066\n",
      "Epoch 17/100\n",
      "147/147 [==============================] - 1s 5ms/step - loss: 3.7156 - mape: 3.7156 - val_loss: 3.5963 - val_mape: 3.5963\n",
      "Epoch 18/100\n",
      "147/147 [==============================] - 1s 5ms/step - loss: 3.7032 - mape: 3.7032 - val_loss: 3.6033 - val_mape: 3.6033\n",
      "Epoch 19/100\n",
      "147/147 [==============================] - 1s 5ms/step - loss: 3.6780 - mape: 3.6780 - val_loss: 3.6007 - val_mape: 3.6007\n",
      "Epoch 20/100\n",
      "147/147 [==============================] - 1s 5ms/step - loss: 3.6753 - mape: 3.6753 - val_loss: 3.6425 - val_mape: 3.6425\n",
      "Epoch 21/100\n",
      "147/147 [==============================] - 1s 6ms/step - loss: 3.6584 - mape: 3.6584 - val_loss: 3.5860 - val_mape: 3.5860\n",
      "Epoch 22/100\n",
      "147/147 [==============================] - 1s 6ms/step - loss: 3.6356 - mape: 3.6356 - val_loss: 3.5296 - val_mape: 3.5296\n",
      "Epoch 23/100\n",
      "147/147 [==============================] - 1s 5ms/step - loss: 3.6367 - mape: 3.6367 - val_loss: 3.5392 - val_mape: 3.5392\n",
      "Epoch 24/100\n",
      "147/147 [==============================] - 1s 5ms/step - loss: 3.6183 - mape: 3.6183 - val_loss: 3.5408 - val_mape: 3.5408\n",
      "Epoch 25/100\n",
      "147/147 [==============================] - 1s 5ms/step - loss: 3.6120 - mape: 3.6120 - val_loss: 3.5017 - val_mape: 3.5017\n",
      "Epoch 26/100\n",
      "147/147 [==============================] - 1s 5ms/step - loss: 3.5890 - mape: 3.5890 - val_loss: 3.4976 - val_mape: 3.4976\n",
      "Epoch 27/100\n",
      "147/147 [==============================] - 1s 5ms/step - loss: 3.5761 - mape: 3.5761 - val_loss: 3.5447 - val_mape: 3.5447\n",
      "Epoch 28/100\n",
      "147/147 [==============================] - 1s 5ms/step - loss: 3.5673 - mape: 3.5673 - val_loss: 3.4846 - val_mape: 3.4846\n",
      "Epoch 29/100\n",
      "147/147 [==============================] - 1s 5ms/step - loss: 3.5554 - mape: 3.5554 - val_loss: 3.5900 - val_mape: 3.5900\n",
      "Epoch 30/100\n",
      "147/147 [==============================] - 1s 5ms/step - loss: 3.5510 - mape: 3.5510 - val_loss: 3.5130 - val_mape: 3.5130\n",
      "Epoch 31/100\n",
      "147/147 [==============================] - 1s 5ms/step - loss: 3.5623 - mape: 3.5623 - val_loss: 3.4838 - val_mape: 3.4838\n",
      "Epoch 32/100\n",
      "147/147 [==============================] - 1s 5ms/step - loss: 3.5451 - mape: 3.5451 - val_loss: 3.5952 - val_mape: 3.5952\n",
      "Epoch 33/100\n",
      "147/147 [==============================] - 1s 5ms/step - loss: 3.5265 - mape: 3.5265 - val_loss: 3.4989 - val_mape: 3.4989\n",
      "Epoch 34/100\n",
      "147/147 [==============================] - 1s 5ms/step - loss: 3.5227 - mape: 3.5227 - val_loss: 3.4577 - val_mape: 3.4577\n",
      "Epoch 35/100\n",
      "147/147 [==============================] - 1s 6ms/step - loss: 3.5045 - mape: 3.5045 - val_loss: 3.5250 - val_mape: 3.5250\n",
      "Epoch 36/100\n",
      "147/147 [==============================] - 1s 5ms/step - loss: 3.5026 - mape: 3.5026 - val_loss: 3.4667 - val_mape: 3.4667\n",
      "Epoch 37/100\n",
      "147/147 [==============================] - 1s 5ms/step - loss: 3.5085 - mape: 3.5085 - val_loss: 3.4527 - val_mape: 3.4527\n",
      "Epoch 38/100\n",
      "147/147 [==============================] - 1s 5ms/step - loss: 3.5037 - mape: 3.5037 - val_loss: 3.4607 - val_mape: 3.4607\n",
      "Epoch 39/100\n",
      "147/147 [==============================] - 1s 5ms/step - loss: 3.5103 - mape: 3.5103 - val_loss: 3.4893 - val_mape: 3.4893\n",
      "Epoch 40/100\n",
      "147/147 [==============================] - 1s 5ms/step - loss: 3.4858 - mape: 3.4858 - val_loss: 3.4382 - val_mape: 3.4382\n",
      "Epoch 41/100\n",
      "147/147 [==============================] - 1s 5ms/step - loss: 3.4681 - mape: 3.4681 - val_loss: 3.5000 - val_mape: 3.5000\n",
      "Epoch 42/100\n",
      "147/147 [==============================] - 1s 5ms/step - loss: 3.4613 - mape: 3.4613 - val_loss: 3.4381 - val_mape: 3.4381\n",
      "Epoch 43/100\n",
      "147/147 [==============================] - 1s 5ms/step - loss: 3.4685 - mape: 3.4685 - val_loss: 3.4265 - val_mape: 3.4265\n",
      "Epoch 44/100\n",
      "147/147 [==============================] - 1s 5ms/step - loss: 3.4542 - mape: 3.4542 - val_loss: 3.4492 - val_mape: 3.4492\n",
      "Epoch 45/100\n",
      "147/147 [==============================] - 1s 5ms/step - loss: 3.4501 - mape: 3.4501 - val_loss: 3.4319 - val_mape: 3.4319\n",
      "Epoch 46/100\n",
      "147/147 [==============================] - 1s 5ms/step - loss: 3.4459 - mape: 3.4459 - val_loss: 3.5051 - val_mape: 3.5051\n",
      "Epoch 47/100\n",
      "147/147 [==============================] - 1s 5ms/step - loss: 3.4506 - mape: 3.4506 - val_loss: 3.4270 - val_mape: 3.4270\n",
      "Epoch 48/100\n",
      "147/147 [==============================] - 1s 5ms/step - loss: 3.4445 - mape: 3.4445 - val_loss: 3.4433 - val_mape: 3.4433\n",
      "Epoch 49/100\n",
      "147/147 [==============================] - 1s 5ms/step - loss: 3.4259 - mape: 3.4259 - val_loss: 3.4204 - val_mape: 3.4204\n",
      "Epoch 50/100\n",
      "147/147 [==============================] - 1s 6ms/step - loss: 3.4562 - mape: 3.4562 - val_loss: 3.4446 - val_mape: 3.4446\n",
      "Epoch 51/100\n",
      "147/147 [==============================] - 1s 5ms/step - loss: 3.4543 - mape: 3.4543 - val_loss: 3.4241 - val_mape: 3.4241\n",
      "Epoch 52/100\n",
      "147/147 [==============================] - 1s 5ms/step - loss: 3.4312 - mape: 3.4312 - val_loss: 3.4126 - val_mape: 3.4126\n",
      "Epoch 53/100\n",
      "147/147 [==============================] - 1s 6ms/step - loss: 3.4205 - mape: 3.4205 - val_loss: 3.4132 - val_mape: 3.4132\n",
      "Epoch 54/100\n",
      "147/147 [==============================] - 1s 5ms/step - loss: 3.4074 - mape: 3.4074 - val_loss: 3.4106 - val_mape: 3.4106\n",
      "Epoch 55/100\n",
      "147/147 [==============================] - 1s 5ms/step - loss: 3.4089 - mape: 3.4089 - val_loss: 3.4104 - val_mape: 3.4104\n",
      "Epoch 56/100\n",
      "147/147 [==============================] - 1s 5ms/step - loss: 3.4253 - mape: 3.4253 - val_loss: 3.4173 - val_mape: 3.4173\n",
      "Epoch 57/100\n",
      "147/147 [==============================] - 1s 5ms/step - loss: 3.4122 - mape: 3.4122 - val_loss: 3.4102 - val_mape: 3.4102\n",
      "Epoch 58/100\n",
      "147/147 [==============================] - 1s 5ms/step - loss: 3.4109 - mape: 3.4109 - val_loss: 3.4150 - val_mape: 3.4150\n",
      "Epoch 59/100\n",
      "147/147 [==============================] - 1s 5ms/step - loss: 3.4185 - mape: 3.4185 - val_loss: 3.4168 - val_mape: 3.4168\n",
      "Epoch 60/100\n",
      "147/147 [==============================] - 1s 5ms/step - loss: 3.3975 - mape: 3.3975 - val_loss: 3.4409 - val_mape: 3.4409\n",
      "Epoch 61/100\n",
      "147/147 [==============================] - 1s 5ms/step - loss: 3.3942 - mape: 3.3942 - val_loss: 3.4075 - val_mape: 3.4075\n",
      "Epoch 62/100\n",
      "147/147 [==============================] - 1s 5ms/step - loss: 3.3971 - mape: 3.3971 - val_loss: 3.4485 - val_mape: 3.4485\n",
      "Epoch 63/100\n",
      "147/147 [==============================] - 1s 5ms/step - loss: 3.3871 - mape: 3.3871 - val_loss: 3.4368 - val_mape: 3.4368\n",
      "Epoch 64/100\n",
      "147/147 [==============================] - 1s 5ms/step - loss: 3.3940 - mape: 3.3940 - val_loss: 3.4382 - val_mape: 3.4382\n",
      "Epoch 65/100\n",
      "147/147 [==============================] - 1s 6ms/step - loss: 3.3728 - mape: 3.3728 - val_loss: 3.4107 - val_mape: 3.4107\n",
      "Epoch 66/100\n",
      "147/147 [==============================] - 1s 5ms/step - loss: 3.3936 - mape: 3.3936 - val_loss: 3.4842 - val_mape: 3.4842\n",
      "Epoch 67/100\n",
      "147/147 [==============================] - 1s 5ms/step - loss: 3.3748 - mape: 3.3748 - val_loss: 3.4113 - val_mape: 3.4113\n",
      "Epoch 68/100\n",
      "147/147 [==============================] - 1s 5ms/step - loss: 3.3768 - mape: 3.3768 - val_loss: 3.4145 - val_mape: 3.4145\n",
      "Epoch 69/100\n",
      "147/147 [==============================] - 1s 5ms/step - loss: 3.3870 - mape: 3.3870 - val_loss: 3.4968 - val_mape: 3.4968\n",
      "Epoch 70/100\n",
      "147/147 [==============================] - 1s 5ms/step - loss: 3.3613 - mape: 3.3613 - val_loss: 3.4642 - val_mape: 3.4642\n",
      "Epoch 71/100\n",
      "147/147 [==============================] - 1s 5ms/step - loss: 3.3719 - mape: 3.3719 - val_loss: 3.4104 - val_mape: 3.4104\n",
      "Restoring model weights from the end of the best epoch.\n",
      "Epoch 00071: early stopping\n"
     ]
    }
   ],
   "source": [
    "epochs = 100\n",
    "\n",
    "# Fit the model using the train and valid datasets.\n",
    "history = nlp_model.fit(x = train_v, y = train_target, validation_data=(valid_v, valid_target), epochs=epochs, \n",
    "                        callbacks = [keras.callbacks.EarlyStopping(monitor='val_mape',patience=10,verbose=1,restore_best_weights=True)]\n",
    "                       )"
   ]
  },
  {
   "cell_type": "code",
   "execution_count": 25,
   "id": "cea7fd1f",
   "metadata": {
    "execution": {
     "iopub.execute_input": "2021-12-19T19:04:04.112540Z",
     "iopub.status.busy": "2021-12-19T19:04:04.111980Z",
     "iopub.status.idle": "2021-12-19T19:04:04.324314Z",
     "shell.execute_reply": "2021-12-19T19:04:04.323839Z",
     "shell.execute_reply.started": "2021-12-19T18:53:04.221563Z"
    },
    "papermill": {
     "duration": 0.503625,
     "end_time": "2021-12-19T19:04:04.324437",
     "exception": false,
     "start_time": "2021-12-19T19:04:03.820812",
     "status": "completed"
    },
    "tags": []
   },
   "outputs": [
    {
     "data": {
      "text/plain": [
       "(2.5, 4.5)"
      ]
     },
     "execution_count": 25,
     "metadata": {},
     "output_type": "execute_result"
    },
    {
     "data": {
      "image/png": "[encoded data removed]",
      "text/plain": [
       "<Figure size 432x288 with 1 Axes>"
      ]
     },
     "metadata": {
      "needs_background": "light"
     },
     "output_type": "display_data"
    }
   ],
   "source": [
    "plt.plot(history.history['mape'])\n",
    "plt.plot(history.history['val_mape'])\n",
    "plt.legend(['train','valid'])\n",
    "plt.ylim((2.5,4.5))"
   ]
  },
  {
   "cell_type": "code",
   "execution_count": 26,
   "id": "3c82ec6a",
   "metadata": {
    "execution": {
     "iopub.execute_input": "2021-12-19T19:04:04.910096Z",
     "iopub.status.busy": "2021-12-19T19:04:04.909293Z",
     "iopub.status.idle": "2021-12-19T19:04:05.424939Z",
     "shell.execute_reply": "2021-12-19T19:04:05.425425Z",
     "shell.execute_reply.started": "2021-12-19T18:53:22.895911Z"
    },
    "papermill": {
     "duration": 0.816389,
     "end_time": "2021-12-19T19:04:05.425599",
     "exception": false,
     "start_time": "2021-12-19T19:04:04.609210",
     "status": "completed"
    },
    "tags": []
   },
   "outputs": [],
   "source": [
    "train['nlp_pred'] = nlp_model.predict(train_v).reshape(-1)\n",
    "valid['nlp_pred'] = nlp_model.predict(valid_v).reshape(-1)"
   ]
  },
  {
   "cell_type": "code",
   "execution_count": 27,
   "id": "354507b7",
   "metadata": {
    "execution": {
     "iopub.execute_input": "2021-12-19T19:04:06.006334Z",
     "iopub.status.busy": "2021-12-19T19:04:06.005287Z",
     "iopub.status.idle": "2021-12-19T19:04:06.011574Z",
     "shell.execute_reply": "2021-12-19T19:04:06.011987Z",
     "shell.execute_reply.started": "2021-12-19T18:53:23.165425Z"
    },
    "papermill": {
     "duration": 0.299708,
     "end_time": "2021-12-19T19:04:06.012145",
     "exception": false,
     "start_time": "2021-12-19T19:04:05.712437",
     "status": "completed"
    },
    "tags": []
   },
   "outputs": [
    {
     "name": "stdout",
     "output_type": "stream",
     "text": [
      "Train MAPE: 49.63051228132623\n",
      "Valid MAPE: 49.57555805785006\n"
     ]
    }
   ],
   "source": [
    "print('Train MAPE:', mape(np.exp(train_target),np.exp(train['nlp_pred'])))\n",
    "print('Valid MAPE:', mape(np.exp(valid_target),np.exp(valid['nlp_pred'])))"
   ]
  },
  {
   "cell_type": "code",
   "execution_count": 28,
   "id": "62c76726",
   "metadata": {
    "execution": {
     "iopub.execute_input": "2021-12-19T19:04:06.600089Z",
     "iopub.status.busy": "2021-12-19T19:04:06.598375Z",
     "iopub.status.idle": "2021-12-19T19:04:06.793926Z",
     "shell.execute_reply": "2021-12-19T19:04:06.793522Z",
     "shell.execute_reply.started": "2021-12-19T18:53:47.520268Z"
    },
    "papermill": {
     "duration": 0.495691,
     "end_time": "2021-12-19T19:04:06.794038",
     "exception": false,
     "start_time": "2021-12-19T19:04:06.298347",
     "status": "completed"
    },
    "tags": []
   },
   "outputs": [
    {
     "data": {
      "image/png": "[encoded data removed]",
      "text/plain": [
       "<Figure size 432x288 with 1 Axes>"
      ]
     },
     "metadata": {
      "needs_background": "light"
     },
     "output_type": "display_data"
    }
   ],
   "source": [
    "plt.scatter(train['nlp_pred'],train_target)\n",
    "plt.plot([13,17],[13,17],'r');"
   ]
  },
  {
   "cell_type": "code",
   "execution_count": 29,
   "id": "8be95085",
   "metadata": {
    "execution": {
     "iopub.execute_input": "2021-12-19T19:04:07.390172Z",
     "iopub.status.busy": "2021-12-19T19:04:07.386986Z",
     "iopub.status.idle": "2021-12-19T19:04:07.553736Z",
     "shell.execute_reply": "2021-12-19T19:04:07.554133Z",
     "shell.execute_reply.started": "2021-12-19T18:53:47.746156Z"
    },
    "papermill": {
     "duration": 0.471007,
     "end_time": "2021-12-19T19:04:07.554266",
     "exception": false,
     "start_time": "2021-12-19T19:04:07.083259",
     "status": "completed"
    },
    "tags": []
   },
   "outputs": [
    {
     "data": {
      "image/png": "[encoded data removed]",
      "text/plain": [
       "<Figure size 432x288 with 1 Axes>"
      ]
     },
     "metadata": {
      "needs_background": "light"
     },
     "output_type": "display_data"
    }
   ],
   "source": [
    "plt.scatter(valid['nlp_pred'],valid_target)\n",
    "plt.plot([13,17],[13,17],'r');"
   ]
  },
  {
   "cell_type": "markdown",
   "id": "f8cf9b5d",
   "metadata": {
    "papermill": {
     "duration": 0.287829,
     "end_time": "2021-12-19T19:04:08.129833",
     "exception": false,
     "start_time": "2021-12-19T19:04:07.842004",
     "status": "completed"
    },
    "tags": []
   },
   "source": [
    "## Boosting"
   ]
  },
  {
   "cell_type": "code",
   "execution_count": 30,
   "id": "7a43d7d7",
   "metadata": {
    "execution": {
     "iopub.execute_input": "2021-12-19T19:04:08.717544Z",
     "iopub.status.busy": "2021-12-19T19:04:08.716690Z",
     "iopub.status.idle": "2021-12-19T19:05:14.417512Z",
     "shell.execute_reply": "2021-12-19T19:05:14.418175Z",
     "shell.execute_reply.started": "2021-12-19T18:57:59.896366Z"
    },
    "papermill": {
     "duration": 65.999597,
     "end_time": "2021-12-19T19:05:14.418382",
     "exception": false,
     "start_time": "2021-12-19T19:04:08.418785",
     "status": "completed"
    },
    "tags": []
   },
   "outputs": [
    {
     "name": "stdout",
     "output_type": "stream",
     "text": [
      "Best iteration: 4994\n",
      "Train MAPE: 8.06661604443895\n",
      "Valid MAPE: 11.725185082467913\n"
     ]
    }
   ],
   "source": [
    "feats = cat_cols + num_cols# + ['nlp_pred']\n",
    "boost_model = CatBoostRegressor(iterations = 5000, verbose = False, cat_features = cat_cols, min_child_samples = 500)\n",
    "boost_model.fit(train[feats], train_target, eval_set = (valid[feats], valid_target), use_best_model = True)\n",
    "train['boost_pred'] = boost_model.predict(train[feats])\n",
    "valid['boost_pred'] = boost_model.predict(valid[feats])\n",
    "print('Best iteration:', boost_model.best_iteration_)\n",
    "print('Train MAPE:', mape(np.exp(train_target),np.exp(train['boost_pred'])))\n",
    "print('Valid MAPE:', mape(np.exp(valid_target),np.exp(valid['boost_pred'])))"
   ]
  },
  {
   "cell_type": "code",
   "execution_count": 31,
   "id": "0bbd71dd",
   "metadata": {
    "execution": {
     "iopub.execute_input": "2021-12-19T19:05:15.052790Z",
     "iopub.status.busy": "2021-12-19T19:05:15.046394Z",
     "iopub.status.idle": "2021-12-19T19:05:15.325901Z",
     "shell.execute_reply": "2021-12-19T19:05:15.327216Z",
     "shell.execute_reply.started": "2021-12-19T18:59:04.393714Z"
    },
    "papermill": {
     "duration": 0.610925,
     "end_time": "2021-12-19T19:05:15.327481",
     "exception": false,
     "start_time": "2021-12-19T19:05:14.716556",
     "status": "completed"
    },
    "tags": []
   },
   "outputs": [
    {
     "data": {
      "image/png": "[encoded data removed]",
      "text/plain": [
       "<Figure size 432x288 with 1 Axes>"
      ]
     },
     "metadata": {
      "needs_background": "light"
     },
     "output_type": "display_data"
    }
   ],
   "source": [
    "plt.plot(boost_model.evals_result_['learn']['RMSE'])\n",
    "plt.plot(boost_model.evals_result_['validation']['RMSE'])\n",
    "plt.legend(['train','valid']);"
   ]
  },
  {
   "cell_type": "code",
   "execution_count": 32,
   "id": "ec1203f1",
   "metadata": {
    "execution": {
     "iopub.execute_input": "2021-12-19T19:05:16.245956Z",
     "iopub.status.busy": "2021-12-19T19:05:16.233198Z",
     "iopub.status.idle": "2021-12-19T19:05:16.476312Z",
     "shell.execute_reply": "2021-12-19T19:05:16.475750Z",
     "shell.execute_reply.started": "2021-12-19T18:59:04.622953Z"
    },
    "papermill": {
     "duration": 0.578546,
     "end_time": "2021-12-19T19:05:16.476444",
     "exception": false,
     "start_time": "2021-12-19T19:05:15.897898",
     "status": "completed"
    },
    "tags": []
   },
   "outputs": [
    {
     "data": {
      "image/png": "[encoded data removed]",
      "text/plain": [
       "<Figure size 720x576 with 1 Axes>"
      ]
     },
     "metadata": {
      "needs_background": "light"
     },
     "output_type": "display_data"
    }
   ],
   "source": [
    "pd.Series(boost_model.feature_importances_, index = feats).nlargest(40).sort_values().plot(kind = 'barh', title = 'Feature importances', figsize = (10,8));"
   ]
  },
  {
   "cell_type": "code",
   "execution_count": 33,
   "id": "c32dafea",
   "metadata": {
    "execution": {
     "iopub.execute_input": "2021-12-19T19:05:17.080244Z",
     "iopub.status.busy": "2021-12-19T19:05:17.078748Z",
     "iopub.status.idle": "2021-12-19T19:05:17.256197Z",
     "shell.execute_reply": "2021-12-19T19:05:17.255532Z",
     "shell.execute_reply.started": "2021-12-19T18:59:04.905544Z"
    },
    "papermill": {
     "duration": 0.49111,
     "end_time": "2021-12-19T19:05:17.256315",
     "exception": false,
     "start_time": "2021-12-19T19:05:16.765205",
     "status": "completed"
    },
    "tags": []
   },
   "outputs": [
    {
     "data": {
      "image/png": "[encoded data removed]",
      "text/plain": [
       "<Figure size 432x288 with 1 Axes>"
      ]
     },
     "metadata": {
      "needs_background": "light"
     },
     "output_type": "display_data"
    }
   ],
   "source": [
    "plt.scatter(train['boost_pred'],train_target)\n",
    "plt.plot([12.5,17],[12.5,17],'r');"
   ]
  },
  {
   "cell_type": "code",
   "execution_count": 34,
   "id": "54287815",
   "metadata": {
    "execution": {
     "iopub.execute_input": "2021-12-19T19:05:17.883087Z",
     "iopub.status.busy": "2021-12-19T19:05:17.882256Z",
     "iopub.status.idle": "2021-12-19T19:05:18.052927Z",
     "shell.execute_reply": "2021-12-19T19:05:18.052528Z",
     "shell.execute_reply.started": "2021-12-19T18:59:05.111869Z"
    },
    "papermill": {
     "duration": 0.478356,
     "end_time": "2021-12-19T19:05:18.053061",
     "exception": false,
     "start_time": "2021-12-19T19:05:17.574705",
     "status": "completed"
    },
    "tags": []
   },
   "outputs": [
    {
     "data": {
      "image/png": "[encoded data removed]",
      "text/plain": [
       "<Figure size 432x288 with 1 Axes>"
      ]
     },
     "metadata": {
      "needs_background": "light"
     },
     "output_type": "display_data"
    }
   ],
   "source": [
    "plt.scatter(valid['boost_pred'],valid_target)\n",
    "plt.plot([12.5,17],[12.5,17],'r');"
   ]
  },
  {
   "cell_type": "markdown",
   "id": "4e6d7c7b",
   "metadata": {
    "papermill": {
     "duration": 0.292029,
     "end_time": "2021-12-19T19:05:18.682282",
     "exception": false,
     "start_time": "2021-12-19T19:05:18.390253",
     "status": "completed"
    },
    "tags": []
   },
   "source": [
    "## Blending"
   ]
  },
  {
   "cell_type": "code",
   "execution_count": 35,
   "id": "222e0a7d",
   "metadata": {
    "execution": {
     "iopub.execute_input": "2021-12-19T19:05:19.273945Z",
     "iopub.status.busy": "2021-12-19T19:05:19.272728Z",
     "iopub.status.idle": "2021-12-19T19:05:19.281735Z",
     "shell.execute_reply": "2021-12-19T19:05:19.282141Z",
     "shell.execute_reply.started": "2021-12-19T18:59:05.298993Z"
    },
    "papermill": {
     "duration": 0.309564,
     "end_time": "2021-12-19T19:05:19.282283",
     "exception": false,
     "start_time": "2021-12-19T19:05:18.972719",
     "status": "completed"
    },
    "tags": []
   },
   "outputs": [
    {
     "data": {
      "text/html": [
       "<div>\n",
       "<style scoped>\n",
       "    .dataframe tbody tr th:only-of-type {\n",
       "        vertical-align: middle;\n",
       "    }\n",
       "\n",
       "    .dataframe tbody tr th {\n",
       "        vertical-align: top;\n",
       "    }\n",
       "\n",
       "    .dataframe thead th {\n",
       "        text-align: right;\n",
       "    }\n",
       "</style>\n",
       "<table border=\"1\" class=\"dataframe\">\n",
       "  <thead>\n",
       "    <tr style=\"text-align: right;\">\n",
       "      <th></th>\n",
       "      <th>boost_pred</th>\n",
       "      <th>nlp_pred</th>\n",
       "      <th>CV_prediction</th>\n",
       "    </tr>\n",
       "  </thead>\n",
       "  <tbody>\n",
       "    <tr>\n",
       "      <th>boost_pred</th>\n",
       "      <td>1.000000</td>\n",
       "      <td>0.579426</td>\n",
       "      <td>0.900611</td>\n",
       "    </tr>\n",
       "    <tr>\n",
       "      <th>nlp_pred</th>\n",
       "      <td>0.579426</td>\n",
       "      <td>1.000000</td>\n",
       "      <td>0.560878</td>\n",
       "    </tr>\n",
       "    <tr>\n",
       "      <th>CV_prediction</th>\n",
       "      <td>0.900611</td>\n",
       "      <td>0.560878</td>\n",
       "      <td>1.000000</td>\n",
       "    </tr>\n",
       "  </tbody>\n",
       "</table>\n",
       "</div>"
      ],
      "text/plain": [
       "               boost_pred  nlp_pred  CV_prediction\n",
       "boost_pred       1.000000  0.579426       0.900611\n",
       "nlp_pred         0.579426  1.000000       0.560878\n",
       "CV_prediction    0.900611  0.560878       1.000000"
      ]
     },
     "execution_count": 35,
     "metadata": {},
     "output_type": "execute_result"
    }
   ],
   "source": [
    "train[['boost_pred','nlp_pred','CV_prediction']].corr()"
   ]
  },
  {
   "cell_type": "code",
   "execution_count": 36,
   "id": "061a389f",
   "metadata": {
    "execution": {
     "iopub.execute_input": "2021-12-19T19:05:19.877625Z",
     "iopub.status.busy": "2021-12-19T19:05:19.876750Z",
     "iopub.status.idle": "2021-12-19T19:05:20.220163Z",
     "shell.execute_reply": "2021-12-19T19:05:20.219719Z",
     "shell.execute_reply.started": "2021-12-19T19:00:56.347769Z"
    },
    "papermill": {
     "duration": 0.642656,
     "end_time": "2021-12-19T19:05:20.220291",
     "exception": false,
     "start_time": "2021-12-19T19:05:19.577635",
     "status": "completed"
    },
    "tags": []
   },
   "outputs": [
    {
     "data": {
      "text/plain": [
       "      fun: 7.889680452952646\n",
       " hess_inv: array([[ 4.07797336e-02,  6.18189753e-05, -4.03440556e-02],\n",
       "       [ 6.18189753e-05,  2.78506605e-07, -6.09095378e-05],\n",
       "       [-4.03440556e-02, -6.09095378e-05,  3.99162969e-02]])\n",
       "      jac: array([0.06468546, 0.2236684 , 0.05274856])\n",
       "  message: 'Desired error not necessarily achieved due to precision loss.'\n",
       "     nfev: 264\n",
       "      nit: 12\n",
       "     njev: 63\n",
       "   status: 2\n",
       "  success: False\n",
       "        x: array([ 0.95306215, -0.00973008,  0.0559651 ])"
      ]
     },
     "execution_count": 36,
     "metadata": {},
     "output_type": "execute_result"
    }
   ],
   "source": [
    "# Прогноз языковой модели оказывается незначимым в интегральной модели\n",
    "def f(a,x,y):\n",
    "    return mape(np.exp(y),np.exp(a[0]*x['boost_pred'] + a[1]*x['nlp_pred'] + a[2]*x['CV_prediction']))\n",
    "\n",
    "int_model = minimize(lambda a: f(a,train,train_target),[1,0,0])\n",
    "int_model"
   ]
  },
  {
   "cell_type": "code",
   "execution_count": 37,
   "id": "1b3fc967",
   "metadata": {
    "execution": {
     "iopub.execute_input": "2021-12-19T19:05:20.815362Z",
     "iopub.status.busy": "2021-12-19T19:05:20.814321Z",
     "iopub.status.idle": "2021-12-19T19:05:21.053601Z",
     "shell.execute_reply": "2021-12-19T19:05:21.053074Z",
     "shell.execute_reply.started": "2021-12-19T19:01:14.620818Z"
    },
    "papermill": {
     "duration": 0.540611,
     "end_time": "2021-12-19T19:05:21.053729",
     "exception": false,
     "start_time": "2021-12-19T19:05:20.513118",
     "status": "completed"
    },
    "tags": []
   },
   "outputs": [
    {
     "data": {
      "text/plain": [
       "      fun: 7.903227134481443\n",
       " hess_inv: array([[ 0.00197132,  0.        , -0.00192308],\n",
       "       [ 0.        ,  1.        ,  0.        ],\n",
       "       [-0.00192308,  0.        ,  0.00187665]])\n",
       "      jac: array([0.25493473, 0.        , 0.26546019])\n",
       "  message: 'Desired error not necessarily achieved due to precision loss.'\n",
       "     nfev: 183\n",
       "      nit: 9\n",
       "     njev: 44\n",
       "   status: 2\n",
       "  success: False\n",
       "        x: array([0.95025274, 0.        , 0.04910797])"
      ]
     },
     "execution_count": 37,
     "metadata": {},
     "output_type": "execute_result"
    }
   ],
   "source": [
    "# Занулим ее вклад\n",
    "def f(a,x,y):\n",
    "    return mape(np.exp(y),np.exp(a[0]*x['boost_pred'] + a[1]*x['nlp_pred']*0 + a[2]*x['CV_prediction']))\n",
    "\n",
    "int_model = minimize(lambda a: f(a,train,train_target),[1,0,0])\n",
    "int_model"
   ]
  },
  {
   "cell_type": "code",
   "execution_count": 38,
   "id": "8c05140a",
   "metadata": {
    "execution": {
     "iopub.execute_input": "2021-12-19T19:05:21.681253Z",
     "iopub.status.busy": "2021-12-19T19:05:21.680375Z",
     "iopub.status.idle": "2021-12-19T19:05:21.688006Z",
     "shell.execute_reply": "2021-12-19T19:05:21.687592Z",
     "shell.execute_reply.started": "2021-12-19T19:01:17.404501Z"
    },
    "papermill": {
     "duration": 0.302651,
     "end_time": "2021-12-19T19:05:21.688149",
     "exception": false,
     "start_time": "2021-12-19T19:05:21.385498",
     "status": "completed"
    },
    "tags": []
   },
   "outputs": [
    {
     "name": "stdout",
     "output_type": "stream",
     "text": [
      "Train MAPE: 7.903227134481443\n",
      "Valid MAPE: 11.460903513874678\n"
     ]
    }
   ],
   "source": [
    "print('Train MAPE:',f(int_model.x,train,train_target))\n",
    "print('Valid MAPE:',f(int_model.x,valid,valid_target))"
   ]
  },
  {
   "cell_type": "markdown",
   "id": "fdd0eed0",
   "metadata": {
    "papermill": {
     "duration": 0.312524,
     "end_time": "2021-12-19T19:05:22.291648",
     "exception": false,
     "start_time": "2021-12-19T19:05:21.979124",
     "status": "completed"
    },
    "tags": []
   },
   "source": [
    "## Submission"
   ]
  },
  {
   "cell_type": "code",
   "execution_count": 39,
   "id": "85ffd88e",
   "metadata": {
    "execution": {
     "iopub.execute_input": "2021-12-19T19:05:22.893985Z",
     "iopub.status.busy": "2021-12-19T19:05:22.893483Z",
     "iopub.status.idle": "2021-12-19T19:05:22.913100Z",
     "shell.execute_reply": "2021-12-19T19:05:22.912682Z",
     "shell.execute_reply.started": "2021-12-19T19:01:21.928576Z"
    },
    "papermill": {
     "duration": 0.324227,
     "end_time": "2021-12-19T19:05:22.913209",
     "exception": false,
     "start_time": "2021-12-19T19:05:22.588982",
     "status": "completed"
    },
    "tags": []
   },
   "outputs": [
    {
     "data": {
      "text/html": [
       "<div>\n",
       "<style scoped>\n",
       "    .dataframe tbody tr th:only-of-type {\n",
       "        vertical-align: middle;\n",
       "    }\n",
       "\n",
       "    .dataframe tbody tr th {\n",
       "        vertical-align: top;\n",
       "    }\n",
       "\n",
       "    .dataframe thead th {\n",
       "        text-align: right;\n",
       "    }\n",
       "</style>\n",
       "<table border=\"1\" class=\"dataframe\">\n",
       "  <thead>\n",
       "    <tr style=\"text-align: right;\">\n",
       "      <th></th>\n",
       "      <th>sell_id</th>\n",
       "      <th>price</th>\n",
       "    </tr>\n",
       "  </thead>\n",
       "  <tbody>\n",
       "    <tr>\n",
       "      <th>0</th>\n",
       "      <td>1099427284</td>\n",
       "      <td>0</td>\n",
       "    </tr>\n",
       "    <tr>\n",
       "      <th>1</th>\n",
       "      <td>1096405886</td>\n",
       "      <td>0</td>\n",
       "    </tr>\n",
       "    <tr>\n",
       "      <th>2</th>\n",
       "      <td>1100195294</td>\n",
       "      <td>0</td>\n",
       "    </tr>\n",
       "    <tr>\n",
       "      <th>3</th>\n",
       "      <td>1099827282</td>\n",
       "      <td>0</td>\n",
       "    </tr>\n",
       "    <tr>\n",
       "      <th>4</th>\n",
       "      <td>1100076198</td>\n",
       "      <td>0</td>\n",
       "    </tr>\n",
       "    <tr>\n",
       "      <th>...</th>\n",
       "      <td>...</td>\n",
       "      <td>...</td>\n",
       "    </tr>\n",
       "    <tr>\n",
       "      <th>1666</th>\n",
       "      <td>1099414488</td>\n",
       "      <td>0</td>\n",
       "    </tr>\n",
       "    <tr>\n",
       "      <th>1667</th>\n",
       "      <td>1099277058</td>\n",
       "      <td>0</td>\n",
       "    </tr>\n",
       "    <tr>\n",
       "      <th>1668</th>\n",
       "      <td>1098773964</td>\n",
       "      <td>0</td>\n",
       "    </tr>\n",
       "    <tr>\n",
       "      <th>1669</th>\n",
       "      <td>1098835932</td>\n",
       "      <td>0</td>\n",
       "    </tr>\n",
       "    <tr>\n",
       "      <th>1670</th>\n",
       "      <td>1099834690</td>\n",
       "      <td>0</td>\n",
       "    </tr>\n",
       "  </tbody>\n",
       "</table>\n",
       "<p>1671 rows × 2 columns</p>\n",
       "</div>"
      ],
      "text/plain": [
       "         sell_id  price\n",
       "0     1099427284      0\n",
       "1     1096405886      0\n",
       "2     1100195294      0\n",
       "3     1099827282      0\n",
       "4     1100076198      0\n",
       "...          ...    ...\n",
       "1666  1099414488      0\n",
       "1667  1099277058      0\n",
       "1668  1098773964      0\n",
       "1669  1098835932      0\n",
       "1670  1099834690      0\n",
       "\n",
       "[1671 rows x 2 columns]"
      ]
     },
     "execution_count": 39,
     "metadata": {},
     "output_type": "execute_result"
    }
   ],
   "source": [
    "pd.read_csv(input_path + 'sample_submission.csv')"
   ]
  },
  {
   "cell_type": "code",
   "execution_count": 40,
   "id": "a60aa835",
   "metadata": {
    "execution": {
     "iopub.execute_input": "2021-12-19T19:05:23.510543Z",
     "iopub.status.busy": "2021-12-19T19:05:23.502752Z",
     "iopub.status.idle": "2021-12-19T19:05:23.721203Z",
     "shell.execute_reply": "2021-12-19T19:05:23.720489Z",
     "shell.execute_reply.started": "2021-12-19T19:01:22.392327Z"
    },
    "papermill": {
     "duration": 0.516328,
     "end_time": "2021-12-19T19:05:23.721336",
     "exception": false,
     "start_time": "2021-12-19T19:05:23.205008",
     "status": "completed"
    },
    "tags": []
   },
   "outputs": [
    {
     "name": "stderr",
     "output_type": "stream",
     "text": [
      "/opt/conda/lib/python3.7/site-packages/ipykernel_launcher.py:6: SettingWithCopyWarning: \n",
      "A value is trying to be set on a copy of a slice from a DataFrame.\n",
      "Try using .loc[row_indexer,col_indexer] = value instead\n",
      "\n",
      "See the caveats in the documentation: https://pandas.pydata.org/pandas-docs/stable/user_guide/indexing.html#returning-a-view-versus-a-copy\n",
      "  \n"
     ]
    }
   ],
   "source": [
    "tst = data[data['sample'] == 0].fillna(-1)\n",
    "tst['nlp_pred'] = nlp_model.predict(vectorize_layer(tst['description'])).reshape(-1)\n",
    "tst['boost_pred'] = boost_model.predict(tst[feats])\n",
    "tst['price'] = np.exp(int_model.x[0]*tst['boost_pred'] + int_model.x[1]*tst['nlp_pred'] + int_model.x[2]*tst['CV_prediction'])\n",
    "submission = test[['sell_id']]\n",
    "submission['price'] = tst['price']\n",
    "submission.to_csv('submission.csv', index=False)"
   ]
  },
  {
   "cell_type": "code",
   "execution_count": null,
   "id": "0ed5a8ef",
   "metadata": {
    "papermill": {
     "duration": 0.308377,
     "end_time": "2021-12-19T19:05:24.324593",
     "exception": false,
     "start_time": "2021-12-19T19:05:24.016216",
     "status": "completed"
    },
    "tags": []
   },
   "outputs": [],
   "source": []
  }
 ],
 "metadata": {
  "kernelspec": {
   "display_name": "Python 3",
   "language": "python",
   "name": "python3"
  },
  "language_info": {
   "codemirror_mode": {
    "name": "ipython",
    "version": 3
   },
   "file_extension": ".py",
   "mimetype": "text/x-python",
   "name": "python",
   "nbconvert_exporter": "python",
   "pygments_lexer": "ipython3",
   "version": "3.7.12"
  },
  "papermill": {
   "default_parameters": {},
   "duration": 221.763706,
   "end_time": "2021-12-19T19:05:27.882833",
   "environment_variables": {},
   "exception": null,
   "input_path": "__notebook__.ipynb",
   "output_path": "__notebook__.ipynb",
   "parameters": {},
   "start_time": "2021-12-19T19:01:46.119127",
   "version": "2.3.3"
  }
 },
 "nbformat": 4,
 "nbformat_minor": 5
}
