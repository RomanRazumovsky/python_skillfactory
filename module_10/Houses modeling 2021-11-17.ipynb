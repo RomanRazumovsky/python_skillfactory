{
 "cells": [
  {
   "cell_type": "code",
   "execution_count": 401,
   "id": "deb6e7df",
   "metadata": {},
   "outputs": [],
   "source": [
    "import numpy as np\n",
    "import pandas as pd\n",
    "pd.set_option('max_column', 999)\n",
    "import regex as re\n",
    "import requests\n",
    "from requests.auth import HTTPBasicAuth, HTTPProxyAuth\n",
    "from bs4 import BeautifulSoup\n",
    "import mechanize\n",
    "import zipfile\n",
    "import time\n",
    "import os\n",
    "from urllib.error import HTTPError\n",
    "from tqdm import tqdm\n",
    "from itertools import cycle\n",
    "from datetime import datetime\n",
    "from dateutil.relativedelta import relativedelta\n",
    "from sklearn.model_selection import train_test_split, cross_val_score\n",
    "from sklearn.metrics import plot_roc_curve, roc_curve, auc, roc_auc_score, make_scorer\n",
    "from sklearn.ensemble import RandomForestClassifier\n",
    "from catboost import CatBoostClassifier, cv, Pool\n",
    "import matplotlib.pyplot as plt\n",
    "import seaborn as sns\n",
    "from time import time\n",
    "files_dir = 'C:\\\\Users\\\\razum\\\\Python\\\\Houses\\\\'#'Houses/'"
   ]
  },
  {
   "cell_type": "code",
   "execution_count": 5,
   "id": "6ec30aba",
   "metadata": {},
   "outputs": [
    {
     "name": "stderr",
     "output_type": "stream",
     "text": [
      "C:\\ProgramData\\Anaconda3\\lib\\site-packages\\IPython\\core\\interactiveshell.py:3165: DtypeWarning: Columns (2,7,8) have mixed types.Specify dtype option on import or set low_memory=False.\n",
      "  has_raised = await self.run_ast_nodes(code_ast.body, cell_name,\n"
     ]
    }
   ],
   "source": [
    "mkd_df = pd.read_csv(files_dir + 'mkd_df.csv')"
   ]
  },
  {
   "cell_type": "code",
   "execution_count": 6,
   "id": "58cb51d3",
   "metadata": {},
   "outputs": [
    {
     "data": {
      "text/html": [
       "<div>\n",
       "<style scoped>\n",
       "    .dataframe tbody tr th:only-of-type {\n",
       "        vertical-align: middle;\n",
       "    }\n",
       "\n",
       "    .dataframe tbody tr th {\n",
       "        vertical-align: top;\n",
       "    }\n",
       "\n",
       "    .dataframe thead th {\n",
       "        text-align: right;\n",
       "    }\n",
       "</style>\n",
       "<table border=\"1\" class=\"dataframe\">\n",
       "  <thead>\n",
       "    <tr style=\"text-align: right;\">\n",
       "      <th></th>\n",
       "      <th>id</th>\n",
       "      <th>region_id</th>\n",
       "      <th>area_id</th>\n",
       "      <th>city_id</th>\n",
       "      <th>street_id</th>\n",
       "      <th>shortname_region</th>\n",
       "      <th>formalname_region</th>\n",
       "      <th>shortname_area</th>\n",
       "      <th>formalname_area</th>\n",
       "      <th>shortname_city</th>\n",
       "      <th>formalname_city</th>\n",
       "      <th>shortname_street</th>\n",
       "      <th>formalname_street</th>\n",
       "      <th>house_number</th>\n",
       "      <th>building</th>\n",
       "      <th>block</th>\n",
       "      <th>letter</th>\n",
       "      <th>address</th>\n",
       "      <th>houseguid</th>\n",
       "      <th>management_organization_id</th>\n",
       "      <th>built_year</th>\n",
       "      <th>exploitation_start_year</th>\n",
       "      <th>project_type</th>\n",
       "      <th>house_type</th>\n",
       "      <th>is_alarm</th>\n",
       "      <th>method_of_forming_overhaul_fund</th>\n",
       "      <th>floor_count_max</th>\n",
       "      <th>floor_count_min</th>\n",
       "      <th>entrance_count</th>\n",
       "      <th>elevators_count</th>\n",
       "      <th>energy_efficiency</th>\n",
       "      <th>quarters_count</th>\n",
       "      <th>living_quarters_count</th>\n",
       "      <th>unliving_quarters_count</th>\n",
       "      <th>area_total</th>\n",
       "      <th>area_residential</th>\n",
       "      <th>area_non_residential</th>\n",
       "      <th>area_common_property</th>\n",
       "      <th>area_land</th>\n",
       "      <th>parking_square</th>\n",
       "      <th>playground</th>\n",
       "      <th>sportsground</th>\n",
       "      <th>other_beautification</th>\n",
       "      <th>foundation_type</th>\n",
       "      <th>floor_type</th>\n",
       "      <th>wall_material</th>\n",
       "      <th>basement_area</th>\n",
       "      <th>chute_type</th>\n",
       "      <th>chute_count</th>\n",
       "      <th>electrical_type</th>\n",
       "      <th>electrical_entries_count</th>\n",
       "      <th>heating_type</th>\n",
       "      <th>hot_water_type</th>\n",
       "      <th>cold_water_type</th>\n",
       "      <th>sewerage_type</th>\n",
       "      <th>sewerage_cesspools_volume</th>\n",
       "      <th>gas_type</th>\n",
       "      <th>ventilation_type</th>\n",
       "      <th>firefighting_type</th>\n",
       "      <th>drainage_type</th>\n",
       "      <th>file</th>\n",
       "    </tr>\n",
       "  </thead>\n",
       "  <tbody>\n",
       "    <tr>\n",
       "      <th>432455</th>\n",
       "      <td>7561916</td>\n",
       "      <td>15784a67-8cea-425b-834a-6afe0e3ed61c</td>\n",
       "      <td>e5525f12-cd73-48ee-8855-14edf150ec96</td>\n",
       "      <td>14c73394-b886-40a9-9e5c-547cfd4d6aad</td>\n",
       "      <td>33e08a1e-e12c-41fc-bc67-b4aea600c9a1</td>\n",
       "      <td>обл</td>\n",
       "      <td>Костромская</td>\n",
       "      <td>р-н</td>\n",
       "      <td>Костромской</td>\n",
       "      <td>г</td>\n",
       "      <td>Кострома</td>\n",
       "      <td>ул</td>\n",
       "      <td>Клубничная</td>\n",
       "      <td>6</td>\n",
       "      <td>NaN</td>\n",
       "      <td>NaN</td>\n",
       "      <td>NaN</td>\n",
       "      <td>обл. Костромская, р-н. Костромской, г. Костром...</td>\n",
       "      <td>0a8ff4e4-ba5d-47b2-ab92-e87c8c438c4c</td>\n",
       "      <td>8939623.0</td>\n",
       "      <td>2001.0</td>\n",
       "      <td>2001.0</td>\n",
       "      <td>КС-121-43-5/1-ДС типовой проект</td>\n",
       "      <td>Многоквартирный дом</td>\n",
       "      <td>Нет</td>\n",
       "      <td>На специальном счете у регионального оператора</td>\n",
       "      <td>5.0</td>\n",
       "      <td>5.0</td>\n",
       "      <td>1.0</td>\n",
       "      <td>0.0</td>\n",
       "      <td>Не присвоен</td>\n",
       "      <td>20</td>\n",
       "      <td>20.0</td>\n",
       "      <td>0.0</td>\n",
       "      <td>1257.97</td>\n",
       "      <td>1076.46</td>\n",
       "      <td>0.0</td>\n",
       "      <td>181.51</td>\n",
       "      <td>1675.25</td>\n",
       "      <td>131,00</td>\n",
       "      <td>499</td>\n",
       "      <td>500</td>\n",
       "      <td>отсутствует</td>\n",
       "      <td>Ленточный</td>\n",
       "      <td>Железобетонные</td>\n",
       "      <td>Панельные</td>\n",
       "      <td>293.02</td>\n",
       "      <td>Отсутствует</td>\n",
       "      <td>0.0</td>\n",
       "      <td>Центральное</td>\n",
       "      <td>1.0</td>\n",
       "      <td>Центральное</td>\n",
       "      <td>Закрытая с приготовлением горячей воды на ИТП</td>\n",
       "      <td>Центральное</td>\n",
       "      <td>Центральное</td>\n",
       "      <td>0,00</td>\n",
       "      <td>Центральное</td>\n",
       "      <td>Вытяжная вентиляция</td>\n",
       "      <td>Отсутствует</td>\n",
       "      <td>Внутренние водостоки</td>\n",
       "      <td>export-reestrmkd-44-20211001.csv</td>\n",
       "    </tr>\n",
       "    <tr>\n",
       "      <th>439298</th>\n",
       "      <td>9368465</td>\n",
       "      <td>4a3d970f-520e-46b9-b16c-50d4ca7535a8</td>\n",
       "      <td>NaN</td>\n",
       "      <td>3bbda77d-ba3f-4457-9d44-c440815cda89</td>\n",
       "      <td>e1691fc3-6945-4ef7-b150-0e70b5c5059c</td>\n",
       "      <td>обл</td>\n",
       "      <td>Курганская</td>\n",
       "      <td>NaN</td>\n",
       "      <td>NaN</td>\n",
       "      <td>г</td>\n",
       "      <td>Курган</td>\n",
       "      <td>ул</td>\n",
       "      <td>Джамбула</td>\n",
       "      <td>22</td>\n",
       "      <td>NaN</td>\n",
       "      <td>NaN</td>\n",
       "      <td>NaN</td>\n",
       "      <td>обл. Курганская, г. Курган, ул. Джамбула, д. 22</td>\n",
       "      <td>ec8fc099-20e8-48fb-b46e-53ac89a230ca</td>\n",
       "      <td>NaN</td>\n",
       "      <td>NaN</td>\n",
       "      <td>NaN</td>\n",
       "      <td>NaN</td>\n",
       "      <td>Не заполнено</td>\n",
       "      <td>Да</td>\n",
       "      <td>Не заполнено</td>\n",
       "      <td>NaN</td>\n",
       "      <td>NaN</td>\n",
       "      <td>NaN</td>\n",
       "      <td>NaN</td>\n",
       "      <td>Не заполнено</td>\n",
       "      <td>0</td>\n",
       "      <td>NaN</td>\n",
       "      <td>NaN</td>\n",
       "      <td>NaN</td>\n",
       "      <td>NaN</td>\n",
       "      <td>NaN</td>\n",
       "      <td>NaN</td>\n",
       "      <td>NaN</td>\n",
       "      <td>NaN</td>\n",
       "      <td>498</td>\n",
       "      <td>498</td>\n",
       "      <td>NaN</td>\n",
       "      <td>Не заполнено</td>\n",
       "      <td>Не заполнено</td>\n",
       "      <td>Не заполнено</td>\n",
       "      <td>NaN</td>\n",
       "      <td>Не заполнено</td>\n",
       "      <td>NaN</td>\n",
       "      <td>Не заполнено</td>\n",
       "      <td>NaN</td>\n",
       "      <td>Не заполнено</td>\n",
       "      <td>Не заполнено</td>\n",
       "      <td>Не заполнено</td>\n",
       "      <td>Не заполнено</td>\n",
       "      <td>NaN</td>\n",
       "      <td>Не заполнено</td>\n",
       "      <td>Не заполнено</td>\n",
       "      <td>Не заполнено</td>\n",
       "      <td>Не заполнено</td>\n",
       "      <td>export-reestrmkd-45-20211001.csv</td>\n",
       "    </tr>\n",
       "    <tr>\n",
       "      <th>912898</th>\n",
       "      <td>7688717</td>\n",
       "      <td>0c5b2444-70a0-4932-980c-b4dc0d3f02b5</td>\n",
       "      <td>NaN</td>\n",
       "      <td>NaN</td>\n",
       "      <td>53ce7c79-c278-4f29-b804-7ef9ca96f6dc</td>\n",
       "      <td>г</td>\n",
       "      <td>Москва</td>\n",
       "      <td>NaN</td>\n",
       "      <td>NaN</td>\n",
       "      <td>NaN</td>\n",
       "      <td>NaN</td>\n",
       "      <td>ул</td>\n",
       "      <td>Молодогвардейская</td>\n",
       "      <td>47</td>\n",
       "      <td>NaN</td>\n",
       "      <td>3</td>\n",
       "      <td>NaN</td>\n",
       "      <td>г. Москва, ул. Молодогвардейская, д. 47, к. 3</td>\n",
       "      <td>b94ff809-00df-46c9-8bdb-aa105d42e9ea</td>\n",
       "      <td>7629106.0</td>\n",
       "      <td>1970.0</td>\n",
       "      <td>1970.0</td>\n",
       "      <td>индивидуальный проект</td>\n",
       "      <td>Многоквартирный дом</td>\n",
       "      <td>Нет</td>\n",
       "      <td>На счете регионального оператора</td>\n",
       "      <td>5.0</td>\n",
       "      <td>0.0</td>\n",
       "      <td>4.0</td>\n",
       "      <td>0.0</td>\n",
       "      <td>Не заполнено</td>\n",
       "      <td>80</td>\n",
       "      <td>80.0</td>\n",
       "      <td>0.0</td>\n",
       "      <td>3406.10</td>\n",
       "      <td>3406.10</td>\n",
       "      <td>0.0</td>\n",
       "      <td>0.00</td>\n",
       "      <td>4952.00</td>\n",
       "      <td>95,00</td>\n",
       "      <td>499</td>\n",
       "      <td>500</td>\n",
       "      <td>NaN</td>\n",
       "      <td>Ленточный</td>\n",
       "      <td>Железобетонные</td>\n",
       "      <td>Кирпич</td>\n",
       "      <td>908.00</td>\n",
       "      <td>Отсутствует</td>\n",
       "      <td>0.0</td>\n",
       "      <td>Центральное</td>\n",
       "      <td>2.0</td>\n",
       "      <td>Центральное</td>\n",
       "      <td>Закрытая с приготовлением горячей воды на ЦТП</td>\n",
       "      <td>Центральное</td>\n",
       "      <td>Центральное</td>\n",
       "      <td>0,00</td>\n",
       "      <td>Центральное</td>\n",
       "      <td>Приточно-вытяжная вентиляция</td>\n",
       "      <td>Отсутствует</td>\n",
       "      <td>Наружные водостоки</td>\n",
       "      <td>export-reestrmkd-77-20211001.csv</td>\n",
       "    </tr>\n",
       "    <tr>\n",
       "      <th>1004640</th>\n",
       "      <td>9331361</td>\n",
       "      <td>6fdecb78-893a-4e3f-a5ba-aa062459463b</td>\n",
       "      <td>NaN</td>\n",
       "      <td>NaN</td>\n",
       "      <td>a857ccaa-8f2b-4719-99c0-142b96f9738b</td>\n",
       "      <td>г</td>\n",
       "      <td>Севастополь</td>\n",
       "      <td>NaN</td>\n",
       "      <td>NaN</td>\n",
       "      <td>NaN</td>\n",
       "      <td>NaN</td>\n",
       "      <td>ул</td>\n",
       "      <td>Советская</td>\n",
       "      <td>55 а</td>\n",
       "      <td>NaN</td>\n",
       "      <td>NaN</td>\n",
       "      <td>NaN</td>\n",
       "      <td>г. Севастополь, ул. Советская, д. 55 а</td>\n",
       "      <td>6f7c520c-2696-4a62-8653-0f20b313e2dc</td>\n",
       "      <td>8919424.0</td>\n",
       "      <td>1911.0</td>\n",
       "      <td>1955.0</td>\n",
       "      <td>каменный</td>\n",
       "      <td>Многоквартирный дом</td>\n",
       "      <td>Нет</td>\n",
       "      <td>На счете регионального оператора</td>\n",
       "      <td>2.0</td>\n",
       "      <td>0.0</td>\n",
       "      <td>1.0</td>\n",
       "      <td>0.0</td>\n",
       "      <td>C</td>\n",
       "      <td>5</td>\n",
       "      <td>5.0</td>\n",
       "      <td>0.0</td>\n",
       "      <td>488.00</td>\n",
       "      <td>324.70</td>\n",
       "      <td>0.0</td>\n",
       "      <td>163.30</td>\n",
       "      <td>645.00</td>\n",
       "      <td>0,00</td>\n",
       "      <td>500</td>\n",
       "      <td>500</td>\n",
       "      <td>отсутствует</td>\n",
       "      <td>Ленточный</td>\n",
       "      <td>Деревянные</td>\n",
       "      <td>Кирпич</td>\n",
       "      <td>147.20</td>\n",
       "      <td>Отсутствует</td>\n",
       "      <td>0.0</td>\n",
       "      <td>Центральное</td>\n",
       "      <td>1.0</td>\n",
       "      <td>Центральное</td>\n",
       "      <td>Квартирное (квартирный котел)</td>\n",
       "      <td>Центральное</td>\n",
       "      <td>Центральное</td>\n",
       "      <td>0,00</td>\n",
       "      <td>Центральное</td>\n",
       "      <td>Приточная вентиляция</td>\n",
       "      <td>Отсутствует</td>\n",
       "      <td>Наружные водостоки</td>\n",
       "      <td>export-reestrmkd-92-20211001.csv</td>\n",
       "    </tr>\n",
       "    <tr>\n",
       "      <th>599444</th>\n",
       "      <td>8461121</td>\n",
       "      <td>05426864-466d-41a3-82c4-11e61cdc98ce</td>\n",
       "      <td>NaN</td>\n",
       "      <td>140e31da-27bf-4519-9ea0-6185d681d44e</td>\n",
       "      <td>047cc685-41ee-40dd-adb8-e6ecc3f4f753</td>\n",
       "      <td>обл</td>\n",
       "      <td>Омская</td>\n",
       "      <td>NaN</td>\n",
       "      <td>NaN</td>\n",
       "      <td>г</td>\n",
       "      <td>Омск</td>\n",
       "      <td>ул</td>\n",
       "      <td>Молодогвардейская</td>\n",
       "      <td>9</td>\n",
       "      <td>NaN</td>\n",
       "      <td>NaN</td>\n",
       "      <td>NaN</td>\n",
       "      <td>обл. Омская, г. Омск, ул. Молодогвардейская, д. 9</td>\n",
       "      <td>2316f000-eeaf-4315-a712-674737c2a85c</td>\n",
       "      <td>8456838.0</td>\n",
       "      <td>1968.0</td>\n",
       "      <td>1968.0</td>\n",
       "      <td>II-17</td>\n",
       "      <td>Многоквартирный дом</td>\n",
       "      <td>Нет</td>\n",
       "      <td>На счете регионального оператора</td>\n",
       "      <td>4.0</td>\n",
       "      <td>4.0</td>\n",
       "      <td>1.0</td>\n",
       "      <td>0.0</td>\n",
       "      <td>B</td>\n",
       "      <td>65</td>\n",
       "      <td>65.0</td>\n",
       "      <td>0.0</td>\n",
       "      <td>2203.80</td>\n",
       "      <td>1812.90</td>\n",
       "      <td>151.7</td>\n",
       "      <td>239.20</td>\n",
       "      <td>0.00</td>\n",
       "      <td>NaN</td>\n",
       "      <td>499</td>\n",
       "      <td>500</td>\n",
       "      <td>NaN</td>\n",
       "      <td>Ленточный</td>\n",
       "      <td>Железобетонные</td>\n",
       "      <td>Кирпич</td>\n",
       "      <td>0.00</td>\n",
       "      <td>Отсутствует</td>\n",
       "      <td>0.0</td>\n",
       "      <td>Центральное</td>\n",
       "      <td>1.0</td>\n",
       "      <td>Центральное</td>\n",
       "      <td>Закрытая с приготовлением горячей воды на ЦТП</td>\n",
       "      <td>Центральное</td>\n",
       "      <td>Центральное</td>\n",
       "      <td>NaN</td>\n",
       "      <td>Центральное</td>\n",
       "      <td>Приточно-вытяжная вентиляция</td>\n",
       "      <td>Отсутствует</td>\n",
       "      <td>Наружные водостоки</td>\n",
       "      <td>export-reestrmkd-55-20211001.csv</td>\n",
       "    </tr>\n",
       "  </tbody>\n",
       "</table>\n",
       "</div>"
      ],
      "text/plain": [
       "              id                             region_id  \\\n",
       "432455   7561916  15784a67-8cea-425b-834a-6afe0e3ed61c   \n",
       "439298   9368465  4a3d970f-520e-46b9-b16c-50d4ca7535a8   \n",
       "912898   7688717  0c5b2444-70a0-4932-980c-b4dc0d3f02b5   \n",
       "1004640  9331361  6fdecb78-893a-4e3f-a5ba-aa062459463b   \n",
       "599444   8461121  05426864-466d-41a3-82c4-11e61cdc98ce   \n",
       "\n",
       "                                      area_id  \\\n",
       "432455   e5525f12-cd73-48ee-8855-14edf150ec96   \n",
       "439298                                    NaN   \n",
       "912898                                    NaN   \n",
       "1004640                                   NaN   \n",
       "599444                                    NaN   \n",
       "\n",
       "                                      city_id  \\\n",
       "432455   14c73394-b886-40a9-9e5c-547cfd4d6aad   \n",
       "439298   3bbda77d-ba3f-4457-9d44-c440815cda89   \n",
       "912898                                    NaN   \n",
       "1004640                                   NaN   \n",
       "599444   140e31da-27bf-4519-9ea0-6185d681d44e   \n",
       "\n",
       "                                    street_id shortname_region  \\\n",
       "432455   33e08a1e-e12c-41fc-bc67-b4aea600c9a1              обл   \n",
       "439298   e1691fc3-6945-4ef7-b150-0e70b5c5059c              обл   \n",
       "912898   53ce7c79-c278-4f29-b804-7ef9ca96f6dc                г   \n",
       "1004640  a857ccaa-8f2b-4719-99c0-142b96f9738b                г   \n",
       "599444   047cc685-41ee-40dd-adb8-e6ecc3f4f753              обл   \n",
       "\n",
       "        formalname_region shortname_area formalname_area shortname_city  \\\n",
       "432455        Костромская            р-н     Костромской              г   \n",
       "439298         Курганская            NaN             NaN              г   \n",
       "912898             Москва            NaN             NaN            NaN   \n",
       "1004640       Севастополь            NaN             NaN            NaN   \n",
       "599444             Омская            NaN             NaN              г   \n",
       "\n",
       "        formalname_city shortname_street  formalname_street house_number  \\\n",
       "432455         Кострома               ул         Клубничная            6   \n",
       "439298           Курган               ул           Джамбула           22   \n",
       "912898              NaN               ул  Молодогвардейская           47   \n",
       "1004640             NaN               ул          Советская         55 а   \n",
       "599444             Омск               ул  Молодогвардейская            9   \n",
       "\n",
       "        building block letter  \\\n",
       "432455       NaN   NaN    NaN   \n",
       "439298       NaN   NaN    NaN   \n",
       "912898       NaN     3    NaN   \n",
       "1004640      NaN   NaN    NaN   \n",
       "599444       NaN   NaN    NaN   \n",
       "\n",
       "                                                   address  \\\n",
       "432455   обл. Костромская, р-н. Костромской, г. Костром...   \n",
       "439298     обл. Курганская, г. Курган, ул. Джамбула, д. 22   \n",
       "912898       г. Москва, ул. Молодогвардейская, д. 47, к. 3   \n",
       "1004640             г. Севастополь, ул. Советская, д. 55 а   \n",
       "599444   обл. Омская, г. Омск, ул. Молодогвардейская, д. 9   \n",
       "\n",
       "                                    houseguid  management_organization_id  \\\n",
       "432455   0a8ff4e4-ba5d-47b2-ab92-e87c8c438c4c                   8939623.0   \n",
       "439298   ec8fc099-20e8-48fb-b46e-53ac89a230ca                         NaN   \n",
       "912898   b94ff809-00df-46c9-8bdb-aa105d42e9ea                   7629106.0   \n",
       "1004640  6f7c520c-2696-4a62-8653-0f20b313e2dc                   8919424.0   \n",
       "599444   2316f000-eeaf-4315-a712-674737c2a85c                   8456838.0   \n",
       "\n",
       "         built_year  exploitation_start_year                     project_type  \\\n",
       "432455       2001.0                   2001.0  КС-121-43-5/1-ДС типовой проект   \n",
       "439298          NaN                      NaN                              NaN   \n",
       "912898       1970.0                   1970.0            индивидуальный проект   \n",
       "1004640      1911.0                   1955.0                         каменный   \n",
       "599444       1968.0                   1968.0                            II-17   \n",
       "\n",
       "                  house_type is_alarm  \\\n",
       "432455   Многоквартирный дом      Нет   \n",
       "439298          Не заполнено       Да   \n",
       "912898   Многоквартирный дом      Нет   \n",
       "1004640  Многоквартирный дом      Нет   \n",
       "599444   Многоквартирный дом      Нет   \n",
       "\n",
       "                        method_of_forming_overhaul_fund  floor_count_max  \\\n",
       "432455   На специальном счете у регионального оператора              5.0   \n",
       "439298                                     Не заполнено              NaN   \n",
       "912898                 На счете регионального оператора              5.0   \n",
       "1004640                На счете регионального оператора              2.0   \n",
       "599444                 На счете регионального оператора              4.0   \n",
       "\n",
       "         floor_count_min  entrance_count  elevators_count energy_efficiency  \\\n",
       "432455               5.0             1.0              0.0       Не присвоен   \n",
       "439298               NaN             NaN              NaN      Не заполнено   \n",
       "912898               0.0             4.0              0.0      Не заполнено   \n",
       "1004640              0.0             1.0              0.0                 C   \n",
       "599444               4.0             1.0              0.0                 B   \n",
       "\n",
       "         quarters_count  living_quarters_count  unliving_quarters_count  \\\n",
       "432455               20                   20.0                      0.0   \n",
       "439298                0                    NaN                      NaN   \n",
       "912898               80                   80.0                      0.0   \n",
       "1004640               5                    5.0                      0.0   \n",
       "599444               65                   65.0                      0.0   \n",
       "\n",
       "         area_total  area_residential  area_non_residential  \\\n",
       "432455      1257.97           1076.46                   0.0   \n",
       "439298          NaN               NaN                   NaN   \n",
       "912898      3406.10           3406.10                   0.0   \n",
       "1004640      488.00            324.70                   0.0   \n",
       "599444      2203.80           1812.90                 151.7   \n",
       "\n",
       "         area_common_property  area_land parking_square  playground  \\\n",
       "432455                 181.51    1675.25         131,00         499   \n",
       "439298                    NaN        NaN            NaN         498   \n",
       "912898                   0.00    4952.00          95,00         499   \n",
       "1004640                163.30     645.00           0,00         500   \n",
       "599444                 239.20       0.00            NaN         499   \n",
       "\n",
       "         sportsground other_beautification foundation_type      floor_type  \\\n",
       "432455            500          отсутствует       Ленточный  Железобетонные   \n",
       "439298            498                  NaN    Не заполнено    Не заполнено   \n",
       "912898            500                  NaN       Ленточный  Железобетонные   \n",
       "1004640           500          отсутствует       Ленточный      Деревянные   \n",
       "599444            500                  NaN       Ленточный  Железобетонные   \n",
       "\n",
       "        wall_material  basement_area    chute_type  chute_count  \\\n",
       "432455      Панельные         293.02   Отсутствует          0.0   \n",
       "439298   Не заполнено            NaN  Не заполнено          NaN   \n",
       "912898         Кирпич         908.00   Отсутствует          0.0   \n",
       "1004640        Кирпич         147.20   Отсутствует          0.0   \n",
       "599444         Кирпич           0.00   Отсутствует          0.0   \n",
       "\n",
       "        electrical_type  electrical_entries_count  heating_type  \\\n",
       "432455      Центральное                       1.0   Центральное   \n",
       "439298     Не заполнено                       NaN  Не заполнено   \n",
       "912898      Центральное                       2.0   Центральное   \n",
       "1004640     Центральное                       1.0   Центральное   \n",
       "599444      Центральное                       1.0   Центральное   \n",
       "\n",
       "                                        hot_water_type cold_water_type  \\\n",
       "432455   Закрытая с приготовлением горячей воды на ИТП     Центральное   \n",
       "439298                                    Не заполнено    Не заполнено   \n",
       "912898   Закрытая с приготовлением горячей воды на ЦТП     Центральное   \n",
       "1004640                  Квартирное (квартирный котел)     Центральное   \n",
       "599444   Закрытая с приготовлением горячей воды на ЦТП     Центральное   \n",
       "\n",
       "        sewerage_type sewerage_cesspools_volume      gas_type  \\\n",
       "432455    Центральное                      0,00   Центральное   \n",
       "439298   Не заполнено                       NaN  Не заполнено   \n",
       "912898    Центральное                      0,00   Центральное   \n",
       "1004640   Центральное                      0,00   Центральное   \n",
       "599444    Центральное                       NaN   Центральное   \n",
       "\n",
       "                     ventilation_type firefighting_type         drainage_type  \\\n",
       "432455            Вытяжная вентиляция       Отсутствует  Внутренние водостоки   \n",
       "439298                   Не заполнено      Не заполнено          Не заполнено   \n",
       "912898   Приточно-вытяжная вентиляция       Отсутствует    Наружные водостоки   \n",
       "1004640          Приточная вентиляция       Отсутствует    Наружные водостоки   \n",
       "599444   Приточно-вытяжная вентиляция       Отсутствует    Наружные водостоки   \n",
       "\n",
       "                                     file  \n",
       "432455   export-reestrmkd-44-20211001.csv  \n",
       "439298   export-reestrmkd-45-20211001.csv  \n",
       "912898   export-reestrmkd-77-20211001.csv  \n",
       "1004640  export-reestrmkd-92-20211001.csv  \n",
       "599444   export-reestrmkd-55-20211001.csv  "
      ]
     },
     "execution_count": 6,
     "metadata": {},
     "output_type": "execute_result"
    }
   ],
   "source": [
    "mkd_df.sample(5)"
   ]
  },
  {
   "cell_type": "code",
   "execution_count": 7,
   "id": "53323f5f",
   "metadata": {},
   "outputs": [],
   "source": [
    "uo_df = pd.concat([pd.read_csv(files_dir + 'export-reestruo-00-20211001.csv', sep = ';')[['id','inn']],\n",
    "                  pd.read_csv(files_dir + 'inn_id_link.csv')[['id','inn']]])\\\n",
    ".drop_duplicates().reset_index(drop=True)"
   ]
  },
  {
   "cell_type": "code",
   "execution_count": 8,
   "id": "02d0deb0",
   "metadata": {},
   "outputs": [
    {
     "data": {
      "text/html": [
       "<div>\n",
       "<style scoped>\n",
       "    .dataframe tbody tr th:only-of-type {\n",
       "        vertical-align: middle;\n",
       "    }\n",
       "\n",
       "    .dataframe tbody tr th {\n",
       "        vertical-align: top;\n",
       "    }\n",
       "\n",
       "    .dataframe thead th {\n",
       "        text-align: right;\n",
       "    }\n",
       "</style>\n",
       "<table border=\"1\" class=\"dataframe\">\n",
       "  <thead>\n",
       "    <tr style=\"text-align: right;\">\n",
       "      <th></th>\n",
       "      <th>id</th>\n",
       "      <th>inn</th>\n",
       "    </tr>\n",
       "  </thead>\n",
       "  <tbody>\n",
       "    <tr>\n",
       "      <th>60982</th>\n",
       "      <td>7700427</td>\n",
       "      <td>3525112020</td>\n",
       "    </tr>\n",
       "    <tr>\n",
       "      <th>34347</th>\n",
       "      <td>6757171</td>\n",
       "      <td>1646010453</td>\n",
       "    </tr>\n",
       "    <tr>\n",
       "      <th>54375</th>\n",
       "      <td>8937672</td>\n",
       "      <td>278930915</td>\n",
       "    </tr>\n",
       "    <tr>\n",
       "      <th>5554</th>\n",
       "      <td>8074028</td>\n",
       "      <td>7725796400</td>\n",
       "    </tr>\n",
       "    <tr>\n",
       "      <th>11334</th>\n",
       "      <td>7765629</td>\n",
       "      <td>7804316712</td>\n",
       "    </tr>\n",
       "  </tbody>\n",
       "</table>\n",
       "</div>"
      ],
      "text/plain": [
       "            id         inn\n",
       "60982  7700427  3525112020\n",
       "34347  6757171  1646010453\n",
       "54375  8937672   278930915\n",
       "5554   8074028  7725796400\n",
       "11334  7765629  7804316712"
      ]
     },
     "execution_count": 8,
     "metadata": {},
     "output_type": "execute_result"
    }
   ],
   "source": [
    "uo_df.sample(5)"
   ]
  },
  {
   "cell_type": "code",
   "execution_count": 9,
   "id": "79ae747e",
   "metadata": {},
   "outputs": [
    {
     "name": "stderr",
     "output_type": "stream",
     "text": [
      "C:\\ProgramData\\Anaconda3\\lib\\site-packages\\IPython\\core\\interactiveshell.py:3165: DtypeWarning: Columns (6) have mixed types.Specify dtype option on import or set low_memory=False.\n",
      "  has_raised = await self.run_ast_nodes(code_ast.body, cell_name,\n"
     ]
    }
   ],
   "source": [
    "rusprofile_uo_df = pd.read_csv(files_dir + 'rusprofile_uo_df.csv')"
   ]
  },
  {
   "cell_type": "code",
   "execution_count": 10,
   "id": "9ab305d4",
   "metadata": {},
   "outputs": [],
   "source": [
    "def coop_flg(s):\n",
    "    x = str(s).upper()\n",
    "    return int(('ЖИЛИЩ' in x) & ('КООП' in x) | ('ЖСК' in x) \n",
    "               | ('ТОВАР' in x) & ('СОБСТВ' in x) | ('ТСЖ' in x) | ('ТСН' in x))"
   ]
  },
  {
   "cell_type": "code",
   "execution_count": 11,
   "id": "00392d55",
   "metadata": {},
   "outputs": [],
   "source": [
    "def rusdate(s):\n",
    "    try:\n",
    "        t = s.split()\n",
    "        rep = {'января':'01','февраля':'02','марта':'03','апреля':'04','мая':'05','июня':'06',\n",
    "              'июля':'07','августа':'08','сентября':'09','октября':'10','ноября':'11','декабря':'12'}\n",
    "        x = t[0] + '.' + rep[t[1]] + '.' +t[2]\n",
    "        return datetime.strptime(x,'%d.%m.%Y')\n",
    "    except:\n",
    "        return datetime(1990, 1, 1, 0, 0)"
   ]
  },
  {
   "cell_type": "code",
   "execution_count": 12,
   "id": "ed3b02a6",
   "metadata": {},
   "outputs": [],
   "source": [
    "rusprofile_uo_df['regdate'] = rusprofile_uo_df['date_reg'].apply(rusdate)\n",
    "rusprofile_uo_df['coop_flg'] = rusprofile_uo_df['company_name'].apply(coop_flg)"
   ]
  },
  {
   "cell_type": "code",
   "execution_count": 13,
   "id": "5c8b06aa",
   "metadata": {},
   "outputs": [
    {
     "data": {
      "text/html": [
       "<div>\n",
       "<style scoped>\n",
       "    .dataframe tbody tr th:only-of-type {\n",
       "        vertical-align: middle;\n",
       "    }\n",
       "\n",
       "    .dataframe tbody tr th {\n",
       "        vertical-align: top;\n",
       "    }\n",
       "\n",
       "    .dataframe thead th {\n",
       "        text-align: right;\n",
       "    }\n",
       "</style>\n",
       "<table border=\"1\" class=\"dataframe\">\n",
       "  <thead>\n",
       "    <tr style=\"text-align: right;\">\n",
       "      <th></th>\n",
       "      <th>rusprofile_id</th>\n",
       "      <th>company_name</th>\n",
       "      <th>inn</th>\n",
       "      <th>ogrn</th>\n",
       "      <th>date_reg</th>\n",
       "      <th>address</th>\n",
       "      <th>url</th>\n",
       "      <th>id</th>\n",
       "      <th>regdate</th>\n",
       "      <th>coop_flg</th>\n",
       "    </tr>\n",
       "  </thead>\n",
       "  <tbody>\n",
       "    <tr>\n",
       "      <th>147348</th>\n",
       "      <td>8540412</td>\n",
       "      <td>ТСЖ \"Прайд\"</td>\n",
       "      <td>1513048024</td>\n",
       "      <td>1141513002058</td>\n",
       "      <td>24 апреля 2014 г.</td>\n",
       "      <td>362007, Республика Северная Осетия - Алания, г...</td>\n",
       "      <td>https://www.rusprofile.ru/codes/683200/364</td>\n",
       "      <td>NaN</td>\n",
       "      <td>2014-04-24</td>\n",
       "      <td>1</td>\n",
       "    </tr>\n",
       "    <tr>\n",
       "      <th>84916</th>\n",
       "      <td>3087262</td>\n",
       "      <td>ЖСК \"Белое  Озеро\"</td>\n",
       "      <td>7017094190</td>\n",
       "      <td>1047000128295</td>\n",
       "      <td>6 мая 2004 г.</td>\n",
       "      <td>634062, Томская область, город Томск, улица Ив...</td>\n",
       "      <td>NaN</td>\n",
       "      <td>NaN</td>\n",
       "      <td>2004-05-06</td>\n",
       "      <td>1</td>\n",
       "    </tr>\n",
       "    <tr>\n",
       "      <th>62093</th>\n",
       "      <td>461170</td>\n",
       "      <td>ООО УК \"Квартал Преображенский\"</td>\n",
       "      <td>7017094507</td>\n",
       "      <td>1047000132376</td>\n",
       "      <td>13 мая 2004 г.</td>\n",
       "      <td>656008, Алтайский край, город Барнаул, Колхозн...</td>\n",
       "      <td>NaN</td>\n",
       "      <td>NaN</td>\n",
       "      <td>2004-05-13</td>\n",
       "      <td>0</td>\n",
       "    </tr>\n",
       "    <tr>\n",
       "      <th>177413</th>\n",
       "      <td>5789036</td>\n",
       "      <td>ООО \"Металлика\"</td>\n",
       "      <td>7721745250</td>\n",
       "      <td>5117746034599</td>\n",
       "      <td>19 декабря 2011 г.</td>\n",
       "      <td>109202, город Москва, шоссе Фрезер, дом 5/1, п...</td>\n",
       "      <td>https://www.rusprofile.ru/codes/683200/663</td>\n",
       "      <td>NaN</td>\n",
       "      <td>2011-12-19</td>\n",
       "      <td>0</td>\n",
       "    </tr>\n",
       "    <tr>\n",
       "      <th>32491</th>\n",
       "      <td>3504066</td>\n",
       "      <td>ТСЖ \"Просвещенец - 2\"</td>\n",
       "      <td>7606012769</td>\n",
       "      <td>1027600852443</td>\n",
       "      <td>19 декабря 2002 г.</td>\n",
       "      <td>150054, Ярославская область, город Ярославль, ...</td>\n",
       "      <td>NaN</td>\n",
       "      <td>8574168.0</td>\n",
       "      <td>2002-12-19</td>\n",
       "      <td>1</td>\n",
       "    </tr>\n",
       "  </tbody>\n",
       "</table>\n",
       "</div>"
      ],
      "text/plain": [
       "        rusprofile_id                     company_name         inn  \\\n",
       "147348        8540412                      ТСЖ \"Прайд\"  1513048024   \n",
       "84916         3087262               ЖСК \"Белое  Озеро\"  7017094190   \n",
       "62093          461170  ООО УК \"Квартал Преображенский\"  7017094507   \n",
       "177413        5789036                  ООО \"Металлика\"  7721745250   \n",
       "32491         3504066            ТСЖ \"Просвещенец - 2\"  7606012769   \n",
       "\n",
       "                 ogrn            date_reg  \\\n",
       "147348  1141513002058   24 апреля 2014 г.   \n",
       "84916   1047000128295       6 мая 2004 г.   \n",
       "62093   1047000132376      13 мая 2004 г.   \n",
       "177413  5117746034599  19 декабря 2011 г.   \n",
       "32491   1027600852443  19 декабря 2002 г.   \n",
       "\n",
       "                                                  address  \\\n",
       "147348  362007, Республика Северная Осетия - Алания, г...   \n",
       "84916   634062, Томская область, город Томск, улица Ив...   \n",
       "62093   656008, Алтайский край, город Барнаул, Колхозн...   \n",
       "177413  109202, город Москва, шоссе Фрезер, дом 5/1, п...   \n",
       "32491   150054, Ярославская область, город Ярославль, ...   \n",
       "\n",
       "                                               url         id    regdate  \\\n",
       "147348  https://www.rusprofile.ru/codes/683200/364        NaN 2014-04-24   \n",
       "84916                                          NaN        NaN 2004-05-06   \n",
       "62093                                          NaN        NaN 2004-05-13   \n",
       "177413  https://www.rusprofile.ru/codes/683200/663        NaN 2011-12-19   \n",
       "32491                                          NaN  8574168.0 2002-12-19   \n",
       "\n",
       "        coop_flg  \n",
       "147348         1  \n",
       "84916          1  \n",
       "62093          0  \n",
       "177413         0  \n",
       "32491          1  "
      ]
     },
     "execution_count": 13,
     "metadata": {},
     "output_type": "execute_result"
    }
   ],
   "source": [
    "rusprofile_uo_df.sample(5)"
   ]
  },
  {
   "cell_type": "code",
   "execution_count": 14,
   "id": "9526df23",
   "metadata": {},
   "outputs": [],
   "source": [
    "uo_df = uo_df.merge(rusprofile_uo_df[['inn','regdate','coop_flg','company_name']], how = 'left', on = 'inn')"
   ]
  },
  {
   "cell_type": "code",
   "execution_count": 15,
   "id": "2381e866",
   "metadata": {},
   "outputs": [
    {
     "data": {
      "text/html": [
       "<div>\n",
       "<style scoped>\n",
       "    .dataframe tbody tr th:only-of-type {\n",
       "        vertical-align: middle;\n",
       "    }\n",
       "\n",
       "    .dataframe tbody tr th {\n",
       "        vertical-align: top;\n",
       "    }\n",
       "\n",
       "    .dataframe thead th {\n",
       "        text-align: right;\n",
       "    }\n",
       "</style>\n",
       "<table border=\"1\" class=\"dataframe\">\n",
       "  <thead>\n",
       "    <tr style=\"text-align: right;\">\n",
       "      <th></th>\n",
       "      <th>id</th>\n",
       "      <th>inn</th>\n",
       "      <th>regdate</th>\n",
       "      <th>coop_flg</th>\n",
       "      <th>company_name</th>\n",
       "    </tr>\n",
       "  </thead>\n",
       "  <tbody>\n",
       "    <tr>\n",
       "      <th>28687</th>\n",
       "      <td>7617875</td>\n",
       "      <td>2511073147</td>\n",
       "      <td>2011-01-28</td>\n",
       "      <td>0.0</td>\n",
       "      <td>ООО \"Виктория\"</td>\n",
       "    </tr>\n",
       "    <tr>\n",
       "      <th>16574</th>\n",
       "      <td>8917150</td>\n",
       "      <td>2311103210</td>\n",
       "      <td>2007-10-23</td>\n",
       "      <td>1.0</td>\n",
       "      <td>ТСЖ \"Авангард\"</td>\n",
       "    </tr>\n",
       "    <tr>\n",
       "      <th>39701</th>\n",
       "      <td>8930797</td>\n",
       "      <td>6451006630</td>\n",
       "      <td>2015-05-06</td>\n",
       "      <td>1.0</td>\n",
       "      <td>ТСН \"Возрождение-2015\"</td>\n",
       "    </tr>\n",
       "    <tr>\n",
       "      <th>17226</th>\n",
       "      <td>7809256</td>\n",
       "      <td>2310138877</td>\n",
       "      <td>2009-05-21</td>\n",
       "      <td>1.0</td>\n",
       "      <td>ТСЖ \"Покровское\"</td>\n",
       "    </tr>\n",
       "    <tr>\n",
       "      <th>35726</th>\n",
       "      <td>8930227</td>\n",
       "      <td>6143049929</td>\n",
       "      <td>2001-10-31</td>\n",
       "      <td>1.0</td>\n",
       "      <td>ТСЖ \"Весна Дона\"</td>\n",
       "    </tr>\n",
       "  </tbody>\n",
       "</table>\n",
       "</div>"
      ],
      "text/plain": [
       "            id         inn    regdate  coop_flg            company_name\n",
       "28687  7617875  2511073147 2011-01-28       0.0          ООО \"Виктория\"\n",
       "16574  8917150  2311103210 2007-10-23       1.0          ТСЖ \"Авангард\"\n",
       "39701  8930797  6451006630 2015-05-06       1.0  ТСН \"Возрождение-2015\"\n",
       "17226  7809256  2310138877 2009-05-21       1.0        ТСЖ \"Покровское\"\n",
       "35726  8930227  6143049929 2001-10-31       1.0        ТСЖ \"Весна Дона\""
      ]
     },
     "execution_count": 15,
     "metadata": {},
     "output_type": "execute_result"
    }
   ],
   "source": [
    "uo_df.sample(5)"
   ]
  },
  {
   "cell_type": "code",
   "execution_count": 16,
   "id": "c92ceb09",
   "metadata": {},
   "outputs": [],
   "source": [
    "uo_hist_df = pd.concat([pd.read_csv(files_dir + 'uo_hist_df.csv'), pd.read_csv(files_dir + 'uo_tab_extra_0_177863.csv')])"
   ]
  },
  {
   "cell_type": "code",
   "execution_count": 17,
   "id": "e6e6eda6",
   "metadata": {},
   "outputs": [],
   "source": [
    "def to_date(s):\n",
    "    try:\n",
    "        s_date = datetime.strptime(s, '%d.%m.%Y')\n",
    "        if s_date.year in (1,1900):\n",
    "            return np.datetime64('NaT')\n",
    "        if s_date.year < 100:\n",
    "            s_date = s_date.replace(year = s_date.year + 2000)\n",
    "        if s_date.year // 100 == 2:\n",
    "            s_date = s_date.replace(year = s_date.year % 100 + 2000)\n",
    "        if s_date.year < 1900:\n",
    "            s_date = s_date.replace(year = s_date.year + 1000)\n",
    "        if s_date.year >= 3000:\n",
    "            s_date = s_date.replace(year = s_date.year - 1000)\n",
    "        if s_date.year >= 2021:\n",
    "            return np.datetime64('NaT')\n",
    "        return s_date\n",
    "    except:\n",
    "        return np.datetime64('NaT')"
   ]
  },
  {
   "cell_type": "code",
   "execution_count": 18,
   "id": "f6f1dc55",
   "metadata": {},
   "outputs": [],
   "source": [
    "uo_hist_df['date_begin_corr'] = uo_hist_df['date_begin'].apply(lambda s: to_date(s))\n",
    "uo_hist_df['date_end_corr'] = uo_hist_df['date_end'].apply(lambda s: to_date(s))"
   ]
  },
  {
   "cell_type": "markdown",
   "id": "cd9e9c67",
   "metadata": {},
   "source": [
    "## Данные относительно полные с 2014 по 2018"
   ]
  },
  {
   "cell_type": "code",
   "execution_count": 19,
   "id": "4ede2183",
   "metadata": {},
   "outputs": [
    {
     "data": {
      "image/png": "[encoded data removed]",
      "text/plain": [
       "<Figure size 432x288 with 1 Axes>"
      ]
     },
     "metadata": {
      "needs_background": "light"
     },
     "output_type": "display_data"
    }
   ],
   "source": [
    "uo_hist_df[uo_hist_df['date_begin_corr'] >= datetime(2010, 1, 1, 0, 0)]['date_begin_corr'].hist(bins = 30);"
   ]
  },
  {
   "cell_type": "code",
   "execution_count": 20,
   "id": "85b732e8",
   "metadata": {},
   "outputs": [
    {
     "data": {
      "image/png": "[encoded data removed]",
      "text/plain": [
       "<Figure size 432x288 with 1 Axes>"
      ]
     },
     "metadata": {
      "needs_background": "light"
     },
     "output_type": "display_data"
    }
   ],
   "source": [
    "uo_hist_df[uo_hist_df['date_end_corr'] >= datetime(2010, 1, 1, 0, 0)]['date_end_corr'].hist(bins = 30);"
   ]
  },
  {
   "cell_type": "markdown",
   "id": "a0dbf189",
   "metadata": {},
   "source": [
    "## Формирование выборки"
   ]
  },
  {
   "cell_type": "code",
   "execution_count": 21,
   "id": "88be105b",
   "metadata": {},
   "outputs": [],
   "source": [
    "def convert_dt(x):\n",
    "    try:\n",
    "        return datetime(int(max(int(x),1900)), 1, 1, 0, 0)\n",
    "    except:\n",
    "        return datetime(1965, 1, 1, 0, 0)"
   ]
  },
  {
   "cell_type": "code",
   "execution_count": 22,
   "id": "9c24ee3e",
   "metadata": {},
   "outputs": [],
   "source": [
    "def diff_month(d1, d2):\n",
    "    return (d1.year - d2.year) * 12 + d1.month - d2.month"
   ]
  },
  {
   "cell_type": "code",
   "execution_count": 24,
   "id": "8e70424a",
   "metadata": {},
   "outputs": [],
   "source": [
    "mkd_num_feats = ['built_year','floor_count_max','living_quarters_count',\n",
    "             'area_total','area_residential','area_land']\n",
    "mkd_cat_feats = ['project_type','formalname_region','foundation_type','floor_type','wall_material',\n",
    "             'hot_water_type','cold_water_type','sewerage_type','gas_type','ventilation_type']\n",
    "mkd_feats = mkd_num_feats + mkd_cat_feats"
   ]
  },
  {
   "cell_type": "code",
   "execution_count": 186,
   "id": "20c9b7b0",
   "metadata": {},
   "outputs": [],
   "source": [
    "def get_basis(dt, h = 6):\n",
    "    # Базис и таргет\n",
    "    beg = uo_hist_df[(uo_hist_df['date_begin_corr'] <= dt) \n",
    "                     & (uo_hist_df['date_end_corr'].fillna(datetime(2100, 1, 1, 0, 0)) > dt)]\n",
    "    dt_end = dt + relativedelta(months = h)\n",
    "    end = uo_hist_df[(uo_hist_df['date_begin_corr'] <= dt_end) \n",
    "                     & (uo_hist_df['date_end_corr'].fillna(datetime(2100, 1, 1, 0, 0)) > dt_end)][['uo_id','house_id']]\n",
    "    end.columns = ['new_uo_id','new_house_id']\n",
    "    beg = beg.merge(end, how = 'left', left_on = ['uo_id','house_id'], right_on = ['new_uo_id','new_house_id'])\n",
    "    beg['response'] = beg['new_house_id'].apply(lambda x: int(x != x))\n",
    "    beg['report_dt'] = dt\n",
    "    beg['management_days'] = beg['report_dt'] - beg['date_begin_corr']\n",
    "    \n",
    "    # Информация по дому\n",
    "    beg = beg.merge(mkd_df[['id'] + mkd_feats], \n",
    "                    left_on = 'house_id', right_on = 'id')\n",
    "    beg['built_year_dt'] = beg['built_year'].apply(convert_dt)\n",
    "    beg['house_age_days'] = beg['report_dt'] - beg['built_year_dt']\n",
    "    \n",
    "    # Статистика по портфелю УК\n",
    "    uo_stat = uo_hist_df.merge(mkd_df[['id']], left_on = 'house_id', right_on = 'id')[['uo_id','date_begin_corr','date_end_corr']]\n",
    "    uo_stat['date_end_corr'].fillna(datetime(2100, 1, 1, 0, 0), inplace = True)\n",
    "    uo_stat['uo_active_houses'] = 0\n",
    "    uo_stat.loc[(uo_stat['date_begin_corr'] <= dt) & (uo_stat['date_end_corr'] > dt), 'uo_active_houses'] = 1\n",
    "    dt_6 = dt + relativedelta(months = -6)\n",
    "    dt_12 = dt + relativedelta(months = -12)\n",
    "    uo_stat['uo_lost_houses_6'] = 0\n",
    "    uo_stat.loc[(uo_stat['date_end_corr'] >= dt_6) & (uo_stat['date_end_corr'] < dt), 'uo_lost_houses_6'] = 1   \n",
    "    uo_stat['uo_lost_houses_12'] = 0\n",
    "    uo_stat.loc[(uo_stat['date_end_corr'] >= dt_12) & (uo_stat['date_end_corr'] < dt), 'uo_lost_houses_12'] = 1\n",
    "    uo_stat['uo_new_houses_6'] = 0\n",
    "    uo_stat.loc[(uo_stat['date_begin_corr'] >= dt_6) & (uo_stat['date_begin_corr'] < dt), 'uo_new_houses_6'] = 1   \n",
    "    uo_stat['uo_new_houses_12'] = 0\n",
    "    uo_stat.loc[(uo_stat['date_begin_corr'] >= dt_12) & (uo_stat['date_begin_corr'] < dt), 'uo_new_houses_12'] = 1\n",
    "    uo_stat = uo_stat.groupby('uo_id').agg({'uo_active_houses':'sum', \n",
    "                                            'uo_lost_houses_6':'sum', 'uo_lost_houses_12':'sum',\n",
    "                                            'uo_new_houses_6':'sum', 'uo_new_houses_12':'sum'})\n",
    "    beg = beg.merge(uo_stat, how = 'left', left_on = 'uo_id', right_index = True)\n",
    "    beg['uo_lost_houses_6_ratio'] = beg['uo_lost_houses_6'] / beg['uo_active_houses']\n",
    "    beg['uo_lost_houses_12_ratio'] = beg['uo_lost_houses_12'] / beg['uo_active_houses']\n",
    "    beg['uo_new_houses_6_ratio'] = beg['uo_new_houses_6'] / beg['uo_active_houses']\n",
    "    beg['uo_new_houses_12_ratio'] = beg['uo_new_houses_12'] / beg['uo_active_houses']\n",
    "    \n",
    "    # Базовая информация по УК\n",
    "    beg = beg.merge(uo_df[['id','coop_flg','regdate']], how = 'left', left_on = 'uo_id', right_on = 'id')\n",
    "    beg['regdate'].fillna(datetime(1990, 1, 1, 0, 0),inplace=True)\n",
    "    #beg['uo_age_months'] = beg['report_dt'].apply(lambda x: 12*x.year + x.month) - beg['regdate'].apply(lambda x: 12*x.year + x.month)\n",
    "    beg['uo_age'] = beg['report_dt'] - beg['regdate']\n",
    "    \n",
    "    for col in mkd_cat_feats:\n",
    "        beg[col] = beg[col].apply(str)\n",
    "    return beg"
   ]
  },
  {
   "cell_type": "code",
   "execution_count": 187,
   "id": "4f1c87e8",
   "metadata": {},
   "outputs": [
    {
     "name": "stderr",
     "output_type": "stream",
     "text": [
      "100%|████████████████████████████████████████████████████████████████████████████████████| 3/3 [00:13<00:00,  4.63s/it]\n"
     ]
    },
    {
     "data": {
      "text/html": [
       "<div>\n",
       "<style scoped>\n",
       "    .dataframe tbody tr th:only-of-type {\n",
       "        vertical-align: middle;\n",
       "    }\n",
       "\n",
       "    .dataframe tbody tr th {\n",
       "        vertical-align: top;\n",
       "    }\n",
       "\n",
       "    .dataframe thead th {\n",
       "        text-align: right;\n",
       "    }\n",
       "</style>\n",
       "<table border=\"1\" class=\"dataframe\">\n",
       "  <thead>\n",
       "    <tr style=\"text-align: right;\">\n",
       "      <th></th>\n",
       "      <th>count</th>\n",
       "      <th>sum</th>\n",
       "      <th>mean</th>\n",
       "    </tr>\n",
       "    <tr>\n",
       "      <th>report_dt</th>\n",
       "      <th></th>\n",
       "      <th></th>\n",
       "      <th></th>\n",
       "    </tr>\n",
       "  </thead>\n",
       "  <tbody>\n",
       "    <tr>\n",
       "      <th>2015-01-01</th>\n",
       "      <td>596166</td>\n",
       "      <td>101160</td>\n",
       "      <td>0.169684</td>\n",
       "    </tr>\n",
       "    <tr>\n",
       "      <th>2016-01-01</th>\n",
       "      <td>681812</td>\n",
       "      <td>60957</td>\n",
       "      <td>0.089404</td>\n",
       "    </tr>\n",
       "    <tr>\n",
       "      <th>2017-01-01</th>\n",
       "      <td>690620</td>\n",
       "      <td>51894</td>\n",
       "      <td>0.075141</td>\n",
       "    </tr>\n",
       "  </tbody>\n",
       "</table>\n",
       "</div>"
      ],
      "text/plain": [
       "             count     sum      mean\n",
       "report_dt                           \n",
       "2015-01-01  596166  101160  0.169684\n",
       "2016-01-01  681812   60957  0.089404\n",
       "2017-01-01  690620   51894  0.075141"
      ]
     },
     "execution_count": 187,
     "metadata": {},
     "output_type": "execute_result"
    }
   ],
   "source": [
    "h = 12\n",
    "r_df = []\n",
    "for i in tqdm(range(3)):\n",
    "    r_df.append(get_basis(datetime(2015, 1, 1, 0, 0) + relativedelta(years = i), h))\n",
    "basis = pd.concat(r_df)\n",
    "basis.groupby('report_dt')['response'].agg(['count','sum','mean'])"
   ]
  },
  {
   "cell_type": "code",
   "execution_count": 264,
   "id": "b5ff1f43",
   "metadata": {},
   "outputs": [
    {
     "name": "stdout",
     "output_type": "stream",
     "text": [
      "Train shape and target rate: (1027410, 45) 0.10841825561363039\n",
      "Valid shape and target rate: (439632, 45) 0.10355251665028933\n"
     ]
    }
   ],
   "source": [
    "# Разделим на train и valid на уровне управляющих организаций со стратификацией по размеру портфеля\n",
    "uo_names = basis.groupby(['uo_id','report_dt'])[['uo_active_houses']].count().reset_index()\n",
    "uo_names['group'] = np.ceil(np.log10(uo_names['uo_active_houses']) + 1)\n",
    "\n",
    "# Исключаем управляющие организации с большими портфелями, т.к.: \n",
    "# характеристики УО по домам не будут различаться, а также происходит переобучение модели на train под них\n",
    "uo_names = uo_names[uo_names['uo_active_houses'] < 300]\n",
    "'uo_id',\n",
    "train_uo, valid_uo = train_test_split(uo_names, test_size = 0.3, stratify = uo_names['group'])\n",
    "train = basis.merge(train_uo[['uo_id','report_dt']], on = ['uo_id','report_dt'])\n",
    "valid = basis.merge(valid_uo[['uo_id','report_dt']], on = ['uo_id','report_dt'])\n",
    "print('Train shape and target rate:', train.shape, train['response'].mean())\n",
    "print('Valid shape and target rate:', valid.shape, valid['response'].mean())"
   ]
  },
  {
   "cell_type": "markdown",
   "id": "d6d13835",
   "metadata": {},
   "source": [
    "## Построение модели"
   ]
  },
  {
   "cell_type": "code",
   "execution_count": 265,
   "id": "195c1b31",
   "metadata": {},
   "outputs": [],
   "source": [
    "features = ['management_days','house_age_days','uo_active_houses',\n",
    "            'uo_new_houses_6', 'uo_new_houses_6_ratio',\n",
    "            'uo_new_houses_12', 'uo_new_houses_12_ratio',\n",
    "            'uo_lost_houses_6', 'uo_lost_houses_6_ratio',\n",
    "            'uo_lost_houses_12', 'uo_lost_houses_12_ratio',\n",
    "           'coop_flg','uo_age'] \\\n",
    "+ [x for x in mkd_feats if x not in ['built_year','project_type']]\n",
    "cat_feats = [x for x in mkd_cat_feats if x not in ['built_year','project_type']]"
   ]
  },
  {
   "cell_type": "code",
   "execution_count": 320,
   "id": "0faf266c",
   "metadata": {},
   "outputs": [],
   "source": [
    "features = ['management_days','house_age_days','uo_active_houses',\n",
    "            'uo_new_houses_6_ratio','uo_lost_houses_12_ratio',\n",
    "           'coop_flg','uo_age'] \\\n",
    "+ [x for x in mkd_feats if x not in ['built_year','project_type']]\n",
    "cat_feats = [x for x in mkd_cat_feats if x not in ['built_year','project_type']]"
   ]
  },
  {
   "cell_type": "code",
   "execution_count": 266,
   "id": "5e3b2c47",
   "metadata": {},
   "outputs": [],
   "source": [
    "gini = dict()\n",
    "feats = []\n",
    "for col in features:\n",
    "    if col not in cat_feats:\n",
    "        feats.append(col)\n",
    "        t = train[['response',col]][~train[col].isnull()]\n",
    "        gini[col] = np.abs(2*roc_auc_score(t['response'], t[col]) - 1)\n",
    "gini = pd.Series(gini).sort_values()"
   ]
  },
  {
   "cell_type": "code",
   "execution_count": 267,
   "id": "30650cb1",
   "metadata": {},
   "outputs": [
    {
     "data": {
      "image/png": "[encoded data removed]",
      "text/plain": [
       "<Figure size 432x288 with 1 Axes>"
      ]
     },
     "metadata": {
      "needs_background": "light"
     },
     "output_type": "display_data"
    }
   ],
   "source": [
    "gini.plot(kind = 'barh', title = 'Gini index');"
   ]
  },
  {
   "cell_type": "code",
   "execution_count": 268,
   "id": "6a0eaa12",
   "metadata": {},
   "outputs": [
    {
     "data": {
      "image/png": "[encoded data removed]",
      "text/plain": [
       "<Figure size 1152x432 with 2 Axes>"
      ]
     },
     "metadata": {
      "needs_background": "light"
     },
     "output_type": "display_data"
    }
   ],
   "source": [
    "plt.figure(figsize=(16, 6))\n",
    "sns.heatmap(train[gini.index[::-1]].corr(), annot = True, fmt='.2f');"
   ]
  },
  {
   "cell_type": "code",
   "execution_count": 269,
   "id": "d0f40551",
   "metadata": {},
   "outputs": [
    {
     "data": {
      "image/png": "[encoded data removed]",
      "text/plain": [
       "<Figure size 1080x720 with 16 Axes>"
      ]
     },
     "metadata": {
      "needs_background": "light"
     },
     "output_type": "display_data"
    }
   ],
   "source": [
    "train[features].hist(figsize = (15,10));"
   ]
  },
  {
   "cell_type": "code",
   "execution_count": 409,
   "id": "829367e3",
   "metadata": {},
   "outputs": [
    {
     "name": "stdout",
     "output_type": "stream",
     "text": [
      "Time elapsed: 59.68170404434204\n",
      "Best iteration: 81\n"
     ]
    }
   ],
   "source": [
    "# Используем деревья малой глубины для сокращения переобучения\n",
    "cur_time = time()\n",
    "model_cb = CatBoostClassifier(iterations = 200, verbose = False, depth = 2, cat_features = cat_feats,\n",
    "                              min_child_samples = 10000, od_pval = 0.05)\n",
    "model_cb.fit(train[features], train['response'], \n",
    "          eval_set = (valid[features], valid['response']),\n",
    "          use_best_model = True)\n",
    "print('Time elapsed:', time() - cur_time)\n",
    "print('Best iteration:', model_cb.best_iteration_)"
   ]
  },
  {
   "cell_type": "code",
   "execution_count": 410,
   "id": "9800c7a3",
   "metadata": {},
   "outputs": [
    {
     "name": "stdout",
     "output_type": "stream",
     "text": [
      "Time elapsed: 11.272591590881348\n",
      "Best iteration: 61\n"
     ]
    }
   ],
   "source": [
    "# Проверка на коротком списке фичей\n",
    "cur_time = time()\n",
    "feats = ['uo_lost_houses_12_ratio','uo_age','coop_flg',\n",
    "         'house_age_days','area_total','living_quarters_count','floor_count_max'\n",
    "         ]\n",
    "model_cb = CatBoostClassifier(iterations = 200, verbose = False, depth = 2, #cat_features = ['ventilation_type'],\n",
    "                              min_child_samples = 10000, od_pval = 0.05)\n",
    "model_cb.fit(train[feats], train['response'], \n",
    "          eval_set = (valid[feats], valid['response']),\n",
    "          use_best_model = True)\n",
    "print('Time elapsed:', time() - cur_time)\n",
    "print('Best iteration:', model_cb.best_iteration_)"
   ]
  },
  {
   "cell_type": "code",
   "execution_count": 408,
   "id": "d8d2482e",
   "metadata": {},
   "outputs": [
    {
     "data": {
      "application/vnd.jupyter.widget-view+json": {
       "model_id": "566cee82f01840bf84574cbc690b50d1",
       "version_major": 2,
       "version_minor": 0
      },
      "text/plain": [
       "MetricVisualizer(layout=Layout(align_self='stretch', height='500px'))"
      ]
     },
     "metadata": {},
     "output_type": "display_data"
    },
    {
     "name": "stdout",
     "output_type": "stream",
     "text": [
      "Training on fold [0/5]\n",
      "\n",
      "bestTest = 0.301454345\n",
      "bestIteration = 499\n",
      "\n",
      "Training on fold [1/5]\n",
      "\n",
      "bestTest = 0.3002111386\n",
      "bestIteration = 499\n",
      "\n",
      "Training on fold [2/5]\n",
      "\n",
      "bestTest = 0.3008699311\n",
      "bestIteration = 499\n",
      "\n",
      "Training on fold [3/5]\n",
      "\n",
      "bestTest = 0.2992256816\n",
      "bestIteration = 499\n",
      "\n",
      "Training on fold [4/5]\n",
      "\n",
      "bestTest = 0.3008096344\n",
      "bestIteration = 499\n",
      "\n",
      "Time elapsed: 696.117427110672\n"
     ]
    }
   ],
   "source": [
    "cur_time = time()\n",
    "\n",
    "cv_dataset = Pool(data=basis[basis['uo_active_houses'] < 300][features],\n",
    "                  label=basis[basis['uo_active_houses'] < 300]['response'],\n",
    "                  cat_features=cat_feats)\n",
    "\n",
    "params = {\"iterations\": 500,\n",
    "          \"depth\": 2,\n",
    "          \"loss_function\": \"Logloss\",\n",
    "          \"verbose\": False}\n",
    "\n",
    "scores = cv(cv_dataset,\n",
    "            params,\n",
    "            fold_count=5, \n",
    "            plot=\"True\")\n",
    "\n",
    "print('Time elapsed:', time() - cur_time)"
   ]
  },
  {
   "cell_type": "code",
   "execution_count": 331,
   "id": "daf68670",
   "metadata": {},
   "outputs": [
    {
     "data": {
      "text/plain": [
       "['built_year',\n",
       " 'floor_count_max',\n",
       " 'living_quarters_count',\n",
       " 'area_total',\n",
       " 'area_residential',\n",
       " 'area_land',\n",
       " 'project_type',\n",
       " 'formalname_region',\n",
       " 'foundation_type',\n",
       " 'floor_type',\n",
       " 'wall_material',\n",
       " 'hot_water_type',\n",
       " 'cold_water_type',\n",
       " 'sewerage_type',\n",
       " 'gas_type',\n",
       " 'ventilation_type']"
      ]
     },
     "execution_count": 331,
     "metadata": {},
     "output_type": "execute_result"
    }
   ],
   "source": [
    "mkd_feats"
   ]
  },
  {
   "cell_type": "code",
   "execution_count": 379,
   "id": "457dba9c",
   "metadata": {
    "scrolled": true
   },
   "outputs": [
    {
     "data": {
      "image/png": "[encoded data removed]",
      "text/plain": [
       "<Figure size 432x288 with 1 Axes>"
      ]
     },
     "metadata": {
      "needs_background": "light"
     },
     "output_type": "display_data"
    }
   ],
   "source": [
    "ax = plt.axes()\n",
    "plt.plot(model_cb.evals_result_['learn']['Logloss'], label = 'train')\n",
    "plt.plot(model_cb.evals_result_['validation']['Logloss'], label = 'valid')\n",
    "plt.title('Logloss')\n",
    "ax.legend();"
   ]
  },
  {
   "cell_type": "code",
   "execution_count": 380,
   "id": "39ec45fe",
   "metadata": {},
   "outputs": [
    {
     "data": {
      "image/png": "[encoded data removed]",
      "text/plain": [
       "<Figure size 432x288 with 1 Axes>"
      ]
     },
     "metadata": {
      "needs_background": "light"
     },
     "output_type": "display_data"
    }
   ],
   "source": [
    "plot_roc_curve(model_cb, train[feats], train['response'])\n",
    "plot_roc_curve(model_cb, valid[feats], valid['response'], ax = plt.gca());"
   ]
  },
  {
   "cell_type": "code",
   "execution_count": 364,
   "id": "9ff0ed71",
   "metadata": {},
   "outputs": [
    {
     "data": {
      "text/html": [
       "<div>\n",
       "<style scoped>\n",
       "    .dataframe tbody tr th:only-of-type {\n",
       "        vertical-align: middle;\n",
       "    }\n",
       "\n",
       "    .dataframe tbody tr th {\n",
       "        vertical-align: top;\n",
       "    }\n",
       "\n",
       "    .dataframe thead tr th {\n",
       "        text-align: left;\n",
       "    }\n",
       "\n",
       "    .dataframe thead tr:last-of-type th {\n",
       "        text-align: right;\n",
       "    }\n",
       "</style>\n",
       "<table border=\"1\" class=\"dataframe\">\n",
       "  <thead>\n",
       "    <tr>\n",
       "      <th></th>\n",
       "      <th colspan=\"3\" halign=\"left\">response</th>\n",
       "    </tr>\n",
       "    <tr>\n",
       "      <th></th>\n",
       "      <th>count</th>\n",
       "      <th>sum</th>\n",
       "      <th>mean</th>\n",
       "    </tr>\n",
       "    <tr>\n",
       "      <th>ventilation_type</th>\n",
       "      <th></th>\n",
       "      <th></th>\n",
       "      <th></th>\n",
       "    </tr>\n",
       "  </thead>\n",
       "  <tbody>\n",
       "    <tr>\n",
       "      <th>Вытяжная вентиляция</th>\n",
       "      <td>357844</td>\n",
       "      <td>33960</td>\n",
       "      <td>0.094902</td>\n",
       "    </tr>\n",
       "    <tr>\n",
       "      <th>Приточно-вытяжная вентиляция</th>\n",
       "      <td>355947</td>\n",
       "      <td>35713</td>\n",
       "      <td>0.100332</td>\n",
       "    </tr>\n",
       "    <tr>\n",
       "      <th>Не заполнено</th>\n",
       "      <td>159187</td>\n",
       "      <td>22931</td>\n",
       "      <td>0.144051</td>\n",
       "    </tr>\n",
       "    <tr>\n",
       "      <th>Отсутствует</th>\n",
       "      <td>78113</td>\n",
       "      <td>10985</td>\n",
       "      <td>0.140630</td>\n",
       "    </tr>\n",
       "    <tr>\n",
       "      <th>Приточная вентиляция</th>\n",
       "      <td>76319</td>\n",
       "      <td>7801</td>\n",
       "      <td>0.102216</td>\n",
       "    </tr>\n",
       "  </tbody>\n",
       "</table>\n",
       "</div>"
      ],
      "text/plain": [
       "                             response                 \n",
       "                                count    sum      mean\n",
       "ventilation_type                                      \n",
       "Вытяжная вентиляция            357844  33960  0.094902\n",
       "Приточно-вытяжная вентиляция   355947  35713  0.100332\n",
       "Не заполнено                   159187  22931  0.144051\n",
       "Отсутствует                     78113  10985  0.140630\n",
       "Приточная вентиляция            76319   7801  0.102216"
      ]
     },
     "execution_count": 364,
     "metadata": {},
     "output_type": "execute_result"
    }
   ],
   "source": [
    "train.groupby('ventilation_type').agg({'response':['count','sum','mean']})\\\n",
    ".sort_values(('response','count'), ascending = False).head(20)\n",
    "\n",
    "#formalname_region"
   ]
  },
  {
   "cell_type": "code",
   "execution_count": 323,
   "id": "db8eaf62",
   "metadata": {},
   "outputs": [
    {
     "data": {
      "image/png": "[encoded data removed]",
      "text/plain": [
       "<Figure size 432x288 with 1 Axes>"
      ]
     },
     "metadata": {
      "needs_background": "light"
     },
     "output_type": "display_data"
    }
   ],
   "source": [
    "plot_roc_curve(model_cb, train[features], train['response'])\n",
    "plot_roc_curve(model_cb, valid[features], valid['response'], ax = plt.gca());"
   ]
  },
  {
   "cell_type": "code",
   "execution_count": 411,
   "id": "f7831ad7",
   "metadata": {},
   "outputs": [
    {
     "data": {
      "image/png": "[encoded data removed]",
      "text/plain": [
       "<Figure size 576x432 with 1 Axes>"
      ]
     },
     "metadata": {
      "needs_background": "light"
     },
     "output_type": "display_data"
    }
   ],
   "source": [
    "# Основной вклад в прогноз дает статистика по управляющей организации\n",
    "pd.Series(model_cb.get_feature_importance(), index = feats).sort_values().plot(kind = 'barh', figsize = (8, 6));"
   ]
  },
  {
   "cell_type": "code",
   "execution_count": null,
   "id": "f027a7d4",
   "metadata": {},
   "outputs": [],
   "source": []
  }
 ],
 "metadata": {
  "kernelspec": {
   "display_name": "Python 3",
   "language": "python",
   "name": "python3"
  },
  "language_info": {
   "codemirror_mode": {
    "name": "ipython",
    "version": 3
   },
   "file_extension": ".py",
   "mimetype": "text/x-python",
   "name": "python",
   "nbconvert_exporter": "python",
   "pygments_lexer": "ipython3",
   "version": "3.8.8"
  }
 },
 "nbformat": 4,
 "nbformat_minor": 5
}
