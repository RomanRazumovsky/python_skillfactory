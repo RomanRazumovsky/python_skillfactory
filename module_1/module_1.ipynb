{
 "cells": [
  {
   "cell_type": "code",
   "execution_count": 1,
   "metadata": {
    "_cell_guid": "b1076dfc-b9ad-4769-8c92-a6c4dae69d19",
    "_uuid": "8f2839f25d086af736a60e9eeb907d3b93b6e0e5",
    "colab": {},
    "colab_type": "code",
    "collapsed": true,
    "id": "U2D2gTdJVp90"
   },
   "outputs": [],
   "source": [
    "import numpy as np\n",
    "import pandas as pd\n",
    "import seaborn as sns\n",
    "import matplotlib.pyplot as plt\n",
    "from collections import Counter\n",
    "from IPython.display import display"
   ]
  },
  {
   "cell_type": "code",
   "execution_count": 2,
   "metadata": {
    "_cell_guid": "79c7e3d0-c299-4dcb-8224-4455121ee9b0",
    "_uuid": "d629ff2d2480ee46fbb7e2d37f6b5fab8052498a",
    "colab": {},
    "colab_type": "code",
    "id": "oyGfxL3eVp9-"
   },
   "outputs": [
    {
     "data": {
      "text/html": [
       "<div>\n",
       "<style>\n",
       "    .dataframe thead tr:only-child th {\n",
       "        text-align: right;\n",
       "    }\n",
       "\n",
       "    .dataframe thead th {\n",
       "        text-align: left;\n",
       "    }\n",
       "\n",
       "    .dataframe tbody tr th {\n",
       "        vertical-align: top;\n",
       "    }\n",
       "</style>\n",
       "<table border=\"1\" class=\"dataframe\">\n",
       "  <thead>\n",
       "    <tr style=\"text-align: right;\">\n",
       "      <th></th>\n",
       "      <th>imdb_id</th>\n",
       "      <th>budget</th>\n",
       "      <th>revenue</th>\n",
       "      <th>original_title</th>\n",
       "      <th>cast</th>\n",
       "      <th>director</th>\n",
       "      <th>tagline</th>\n",
       "      <th>overview</th>\n",
       "      <th>runtime</th>\n",
       "      <th>genres</th>\n",
       "      <th>production_companies</th>\n",
       "      <th>release_date</th>\n",
       "      <th>vote_average</th>\n",
       "      <th>release_year</th>\n",
       "    </tr>\n",
       "  </thead>\n",
       "  <tbody>\n",
       "    <tr>\n",
       "      <th>1373</th>\n",
       "      <td>tt0427944</td>\n",
       "      <td>6500000</td>\n",
       "      <td>24793509</td>\n",
       "      <td>Thank You for Smoking</td>\n",
       "      <td>Aaron Eckhart|Maria Bello|Cameron Bright|Adam ...</td>\n",
       "      <td>Jason Reitman</td>\n",
       "      <td>Tobacco lobbyist Nick Naylor is trying to SAVE...</td>\n",
       "      <td>The chief spokesperson and lobbyist Nick Naylo...</td>\n",
       "      <td>92</td>\n",
       "      <td>Comedy|Drama</td>\n",
       "      <td>Fox Searchlight Pictures|Room 9 Entertainment</td>\n",
       "      <td>9/5/2005</td>\n",
       "      <td>7.1</td>\n",
       "      <td>2005</td>\n",
       "    </tr>\n",
       "    <tr>\n",
       "      <th>601</th>\n",
       "      <td>tt0371746</td>\n",
       "      <td>140000000</td>\n",
       "      <td>585174222</td>\n",
       "      <td>Iron Man</td>\n",
       "      <td>Robert Downey Jr.|Terrence Howard|Jeff Bridges...</td>\n",
       "      <td>Jon Favreau</td>\n",
       "      <td>Heroes aren't born. They're built.</td>\n",
       "      <td>After being held captive in an Afghan cave, bi...</td>\n",
       "      <td>126</td>\n",
       "      <td>Action|Science Fiction|Adventure</td>\n",
       "      <td>Marvel Studios</td>\n",
       "      <td>4/30/2008</td>\n",
       "      <td>7.3</td>\n",
       "      <td>2008</td>\n",
       "    </tr>\n",
       "    <tr>\n",
       "      <th>1328</th>\n",
       "      <td>tt0397535</td>\n",
       "      <td>85000000</td>\n",
       "      <td>162242962</td>\n",
       "      <td>Memoirs of a Geisha</td>\n",
       "      <td>Zhang Ziyi|Gong Li|Youki Kudoh|Tsai Chin|Suzuk...</td>\n",
       "      <td>Rob Marshall</td>\n",
       "      <td>My world is as forbidden as it is fragile; wit...</td>\n",
       "      <td>A sweeping romantic epic set in Japan in the y...</td>\n",
       "      <td>145</td>\n",
       "      <td>Drama|History|Romance</td>\n",
       "      <td>DreamWorks SKG|Spyglass Entertainment|Columbia...</td>\n",
       "      <td>12/6/2005</td>\n",
       "      <td>7.1</td>\n",
       "      <td>2005</td>\n",
       "    </tr>\n",
       "    <tr>\n",
       "      <th>1872</th>\n",
       "      <td>tt0134983</td>\n",
       "      <td>90000000</td>\n",
       "      <td>14828081</td>\n",
       "      <td>Supernova</td>\n",
       "      <td>James Spader|Angela Bassett|Robert Forster|Lou...</td>\n",
       "      <td>Walter Hill|Jack Sholder</td>\n",
       "      <td>In the farthest reaches of space, something ha...</td>\n",
       "      <td>Set in the 22nd century, when a battered salva...</td>\n",
       "      <td>91</td>\n",
       "      <td>Science Fiction</td>\n",
       "      <td>United Artists|Metro-Goldwyn-Mayer (MGM)|Hamme...</td>\n",
       "      <td>1/14/2000</td>\n",
       "      <td>4.7</td>\n",
       "      <td>2000</td>\n",
       "    </tr>\n",
       "    <tr>\n",
       "      <th>1538</th>\n",
       "      <td>tt0452624</td>\n",
       "      <td>32000000</td>\n",
       "      <td>5914908</td>\n",
       "      <td>The Good German</td>\n",
       "      <td>George Clooney|Cate Blanchett|Tobey Maguire|To...</td>\n",
       "      <td>Steven Soderbergh</td>\n",
       "      <td>If war is Hell, then what comes after?</td>\n",
       "      <td>An American journalist played by George Cloone...</td>\n",
       "      <td>108</td>\n",
       "      <td>War|Crime|Drama|Mystery|Romance</td>\n",
       "      <td>Warner Bros.|Section Eight Productions|Sunset ...</td>\n",
       "      <td>12/8/2006</td>\n",
       "      <td>5.8</td>\n",
       "      <td>2006</td>\n",
       "    </tr>\n",
       "  </tbody>\n",
       "</table>\n",
       "</div>"
      ],
      "text/plain": [
       "        imdb_id     budget    revenue         original_title  \\\n",
       "1373  tt0427944    6500000   24793509  Thank You for Smoking   \n",
       "601   tt0371746  140000000  585174222               Iron Man   \n",
       "1328  tt0397535   85000000  162242962    Memoirs of a Geisha   \n",
       "1872  tt0134983   90000000   14828081              Supernova   \n",
       "1538  tt0452624   32000000    5914908        The Good German   \n",
       "\n",
       "                                                   cast  \\\n",
       "1373  Aaron Eckhart|Maria Bello|Cameron Bright|Adam ...   \n",
       "601   Robert Downey Jr.|Terrence Howard|Jeff Bridges...   \n",
       "1328  Zhang Ziyi|Gong Li|Youki Kudoh|Tsai Chin|Suzuk...   \n",
       "1872  James Spader|Angela Bassett|Robert Forster|Lou...   \n",
       "1538  George Clooney|Cate Blanchett|Tobey Maguire|To...   \n",
       "\n",
       "                      director  \\\n",
       "1373             Jason Reitman   \n",
       "601                Jon Favreau   \n",
       "1328              Rob Marshall   \n",
       "1872  Walter Hill|Jack Sholder   \n",
       "1538         Steven Soderbergh   \n",
       "\n",
       "                                                tagline  \\\n",
       "1373  Tobacco lobbyist Nick Naylor is trying to SAVE...   \n",
       "601                  Heroes aren't born. They're built.   \n",
       "1328  My world is as forbidden as it is fragile; wit...   \n",
       "1872  In the farthest reaches of space, something ha...   \n",
       "1538             If war is Hell, then what comes after?   \n",
       "\n",
       "                                               overview  runtime  \\\n",
       "1373  The chief spokesperson and lobbyist Nick Naylo...       92   \n",
       "601   After being held captive in an Afghan cave, bi...      126   \n",
       "1328  A sweeping romantic epic set in Japan in the y...      145   \n",
       "1872  Set in the 22nd century, when a battered salva...       91   \n",
       "1538  An American journalist played by George Cloone...      108   \n",
       "\n",
       "                                genres  \\\n",
       "1373                      Comedy|Drama   \n",
       "601   Action|Science Fiction|Adventure   \n",
       "1328             Drama|History|Romance   \n",
       "1872                   Science Fiction   \n",
       "1538   War|Crime|Drama|Mystery|Romance   \n",
       "\n",
       "                                   production_companies release_date  \\\n",
       "1373      Fox Searchlight Pictures|Room 9 Entertainment     9/5/2005   \n",
       "601                                      Marvel Studios    4/30/2008   \n",
       "1328  DreamWorks SKG|Spyglass Entertainment|Columbia...    12/6/2005   \n",
       "1872  United Artists|Metro-Goldwyn-Mayer (MGM)|Hamme...    1/14/2000   \n",
       "1538  Warner Bros.|Section Eight Productions|Sunset ...    12/8/2006   \n",
       "\n",
       "      vote_average  release_year  \n",
       "1373           7.1          2005  \n",
       "601            7.3          2008  \n",
       "1328           7.1          2005  \n",
       "1872           4.7          2000  \n",
       "1538           5.8          2006  "
      ]
     },
     "execution_count": 2,
     "metadata": {},
     "output_type": "execute_result"
    }
   ],
   "source": [
    "data = pd.read_csv('movie_bd_v5.csv')\n",
    "data.sample(5)"
   ]
  },
  {
   "cell_type": "markdown",
   "metadata": {
    "colab_type": "text",
    "id": "DTIt7ezGVp-G"
   },
   "source": [
    "# Предобработка"
   ]
  },
  {
   "cell_type": "code",
   "execution_count": 3,
   "metadata": {
    "colab": {},
    "colab_type": "code",
    "id": "jNb40DwKVp-H",
    "scrolled": true
   },
   "outputs": [
    {
     "name": "stdout",
     "output_type": "stream",
     "text": [
      "<class 'pandas.core.frame.DataFrame'>\n",
      "RangeIndex: 1889 entries, 0 to 1888\n",
      "Data columns (total 17 columns):\n",
      "imdb_id                 1889 non-null object\n",
      "budget                  1889 non-null int64\n",
      "revenue                 1889 non-null int64\n",
      "original_title          1889 non-null object\n",
      "cast                    1889 non-null object\n",
      "director                1889 non-null object\n",
      "tagline                 1889 non-null object\n",
      "overview                1889 non-null object\n",
      "runtime                 1889 non-null int64\n",
      "genres                  1889 non-null object\n",
      "production_companies    1889 non-null object\n",
      "release_date            1889 non-null datetime64[ns]\n",
      "vote_average            1889 non-null float64\n",
      "release_year            1889 non-null int64\n",
      "profit                  1889 non-null int64\n",
      "title_length            1889 non-null int64\n",
      "overview_words          1889 non-null int64\n",
      "dtypes: datetime64[ns](1), float64(1), int64(7), object(8)\n",
      "memory usage: 251.0+ KB\n",
      "<class 'pandas.core.frame.DataFrame'>\n",
      "Int64Index: 5107 entries, 0 to 0\n",
      "Data columns (total 2 columns):\n",
      "genre      5107 non-null object\n",
      "imdb_id    5107 non-null object\n",
      "dtypes: object(2)\n",
      "memory usage: 119.7+ KB\n",
      "<class 'pandas.core.frame.DataFrame'>\n",
      "Int64Index: 2053 entries, 0 to 0\n",
      "Data columns (total 2 columns):\n",
      "dir        2053 non-null object\n",
      "imdb_id    2053 non-null object\n",
      "dtypes: object(2)\n",
      "memory usage: 48.1+ KB\n",
      "<class 'pandas.core.frame.DataFrame'>\n",
      "Int64Index: 9438 entries, 0 to 4\n",
      "Data columns (total 2 columns):\n",
      "actor      9438 non-null object\n",
      "imdb_id    9438 non-null object\n",
      "dtypes: object(2)\n",
      "memory usage: 221.2+ KB\n",
      "<class 'pandas.core.frame.DataFrame'>\n",
      "Int64Index: 6078 entries, 0 to 0\n",
      "Data columns (total 2 columns):\n",
      "company    6078 non-null object\n",
      "imdb_id    6078 non-null object\n",
      "dtypes: object(2)\n",
      "memory usage: 142.5+ KB\n"
     ]
    }
   ],
   "source": [
    "answers = {} # создадим словарь для ответов\n",
    "\n",
    "# тут другие ваши предобработки колонок например:\n",
    "\n",
    "#the time given in the dataset is in string format.\n",
    "#So we need to change this in datetime format\n",
    "import datetime as dt\n",
    "data.release_date=data.release_date.apply(lambda s: dt.datetime.strptime(s, \"%m/%d/%Y\"))\n",
    "\n",
    "# Как указано в задаче 6, заведем отдельный столбец для profit = revenue - budget\n",
    "data['profit']=data['revenue']-data['budget']\n",
    "\n",
    "# Длина названия для 24 задания\n",
    "data['title_length']=data.original_title.apply(lambda s: len(s))\n",
    "\n",
    "# Количество слов в описании для 25 задания\n",
    "data['overview_words']=data.overview.apply(lambda s: len(s.split()))\n",
    "\n",
    "# Нормализуем хранение информации путем вынесения в отдельные таблицы значения полей,\n",
    "# содержащих списки, разделенные '|', и фигурирующих в вопросах викторины.\n",
    "\n",
    "# Создаем пустые таблицы, на которые data будет ссылаться по imdb_id:\n",
    "genres = pd.DataFrame(columns=['imdb_id','genre'])\n",
    "directors = pd.DataFrame(columns=['imdb_id','dir'])\n",
    "actors = pd.DataFrame(columns=['imdb_id','actor'])\n",
    "companies = pd.DataFrame(columns=['imdb_id','company'])\n",
    "\n",
    "# В цикле по строкам data наполняем созданные таблицы:\n",
    "for index, row in data.iterrows():\n",
    "    \n",
    "    step_g = pd.DataFrame(str.split(row.genres,sep='|'),columns=['genre'])\n",
    "    step_g['imdb_id']=row['imdb_id']\n",
    "    genres = genres.append(step_g)\n",
    "    \n",
    "    step_d = pd.DataFrame(str.split(row.director,sep='|'),columns=['dir'])\n",
    "    step_d['imdb_id']=row['imdb_id']\n",
    "    directors = directors.append(step_d)\n",
    "    \n",
    "    step_a = pd.DataFrame(str.split(row.cast,sep='|'),columns=['actor'])\n",
    "    step_a['imdb_id']=row['imdb_id']\n",
    "    actors = actors.append(step_a)\n",
    "    \n",
    "    step_c = pd.DataFrame(str.split(row.production_companies,sep='|'),columns=['company'])\n",
    "    step_c['imdb_id']=row['imdb_id']\n",
    "    companies = companies.append(step_c)\n",
    "    \n",
    "data.info()\n",
    "genres.info()\n",
    "directors.info()\n",
    "actors.info()\n",
    "companies.info()"
   ]
  },
  {
   "cell_type": "markdown",
   "metadata": {
    "colab_type": "text",
    "id": "YxZaH-nPVp-L"
   },
   "source": [
    "# 1. У какого фильма из списка самый большой бюджет?"
   ]
  },
  {
   "cell_type": "markdown",
   "metadata": {
    "colab_type": "text",
    "id": "Nd-G5gX6Vp-M"
   },
   "source": [
    "Использовать варианты ответов в коде решения запрещено.    \n",
    "Вы думаете и в жизни у вас будут варианты ответов?)"
   ]
  },
  {
   "cell_type": "code",
   "execution_count": 39,
   "metadata": {
    "colab": {},
    "colab_type": "code",
    "collapsed": true,
    "id": "uVnXAY5RVp-O"
   },
   "outputs": [],
   "source": [
    "# в словарь вставляем номер вопроса и ваш ответ на него\n",
    "# Пример: \n",
    "# answers['1'] = '2. Spider-Man 3 (tt0413300)'\n",
    "# запишите свой вариант ответа\n",
    "answers[1] = 'Pirates of the Caribbean: On Stranger Tides (tt1298650)'\n",
    "# если ответили верно, можете добавить комментарий со значком \"+\""
   ]
  },
  {
   "cell_type": "code",
   "execution_count": 5,
   "metadata": {
    "colab": {},
    "colab_type": "code",
    "id": "dZwb3m28Vp-S"
   },
   "outputs": [
    {
     "data": {
      "text/plain": [
       "original_title    Pirates of the Caribbean: On Stranger Tides\n",
       "imdb_id                                             tt1298650\n",
       "Name: 723, dtype: object"
      ]
     },
     "execution_count": 5,
     "metadata": {},
     "output_type": "execute_result"
    }
   ],
   "source": [
    "# тут пишем ваш код для решения данного вопроса:\n",
    "data.sort_values(by=['budget'], ascending=False).iloc[0][['original_title','imdb_id']]"
   ]
  },
  {
   "cell_type": "markdown",
   "metadata": {
    "colab_type": "text",
    "id": "K7L3nbRXVp-X"
   },
   "source": [
    "ВАРИАНТ 2"
   ]
  },
  {
   "cell_type": "code",
   "execution_count": 0,
   "metadata": {
    "colab": {},
    "colab_type": "code",
    "collapsed": true,
    "id": "OGaoQI7rVp-X"
   },
   "outputs": [],
   "source": [
    "# можно добавлять разные варианты решения"
   ]
  },
  {
   "cell_type": "markdown",
   "metadata": {
    "colab_type": "text",
    "id": "FNRbbI3vVp-c"
   },
   "source": [
    "# 2. Какой из фильмов самый длительный (в минутах)?"
   ]
  },
  {
   "cell_type": "code",
   "execution_count": 6,
   "metadata": {
    "colab": {},
    "colab_type": "code",
    "collapsed": true,
    "id": "vHAoEXNTVp-d"
   },
   "outputs": [],
   "source": [
    "# думаю логику работы с этим словарем вы уже поняли, \n",
    "# по этому не буду больше его дублировать\n",
    "answers['2'] = 'Gods and Generals (tt0279111)'"
   ]
  },
  {
   "cell_type": "code",
   "execution_count": 7,
   "metadata": {
    "colab": {},
    "colab_type": "code",
    "id": "ot-VX2XrVp-g"
   },
   "outputs": [
    {
     "data": {
      "text/plain": [
       "original_title    Gods and Generals\n",
       "imdb_id                   tt0279111\n",
       "Name: 1157, dtype: object"
      ]
     },
     "execution_count": 7,
     "metadata": {},
     "output_type": "execute_result"
    }
   ],
   "source": [
    "data.sort_values(by=['runtime'], ascending=False).iloc[0][['original_title','imdb_id']]"
   ]
  },
  {
   "cell_type": "markdown",
   "metadata": {
    "colab_type": "text",
    "id": "bapLlpW8Vp-k"
   },
   "source": [
    "# 3. Какой из фильмов самый короткий (в минутах)?\n",
    "\n",
    "\n",
    "\n"
   ]
  },
  {
   "cell_type": "code",
   "execution_count": 8,
   "metadata": {
    "colab": {},
    "colab_type": "code",
    "id": "YBxaSHuAVp-l"
   },
   "outputs": [
    {
     "data": {
      "text/plain": [
       "original_title    Winnie the Pooh\n",
       "imdb_id                 tt1449283\n",
       "Name: 768, dtype: object"
      ]
     },
     "execution_count": 8,
     "metadata": {},
     "output_type": "execute_result"
    }
   ],
   "source": [
    "answers['3'] = 'Winnie the Pooh (tt1449283)'\n",
    "data.sort_values(by=['runtime']).iloc[0][['original_title','imdb_id']]"
   ]
  },
  {
   "cell_type": "markdown",
   "metadata": {
    "colab_type": "text",
    "id": "TfQbxbfNVp-p"
   },
   "source": [
    "# 4. Какова средняя длительность фильмов?\n"
   ]
  },
  {
   "cell_type": "code",
   "execution_count": 9,
   "metadata": {
    "colab": {},
    "colab_type": "code",
    "id": "5K6dKZYVVp-q"
   },
   "outputs": [
    {
     "data": {
      "text/plain": [
       "110"
      ]
     },
     "execution_count": 9,
     "metadata": {},
     "output_type": "execute_result"
    }
   ],
   "source": [
    "answers['4'] = round(data.runtime.mean())\n",
    "answers['4'] "
   ]
  },
  {
   "cell_type": "markdown",
   "metadata": {
    "colab_type": "text",
    "id": "r5TvbnT_Vp-u"
   },
   "source": [
    "# 5. Каково медианное значение длительности фильмов? "
   ]
  },
  {
   "cell_type": "code",
   "execution_count": 10,
   "metadata": {
    "colab": {},
    "colab_type": "code",
    "id": "iBROplKnVp-v"
   },
   "outputs": [
    {
     "data": {
      "text/plain": [
       "107"
      ]
     },
     "execution_count": 10,
     "metadata": {},
     "output_type": "execute_result"
    }
   ],
   "source": [
    "answers['5'] = round(data.runtime.median())\n",
    "answers['5'] "
   ]
  },
  {
   "cell_type": "markdown",
   "metadata": {
    "colab_type": "text",
    "id": "39P-deDSVp-y"
   },
   "source": [
    "# 6. Какой самый прибыльный фильм?\n",
    "#### Внимание! Здесь и далее под «прибылью» или «убытками» понимается разность между сборами и бюджетом фильма. (прибыль = сборы - бюджет) в нашем датасете это будет (profit = revenue - budget) "
   ]
  },
  {
   "cell_type": "code",
   "execution_count": 11,
   "metadata": {
    "colab": {},
    "colab_type": "code",
    "id": "UYZh4T9WVp-y"
   },
   "outputs": [
    {
     "data": {
      "text/plain": [
       "original_title       Avatar\n",
       "imdb_id           tt0499549\n",
       "Name: 239, dtype: object"
      ]
     },
     "execution_count": 11,
     "metadata": {},
     "output_type": "execute_result"
    }
   ],
   "source": [
    "# лучше код получения столбца profit вынести в Предобработку что в начале\n",
    "answers['6'] = 'Avatar (tt0499549)'\n",
    "data.sort_values(by=['profit'], ascending=False).iloc[0][['original_title','imdb_id']]"
   ]
  },
  {
   "cell_type": "markdown",
   "metadata": {
    "colab_type": "text",
    "id": "M99JmIX4Vp-2"
   },
   "source": [
    "# 7. Какой фильм самый убыточный? "
   ]
  },
  {
   "cell_type": "code",
   "execution_count": 12,
   "metadata": {
    "colab": {},
    "colab_type": "code",
    "id": "w-D2m4XPVp-3"
   },
   "outputs": [
    {
     "data": {
      "text/plain": [
       "original_title    The Lone Ranger\n",
       "imdb_id                 tt1210819\n",
       "Name: 1245, dtype: object"
      ]
     },
     "execution_count": 12,
     "metadata": {},
     "output_type": "execute_result"
    }
   ],
   "source": [
    "answers['7'] = 'The Lone Ranger (tt1210819)'\n",
    "data.sort_values(by=['profit']).iloc[0][['original_title','imdb_id']]"
   ]
  },
  {
   "cell_type": "markdown",
   "metadata": {
    "colab_type": "text",
    "id": "wEOM5ERVVp-6"
   },
   "source": [
    "# 8. У скольких фильмов из датасета объем сборов оказался выше бюджета?"
   ]
  },
  {
   "cell_type": "code",
   "execution_count": 13,
   "metadata": {
    "colab": {},
    "colab_type": "code",
    "id": "y00_7HD6Vp-7"
   },
   "outputs": [
    {
     "data": {
      "text/plain": [
       "1478"
      ]
     },
     "execution_count": 13,
     "metadata": {},
     "output_type": "execute_result"
    }
   ],
   "source": [
    "answers['8'] = len(data[data.profit > 0])\n",
    "answers['8']"
   ]
  },
  {
   "cell_type": "markdown",
   "metadata": {
    "colab_type": "text",
    "id": "xhpspA9KVp_A"
   },
   "source": [
    "# 9. Какой фильм оказался самым кассовым в 2008 году?"
   ]
  },
  {
   "cell_type": "code",
   "execution_count": 14,
   "metadata": {
    "colab": {},
    "colab_type": "code",
    "id": "MoUyQr9RVp_B"
   },
   "outputs": [
    {
     "data": {
      "text/plain": [
       "original_title    The Dark Knight\n",
       "imdb_id                 tt0468569\n",
       "Name: 599, dtype: object"
      ]
     },
     "execution_count": 14,
     "metadata": {},
     "output_type": "execute_result"
    }
   ],
   "source": [
    "answers['9'] = 'The Dark Knight (tt0468569)'\n",
    "data[data.release_year==2008].sort_values(by=['revenue'], ascending=False).iloc[0][['original_title','imdb_id']]"
   ]
  },
  {
   "cell_type": "markdown",
   "metadata": {
    "colab_type": "text",
    "id": "Zi4hDKidVp_F"
   },
   "source": [
    "# 10. Самый убыточный фильм за период с 2012 по 2014 г. (включительно)?\n"
   ]
  },
  {
   "cell_type": "code",
   "execution_count": 15,
   "metadata": {
    "colab": {},
    "colab_type": "code",
    "id": "XqyRmufJVp_F"
   },
   "outputs": [
    {
     "data": {
      "text/plain": [
       "original_title    The Lone Ranger\n",
       "imdb_id                 tt1210819\n",
       "Name: 1245, dtype: object"
      ]
     },
     "execution_count": 15,
     "metadata": {},
     "output_type": "execute_result"
    }
   ],
   "source": [
    "answers['10'] = 'The Lone Ranger (tt1210819)'\n",
    "data[(data.release_year>=2012) & (data.release_year<=2014)].sort_values(by=['profit']).iloc[0][['original_title','imdb_id']]"
   ]
  },
  {
   "cell_type": "markdown",
   "metadata": {
    "colab_type": "text",
    "id": "EA7Sa9dkVp_I"
   },
   "source": [
    "# 11. Какого жанра фильмов больше всего?"
   ]
  },
  {
   "cell_type": "code",
   "execution_count": 16,
   "metadata": {
    "colab": {},
    "colab_type": "code",
    "id": "zsJAwJ8QVp_J"
   },
   "outputs": [
    {
     "data": {
      "text/plain": [
       "'Drama'"
      ]
     },
     "execution_count": 16,
     "metadata": {},
     "output_type": "execute_result"
    }
   ],
   "source": [
    "# эту задачу тоже можно решать разными подходами, попробуй реализовать разные варианты\n",
    "# если будешь добавлять функцию - выноси ее в предобработку что в начале\n",
    "answers['11'] = 'Drama'\n",
    "data.merge(genres,on='imdb_id',how='inner').groupby('genre').count().sort_values('imdb_id',ascending=False).index[0]"
   ]
  },
  {
   "cell_type": "markdown",
   "metadata": {
    "colab_type": "text",
    "id": "Ax6g2C8SVp_M"
   },
   "source": [
    "ВАРИАНТ 2"
   ]
  },
  {
   "cell_type": "code",
   "execution_count": 17,
   "metadata": {
    "colab": {},
    "colab_type": "code",
    "id": "otO3SbrSVp_N"
   },
   "outputs": [
    {
     "data": {
      "text/plain": [
       "'Drama'"
      ]
     },
     "execution_count": 17,
     "metadata": {},
     "output_type": "execute_result"
    }
   ],
   "source": [
    "data_tmp=data['genres'].str.cat(sep='|') # превращаем все в одну строку\n",
    "data_tmp=pd.Series(data_tmp.split('|')) # создаем список разделяя строку по '|'\n",
    "data_tmp=data_tmp.value_counts(ascending=False) # считаем количество элементов строке\n",
    "data_tmp.index[0]"
   ]
  },
  {
   "cell_type": "markdown",
   "metadata": {
    "colab_type": "text",
    "id": "T9_bPWpkVp_Q"
   },
   "source": [
    "# 12. Фильмы какого жанра чаще всего становятся прибыльными? "
   ]
  },
  {
   "cell_type": "code",
   "execution_count": 18,
   "metadata": {
    "colab": {},
    "colab_type": "code",
    "id": "Tmt8MaK1Vp_R"
   },
   "outputs": [
    {
     "data": {
      "text/plain": [
       "'Drama'"
      ]
     },
     "execution_count": 18,
     "metadata": {},
     "output_type": "execute_result"
    }
   ],
   "source": [
    "answers['12'] = 'Drama'\n",
    "data[data.profit>0].merge(genres,on='imdb_id',how='inner') \\\n",
    "    .groupby('genre').count().sort_values('imdb_id',ascending=False).index[0]"
   ]
  },
  {
   "cell_type": "markdown",
   "metadata": {
    "colab_type": "text",
    "id": "0F23bgsDVp_U"
   },
   "source": [
    "# 13. У какого режиссера самые большие суммарные кассовые сбооры?"
   ]
  },
  {
   "cell_type": "code",
   "execution_count": 19,
   "metadata": {
    "colab": {},
    "colab_type": "code",
    "id": "K6Z3J8ygVp_X"
   },
   "outputs": [
    {
     "data": {
      "text/plain": [
       "'Peter Jackson'"
      ]
     },
     "execution_count": 19,
     "metadata": {},
     "output_type": "execute_result"
    }
   ],
   "source": [
    "answers['13'] = 'Peter Jackson'\n",
    "data.merge(directors,on='imdb_id',how='inner').groupby('dir').revenue.sum().sort_values(ascending=False).index[0]"
   ]
  },
  {
   "cell_type": "markdown",
   "metadata": {
    "colab_type": "text",
    "id": "PsYC9FgRVp_a"
   },
   "source": [
    "# 14. Какой режисер снял больше всего фильмов в стиле Action?"
   ]
  },
  {
   "cell_type": "code",
   "execution_count": 20,
   "metadata": {
    "colab": {},
    "colab_type": "code",
    "id": "wd2M-wHeVp_b"
   },
   "outputs": [
    {
     "data": {
      "text/plain": [
       "'Robert Rodriguez'"
      ]
     },
     "execution_count": 20,
     "metadata": {},
     "output_type": "execute_result"
    }
   ],
   "source": [
    "answers['14'] = 'Robert Rodriguez'\n",
    "data[data.genres.str.contains('Action')].merge(directors,on='imdb_id',how='inner') \\\n",
    "    .groupby('dir').imdb_id.count().sort_values(ascending=False).index[0]"
   ]
  },
  {
   "cell_type": "markdown",
   "metadata": {
    "colab_type": "text",
    "id": "PQ0KciD7Vp_f"
   },
   "source": [
    "# 15. Фильмы с каким актером принесли самые высокие кассовые сборы в 2012 году? "
   ]
  },
  {
   "cell_type": "code",
   "execution_count": 21,
   "metadata": {},
   "outputs": [
    {
     "data": {
      "text/plain": [
       "'Chris Hemsworth'"
      ]
     },
     "execution_count": 21,
     "metadata": {},
     "output_type": "execute_result"
    }
   ],
   "source": [
    "answers['15'] = 'Chris Hemsworth'\n",
    "data[data.release_year==2012].merge(actors,on='imdb_id',how='inner') \\\n",
    "    .groupby('actor').revenue.sum().sort_values(ascending=False).index[0]"
   ]
  },
  {
   "cell_type": "markdown",
   "metadata": {
    "colab_type": "text",
    "id": "mWHyyL7QVp_j"
   },
   "source": [
    "# 16. Какой актер снялся в большем количестве высокобюджетных фильмов?"
   ]
  },
  {
   "cell_type": "code",
   "execution_count": 22,
   "metadata": {
    "colab": {},
    "colab_type": "code",
    "id": "qQtmHKTFVp_k"
   },
   "outputs": [
    {
     "data": {
      "text/plain": [
       "'Matt Damon'"
      ]
     },
     "execution_count": 22,
     "metadata": {},
     "output_type": "execute_result"
    }
   ],
   "source": [
    "answers['16'] = 'Matt Damon'\n",
    "data[data['budget']>data['budget'].mean()].merge(actors,on='imdb_id',how='inner') \\\n",
    "    .groupby('actor').imdb_id.count().sort_values(ascending=False).index[0]"
   ]
  },
  {
   "cell_type": "markdown",
   "metadata": {
    "colab_type": "text",
    "id": "NIh6AaW5Vp_n"
   },
   "source": [
    "# 17. В фильмах какого жанра больше всего снимался Nicolas Cage? "
   ]
  },
  {
   "cell_type": "code",
   "execution_count": 23,
   "metadata": {
    "colab": {},
    "colab_type": "code",
    "id": "H74SJDIBVp_n"
   },
   "outputs": [
    {
     "data": {
      "text/plain": [
       "'Action'"
      ]
     },
     "execution_count": 23,
     "metadata": {},
     "output_type": "execute_result"
    }
   ],
   "source": [
    "answers['17'] = 'Action'\n",
    "data[data.cast.str.contains('Nicolas Cage')].merge(genres,on='imdb_id',how='inner') \\\n",
    "    .groupby('genre').imdb_id.count().sort_values(ascending=False).index[0]"
   ]
  },
  {
   "cell_type": "markdown",
   "metadata": {
    "colab_type": "text",
    "id": "RqOmPRfWVp_q"
   },
   "source": [
    "# 18. Самый убыточный фильм от Paramount Pictures"
   ]
  },
  {
   "cell_type": "code",
   "execution_count": 46,
   "metadata": {
    "colab": {},
    "colab_type": "code",
    "id": "9E_B0Y96Vp_r"
   },
   "outputs": [
    {
     "data": {
      "text/plain": [
       "original_title    K-19: The Widowmaker\n",
       "imdb_id                      tt0267626\n",
       "Name: 925, dtype: object"
      ]
     },
     "execution_count": 46,
     "metadata": {},
     "output_type": "execute_result"
    }
   ],
   "source": [
    "answers['18'] = 'K-19: The Widowmaker (tt0267626)'\n",
    "data[data.production_companies.str.contains('Paramount Pictures')].sort_values(by=['profit']) \\\n",
    "    .iloc[0][['original_title','imdb_id']]"
   ]
  },
  {
   "cell_type": "markdown",
   "metadata": {
    "colab_type": "text",
    "id": "vS8Ur6ddVp_u"
   },
   "source": [
    "# 19. Какой год стал самым успешным по суммарным кассовым сборам?"
   ]
  },
  {
   "cell_type": "code",
   "execution_count": 48,
   "metadata": {
    "colab": {},
    "colab_type": "code",
    "id": "Dnbt4GdIVp_v"
   },
   "outputs": [
    {
     "data": {
      "text/plain": [
       "2015"
      ]
     },
     "execution_count": 48,
     "metadata": {},
     "output_type": "execute_result"
    }
   ],
   "source": [
    "answers['19'] = 2015\n",
    "data.groupby('release_year').revenue.sum().sort_values(ascending=False).index[0]"
   ]
  },
  {
   "cell_type": "markdown",
   "metadata": {
    "colab_type": "text",
    "id": "JAzJh4QAVp_z"
   },
   "source": [
    "# 20. Какой самый прибыльный год для студии Warner Bros?"
   ]
  },
  {
   "cell_type": "code",
   "execution_count": 49,
   "metadata": {
    "colab": {},
    "colab_type": "code",
    "id": "wgVu02DEVp_0"
   },
   "outputs": [
    {
     "data": {
      "text/plain": [
       "2014"
      ]
     },
     "execution_count": 49,
     "metadata": {},
     "output_type": "execute_result"
    }
   ],
   "source": [
    "answers['20'] = 2014\n",
    "data[data.production_companies.str.contains('Warner Bros')].groupby('release_year') \\\n",
    "    .profit.sum().sort_values(ascending=False).index[0]"
   ]
  },
  {
   "cell_type": "markdown",
   "metadata": {
    "colab_type": "text",
    "id": "8Im1S2HRVp_4"
   },
   "source": [
    "# 21. В каком месяце за все годы суммарно вышло больше всего фильмов?"
   ]
  },
  {
   "cell_type": "code",
   "execution_count": 27,
   "metadata": {
    "colab": {},
    "colab_type": "code",
    "id": "lev6TH7gVp_4"
   },
   "outputs": [
    {
     "data": {
      "text/plain": [
       "'September'"
      ]
     },
     "execution_count": 27,
     "metadata": {},
     "output_type": "execute_result"
    }
   ],
   "source": [
    "answers['21'] = 'Сентябрь'\n",
    "data.groupby(data['release_date'].dt.strftime('%B')).imdb_id.count().sort_values(ascending = False).index[0]"
   ]
  },
  {
   "cell_type": "markdown",
   "metadata": {
    "colab_type": "text",
    "id": "uAJsZ_NeVp_7"
   },
   "source": [
    "# 22. Сколько суммарно вышло фильмов летом? (за июнь, июль, август)"
   ]
  },
  {
   "cell_type": "code",
   "execution_count": 50,
   "metadata": {
    "colab": {},
    "colab_type": "code",
    "id": "Aa-hEREoVp_8"
   },
   "outputs": [
    {
     "data": {
      "text/plain": [
       "450"
      ]
     },
     "execution_count": 50,
     "metadata": {},
     "output_type": "execute_result"
    }
   ],
   "source": [
    "answers['22'] = 450\n",
    "data[data['release_date'].dt.strftime('%m').isin(['06','07','08'])].imdb_id.count()"
   ]
  },
  {
   "cell_type": "markdown",
   "metadata": {
    "colab_type": "text",
    "id": "G94ppOY1VqAA"
   },
   "source": [
    "# 23. Для какого режиссера зима – самое продуктивное время года? "
   ]
  },
  {
   "cell_type": "code",
   "execution_count": 29,
   "metadata": {
    "colab": {},
    "colab_type": "code",
    "id": "RhNTsamuVqAB"
   },
   "outputs": [
    {
     "data": {
      "text/plain": [
       "'Peter Jackson'"
      ]
     },
     "execution_count": 29,
     "metadata": {},
     "output_type": "execute_result"
    }
   ],
   "source": [
    "answers['23'] = 'Peter Jackson'\n",
    "data[data['release_date'].dt.strftime('%m').isin(['12','01','02'])].merge(directors,on='imdb_id',how='inner') \\\n",
    "    .groupby('dir').imdb_id.count().sort_values(ascending=False).index[0]"
   ]
  },
  {
   "cell_type": "markdown",
   "metadata": {
    "colab_type": "text",
    "id": "RBo0JVjVVqAF"
   },
   "source": [
    "# 24. Какая студия дает самые длинные названия своим фильмам по количеству символов?"
   ]
  },
  {
   "cell_type": "code",
   "execution_count": 30,
   "metadata": {
    "colab": {},
    "colab_type": "code",
    "id": "QRGS8L0iVqAG"
   },
   "outputs": [
    {
     "data": {
      "text/plain": [
       "'Four By Two Productions'"
      ]
     },
     "execution_count": 30,
     "metadata": {},
     "output_type": "execute_result"
    }
   ],
   "source": [
    "answers['24'] = 'Four By Two Productions'\n",
    "data.merge(companies,on='imdb_id',how='inner').groupby('company').title_length.mean().sort_values(ascending=False).index[0]"
   ]
  },
  {
   "cell_type": "markdown",
   "metadata": {
    "colab_type": "text",
    "id": "9G0hbvR7VqAK"
   },
   "source": [
    "# 25. Описание фильмов какой студии в среднем самые длинные по количеству слов?"
   ]
  },
  {
   "cell_type": "code",
   "execution_count": 41,
   "metadata": {
    "colab": {},
    "colab_type": "code",
    "id": "Ge2GsLNxVqAK"
   },
   "outputs": [
    {
     "data": {
      "text/plain": [
       "'Midnight Picture Show'"
      ]
     },
     "execution_count": 41,
     "metadata": {},
     "output_type": "execute_result"
    }
   ],
   "source": [
    "answers['25'] = 'Midnight Picture Show'\n",
    "data.merge(companies,on='imdb_id',how='inner').groupby('company').overview_words.mean().sort_values(ascending=False).index[0]"
   ]
  },
  {
   "cell_type": "markdown",
   "metadata": {
    "colab_type": "text",
    "id": "FJ1AFt90VqAP"
   },
   "source": [
    "# 26. Какие фильмы входят в 1 процент лучших по рейтингу? \n",
    "по vote_average"
   ]
  },
  {
   "cell_type": "code",
   "execution_count": 59,
   "metadata": {
    "colab": {},
    "colab_type": "code",
    "id": "8qmJVq4CVqAQ"
   },
   "outputs": [
    {
     "name": "stdout",
     "output_type": "stream",
     "text": [
      "['The Dark Knight', 'Interstellar', 'The Imitation Game', 'Inside Out', 'Room', 'The Wolf of Wall Street', 'Gone Girl', '12 Years a Slave', 'Guardians of the Galaxy', 'The Lord of the Rings: The Return of the King', 'Memento', 'Inception', 'The Pianist', 'The Grand Budapest Hotel', 'Her', 'Spotlight', 'Big Hero 6', 'The Fault in Our Stars']\n",
      "1 True\n",
      "2 False\n",
      "3 False\n",
      "4 False\n",
      "5 False\n"
     ]
    }
   ],
   "source": [
    "# формируем список фильмов (top_1_rating), входящих в 1% лучших по рейтингу\n",
    "top_1_rating = list(data.sort_values(['vote_average'],ascending=False).head(int(len(data)/100)).original_title)\n",
    "print(top_1_rating)\n",
    "\n",
    "# для каждого варианта ответа проверяенм вхождение в top_1_rating\n",
    "print(1,set(['Inside Out', 'The Dark Knight', '12 Years a Slave']).issubset(top_1_rating))\n",
    "print(2,set(['BloodRayne', 'The Adventures of Rocky & Bullwinkle']).issubset(top_1_rating))\n",
    "print(3,set(['Batman Begins', 'The Lord of the Rings: The Return of the King', 'Upside Down']).issubset(top_1_rating))\n",
    "print(4,set(['300', 'Lucky Number Slevin', 'Kill Bill: Vol. 1']).issubset(top_1_rating))\n",
    "print(5,set(['Upside Down', 'Inside Out', 'Iron Man']).issubset(top_1_rating))\n",
    "answers['26'] = 'Inside Out, The Dark Knight, 12 Years a Slave'"
   ]
  },
  {
   "cell_type": "markdown",
   "metadata": {
    "colab_type": "text",
    "id": "MdXsUXbCVqAV"
   },
   "source": [
    "# 27. Какие актеры чаще всего снимаются в одном фильме вместе?\n"
   ]
  },
  {
   "cell_type": "code",
   "execution_count": 82,
   "metadata": {
    "colab_type": "text",
    "id": "4ymnxEVoVqAW"
   },
   "outputs": [
    {
     "name": "stdout",
     "output_type": "stream",
     "text": [
      "('Rupert Grint', 'Daniel Radcliffe')\n"
     ]
    }
   ],
   "source": [
    "# Дважды связываем фильмы со справочником актеров для получения всевозможных пар актеров\n",
    "actor_pairs = data.merge(actors,on='imdb_id',how='inner').merge(actors,on='imdb_id',how='inner')\n",
    "\n",
    "# Находим самую частотную пару. При этом исключаем строки, в которых актер1 = актер2\n",
    "print(actor_pairs[actor_pairs.actor_x!=actor_pairs.actor_y].groupby(['actor_x','actor_y']) \\\n",
    "      .imdb_id.count().sort_values(ascending=False).index[0])\n",
    "answers['27'] = 'Daniel Radcliffe & Rupert Grint'"
   ]
  },
  {
   "cell_type": "markdown",
   "metadata": {
    "colab_type": "text",
    "id": "U0nONFnGVqAX"
   },
   "source": [
    "# Submission"
   ]
  },
  {
   "cell_type": "code",
   "execution_count": 83,
   "metadata": {
    "colab": {},
    "colab_type": "code",
    "id": "IfcaRO9-VqAX",
    "outputId": "0f132912-32bb-4196-c98c-abfbc4ad5a5f"
   },
   "outputs": [
    {
     "data": {
      "text/plain": [
       "{'1': 'Pirates of the Caribbean: On Stranger Tides (tt1298650)',\n",
       " '10': 'The Lone Ranger (tt1210819)',\n",
       " '11': 'Drama',\n",
       " '12': 'Drama',\n",
       " '13': 'Peter Jackson',\n",
       " '14': 'Robert Rodriguez',\n",
       " '15': 'Chris Hemsworth',\n",
       " '16': 'Matt Damon',\n",
       " '17': 'Action',\n",
       " '18': 'K-19: The Widowmaker (tt0267626)',\n",
       " '19': 2015,\n",
       " '2': 'Gods and Generals (tt0279111)',\n",
       " '20': 2014,\n",
       " '21': 'Сентябрь',\n",
       " '22': 450,\n",
       " '23': 'Peter Jackson',\n",
       " '24': 'Four By Two Productions',\n",
       " '25': 'Midnight Picture Show',\n",
       " '26': 'Inside Out, The Dark Knight, 12 Years a Slave',\n",
       " '27': 'Daniel Radcliffe & Rupert Grint',\n",
       " '3': 'Winnie the Pooh (tt1449283)',\n",
       " '4': 110,\n",
       " '5': 107,\n",
       " '6': 'Avatar (tt0499549)',\n",
       " '7': 'The Lone Ranger (tt1210819)',\n",
       " '8': 1478,\n",
       " '9': 'The Dark Knight (tt0468569)'}"
      ]
     },
     "execution_count": 83,
     "metadata": {},
     "output_type": "execute_result"
    }
   ],
   "source": [
    "# в конце можно посмотреть свои ответы к каждому вопросу\n",
    "answers"
   ]
  },
  {
   "cell_type": "code",
   "execution_count": 84,
   "metadata": {
    "colab": {},
    "colab_type": "code",
    "id": "SiRmHPl8VqAd"
   },
   "outputs": [
    {
     "data": {
      "text/plain": [
       "27"
      ]
     },
     "execution_count": 84,
     "metadata": {},
     "output_type": "execute_result"
    }
   ],
   "source": [
    "# и убедиться что ни чего не пропустил)\n",
    "len(answers)"
   ]
  }
 ],
 "metadata": {
  "colab": {
   "name": "Copy of [SF-DST] Movies IMBD v4.1 TEMPLATE.ipynb",
   "provenance": []
  },
  "kernelspec": {
   "display_name": "Python 3",
   "language": "python",
   "name": "python3"
  },
  "language_info": {
   "codemirror_mode": {
    "name": "ipython",
    "version": 3
   },
   "file_extension": ".py",
   "mimetype": "text/x-python",
   "name": "python",
   "nbconvert_exporter": "python",
   "pygments_lexer": "ipython3",
   "version": "3.6.1"
  }
 },
 "nbformat": 4,
 "nbformat_minor": 1
}
