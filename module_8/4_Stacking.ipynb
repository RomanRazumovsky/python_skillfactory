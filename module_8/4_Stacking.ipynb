{
 "cells": [
  {
   "cell_type": "code",
   "execution_count": 1,
   "id": "98ae1f49",
   "metadata": {
    "_cell_guid": "b1076dfc-b9ad-4769-8c92-a6c4dae69d19",
    "_uuid": "8f2839f25d086af736a60e9eeb907d3b93b6e0e5",
    "execution": {
     "iopub.execute_input": "2021-07-13T21:02:09.395944Z",
     "iopub.status.busy": "2021-07-13T21:02:09.394761Z",
     "iopub.status.idle": "2021-07-13T21:02:10.448506Z",
     "shell.execute_reply": "2021-07-13T21:02:10.449025Z",
     "shell.execute_reply.started": "2021-07-13T20:57:41.009618Z"
    },
    "papermill": {
     "duration": 1.065082,
     "end_time": "2021-07-13T21:02:10.449321",
     "exception": false,
     "start_time": "2021-07-13T21:02:09.384239",
     "status": "completed"
    },
    "tags": []
   },
   "outputs": [
    {
     "name": "stdout",
     "output_type": "stream",
     "text": [
      "/kaggle/input/sf-dl-car-classification/train.zip\n",
      "/kaggle/input/sf-dl-car-classification/sample-submission.csv\n",
      "/kaggle/input/sf-dl-car-classification/test.zip\n",
      "/kaggle/input/sf-dl-car-classification/train.csv\n",
      "/kaggle/input/model-18/preds_nnl_df.csv\n",
      "/kaggle/input/model-18/x_df.csv\n",
      "/kaggle/input/model-18/nnl_df.csv\n",
      "/kaggle/input/model-18/model_18.hdf5\n",
      "/kaggle/input/model-18/train_true_df.csv\n",
      "/kaggle/input/model-18/NasNetLarge.hdf5\n",
      "/kaggle/input/model-18/preds_x_df.csv\n"
     ]
    }
   ],
   "source": [
    "import numpy as np # linear algebra\n",
    "import pandas as pd # data processing, CSV file I/O (e.g. pd.read_csv)\n",
    "from sklearn.metrics import accuracy_score\n",
    "import matplotlib.pyplot as plt\n",
    "\n",
    "import os\n",
    "for dirname, _, filenames in os.walk('/kaggle/input'):\n",
    "    for filename in filenames:\n",
    "        print(os.path.join(dirname, filename))"
   ]
  },
  {
   "cell_type": "code",
   "execution_count": 2,
   "id": "f9eec860",
   "metadata": {
    "execution": {
     "iopub.execute_input": "2021-07-13T21:02:10.467624Z",
     "iopub.status.busy": "2021-07-13T21:02:10.466873Z",
     "iopub.status.idle": "2021-07-13T21:02:10.706405Z",
     "shell.execute_reply": "2021-07-13T21:02:10.705743Z",
     "shell.execute_reply.started": "2021-07-13T20:47:51.709939Z"
    },
    "papermill": {
     "duration": 0.250646,
     "end_time": "2021-07-13T21:02:10.706557",
     "exception": false,
     "start_time": "2021-07-13T21:02:10.455911",
     "status": "completed"
    },
    "tags": []
   },
   "outputs": [],
   "source": [
    "nnl_df = pd.read_csv('../input/model-18/nnl_df.csv') # Прогноз NasNetLarge на test\n",
    "x_df = pd.read_csv('../input/model-18/x_df.csv') # Прогноз Xception на test\n",
    "preds_nnl_df = pd.read_csv('../input/model-18/preds_nnl_df.csv') # Прогноз NasNetLarge на train\n",
    "preds_x_df = pd.read_csv('../input/model-18/preds_x_df.csv') # Прогноз Xception на train\n",
    "train_true_df = pd.read_csv('../input/model-18/train_true_df.csv') # Истинные классы на train"
   ]
  },
  {
   "cell_type": "code",
   "execution_count": 3,
   "id": "ee3a427e",
   "metadata": {
    "execution": {
     "iopub.execute_input": "2021-07-13T21:02:10.721752Z",
     "iopub.status.busy": "2021-07-13T21:02:10.721097Z",
     "iopub.status.idle": "2021-07-13T21:02:10.726822Z",
     "shell.execute_reply": "2021-07-13T21:02:10.726283Z",
     "shell.execute_reply.started": "2021-07-13T20:57:08.269624Z"
    },
    "papermill": {
     "duration": 0.014415,
     "end_time": "2021-07-13T21:02:10.726968",
     "exception": false,
     "start_time": "2021-07-13T21:02:10.712553",
     "status": "completed"
    },
    "tags": []
   },
   "outputs": [],
   "source": [
    "cols = list(nnl_df.columns)[:-1]\n",
    "\n",
    "def acc(x):\n",
    "    return accuracy_score(train_true_df['Class'], np.argmax((preds_x_df[cols] + x * preds_nnl_df[cols]).values, axis=-1))"
   ]
  },
  {
   "cell_type": "markdown",
   "id": "0ddc0a58",
   "metadata": {},
   "source": [
    "### Судя по графику, оптимальный вес для прогнозов NasNetLarge находится в диапазоне от 1 до 5 - возможно, это эффект объединения выборки для обучения и валидации\n",
    "### Серия сабмитов говорит в пользу диапазона от 8 до 12"
   ]
  },
  {
   "cell_type": "code",
   "execution_count": 4,
   "id": "3fd6ffeb",
   "metadata": {
    "execution": {
     "iopub.execute_input": "2021-07-13T21:02:10.742103Z",
     "iopub.status.busy": "2021-07-13T21:02:10.741420Z",
     "iopub.status.idle": "2021-07-13T21:02:11.836505Z",
     "shell.execute_reply": "2021-07-13T21:02:11.835972Z",
     "shell.execute_reply.started": "2021-07-13T20:58:11.653372Z"
    },
    "papermill": {
     "duration": 1.103737,
     "end_time": "2021-07-13T21:02:11.836666",
     "exception": false,
     "start_time": "2021-07-13T21:02:10.732929",
     "status": "completed"
    },
    "tags": []
   },
   "outputs": [
    {
     "data": {
      "image/png": "[encoded data removed]",
      "text/plain": [
       "<Figure size 432x288 with 1 Axes>"
      ]
     },
     "metadata": {
      "needs_background": "light"
     },
     "output_type": "display_data"
    }
   ],
   "source": [
    "t = np.arange(0,20,0.1)\n",
    "y = [acc(x) for x in t]\n",
    "weight = t[np.argmax(y)]\n",
    "plt.plot(t, y);"
   ]
  },
  {
   "cell_type": "code",
   "execution_count": 5,
   "id": "c37d57a6",
   "metadata": {
    "execution": {
     "iopub.execute_input": "2021-07-13T21:02:11.858930Z",
     "iopub.status.busy": "2021-07-13T21:02:11.858271Z",
     "iopub.status.idle": "2021-07-13T21:02:11.906370Z",
     "shell.execute_reply": "2021-07-13T21:02:11.905715Z",
     "shell.execute_reply.started": "2021-07-13T20:59:09.475341Z"
    },
    "papermill": {
     "duration": 0.062494,
     "end_time": "2021-07-13T21:02:11.906510",
     "exception": false,
     "start_time": "2021-07-13T21:02:11.844016",
     "status": "completed"
    },
    "tags": []
   },
   "outputs": [
    {
     "data": {
      "text/html": [
       "<div>\n",
       "<style scoped>\n",
       "    .dataframe tbody tr th:only-of-type {\n",
       "        vertical-align: middle;\n",
       "    }\n",
       "\n",
       "    .dataframe tbody tr th {\n",
       "        vertical-align: top;\n",
       "    }\n",
       "\n",
       "    .dataframe thead th {\n",
       "        text-align: right;\n",
       "    }\n",
       "</style>\n",
       "<table border=\"1\" class=\"dataframe\">\n",
       "  <thead>\n",
       "    <tr style=\"text-align: right;\">\n",
       "      <th></th>\n",
       "      <th>Id</th>\n",
       "      <th>Category</th>\n",
       "    </tr>\n",
       "  </thead>\n",
       "  <tbody>\n",
       "    <tr>\n",
       "      <th>0</th>\n",
       "      <td>305108.jpg</td>\n",
       "      <td>7</td>\n",
       "    </tr>\n",
       "    <tr>\n",
       "      <th>1</th>\n",
       "      <td>295075.jpg</td>\n",
       "      <td>6</td>\n",
       "    </tr>\n",
       "    <tr>\n",
       "      <th>2</th>\n",
       "      <td>31197.jpg</td>\n",
       "      <td>4</td>\n",
       "    </tr>\n",
       "    <tr>\n",
       "      <th>3</th>\n",
       "      <td>93598.jpg</td>\n",
       "      <td>9</td>\n",
       "    </tr>\n",
       "    <tr>\n",
       "      <th>4</th>\n",
       "      <td>87877.jpg</td>\n",
       "      <td>7</td>\n",
       "    </tr>\n",
       "  </tbody>\n",
       "</table>\n",
       "</div>"
      ],
      "text/plain": [
       "           Id Category\n",
       "0  305108.jpg        7\n",
       "1  295075.jpg        6\n",
       "2   31197.jpg        4\n",
       "3   93598.jpg        9\n",
       "4   87877.jpg        7"
      ]
     },
     "execution_count": 5,
     "metadata": {},
     "output_type": "execute_result"
    }
   ],
   "source": [
    "cols = list(nnl_df.columns)[:-1]\n",
    "weight = 10\n",
    "submission = pd.DataFrame({'Id': nnl_df['Id'], 'Category': (weight * nnl_df[cols] + x_df[cols]).idxmax(axis = 1)})\n",
    "submission.to_csv('submission.csv', index=False)\n",
    "submission.head()"
   ]
  }
 ],
 "metadata": {
  "kernelspec": {
   "display_name": "Python 3",
   "language": "python",
   "name": "python3"
  },
  "language_info": {
   "codemirror_mode": {
    "name": "ipython",
    "version": 3
   },
   "file_extension": ".py",
   "mimetype": "text/x-python",
   "name": "python",
   "nbconvert_exporter": "python",
   "pygments_lexer": "ipython3",
   "version": "3.8.8"
  },
  "papermill": {
   "default_parameters": {},
   "duration": 11.656206,
   "end_time": "2021-07-13T21:02:12.623727",
   "environment_variables": {},
   "exception": null,
   "input_path": "__notebook__.ipynb",
   "output_path": "__notebook__.ipynb",
   "parameters": {},
   "start_time": "2021-07-13T21:02:00.967521",
   "version": "2.3.3"
  }
 },
 "nbformat": 4,
 "nbformat_minor": 5
}
